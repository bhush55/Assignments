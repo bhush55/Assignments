{
 "cells": [
  {
   "cell_type": "code",
   "execution_count": 54,
   "id": "b6cafa49-b276-42b8-bf75-6eea4ade88e7",
   "metadata": {},
   "outputs": [],
   "source": [
    "import numpy as np\n",
    "from scipy import stats"
   ]
  },
  {
   "cell_type": "code",
   "execution_count": 56,
   "id": "b27b4f9e-cce7-436d-b666-9e3e383f2020",
   "metadata": {},
   "outputs": [],
   "source": [
    "# Given :- Sample size = 25 , sample mean = 3050 , population mean = 600 , population std_dev = 25\n",
    "# Bombay hospitality Ltd. operated for exotic Norwegian dinners , and its franchise is all over New England\n",
    "# W :- Week "
   ]
  },
  {
   "cell_type": "markdown",
   "id": "7da2689b-c793-48db-9185-f7980c906b41",
   "metadata": {},
   "source": [
    "1. State the Hypotheses statement:-\n",
    "\n",
    " W = 1000 + 5X\n",
    " \n",
    " W = 1000 + 5*600\n",
    " \n",
    " W = 4000 \n",
    " \n",
    " Null Hypothesis :- μ = 4000 , accurately predicts the weekly operating cost.\n",
    " \n",
    " Alternative Hypothesis :- μ != 4000 , this cost model may no longer be accurate, as their observed weekly operating costs are higher."
   ]
  },
  {
   "cell_type": "markdown",
   "id": "63d0847e-4a43-466f-a5b1-5d1eab2257c4",
   "metadata": {},
   "source": [
    "2. Calculate the Test Statistic:-\n",
    "\n",
    "   As(=,!=) So it is 1 Sample 2 Tail Test and population standard deviation is given (Sigma=25).\n",
    "   so we are going to perform Z-distribution"
   ]
  },
  {
   "cell_type": "markdown",
   "id": "9058372c-38dc-47e6-abd8-493fbd0220cf",
   "metadata": {},
   "source": [
    "Formula for Z-distribution :- z = (x̄ - μ) / (σ / √n)\n",
    "\n",
    "x̄ is the sample mean\n",
    "\n",
    "μ is the population mean under the null hypothesis\n",
    "\n",
    "σ is the population standard deviation   \n",
    "\n",
    "n is the sample size\n",
    "\n",
    "x̄ = 3050 , μ  = 4000 , σ = 125 , n = 25"
   ]
  },
  {
   "cell_type": "code",
   "execution_count": 61,
   "id": "c3a23b00-2e7f-45af-9957-bd5de8bd428b",
   "metadata": {},
   "outputs": [
    {
     "data": {
      "text/plain": [
       "-38.0"
      ]
     },
     "execution_count": 61,
     "metadata": {},
     "output_type": "execute_result"
    }
   ],
   "source": [
    "z = (3050 - 4000) / (125/np.sqrt(25))\n",
    "z"
   ]
  },
  {
   "cell_type": "markdown",
   "id": "d52532a6-0b1d-44f3-bb7b-537b0ab8122f",
   "metadata": {},
   "source": [
    "calculated the Z-value = -3.8"
   ]
  },
  {
   "cell_type": "markdown",
   "id": "d5c92895-7e3a-4375-a650-a7ad9e468a4c",
   "metadata": {},
   "source": [
    "3 . Determine the Critical Value:- "
   ]
  },
  {
   "cell_type": "code",
   "execution_count": 65,
   "id": "2444e38d-f58c-41c1-89b4-148c73ccbf24",
   "metadata": {},
   "outputs": [],
   "source": [
    "alpha = 0.05"
   ]
  },
  {
   "cell_type": "code",
   "execution_count": 67,
   "id": "465140d8-fdb6-44d2-a28e-5e8d5ebd7c5e",
   "metadata": {},
   "outputs": [
    {
     "data": {
      "text/plain": [
       "1.959963984540054"
      ]
     },
     "execution_count": 67,
     "metadata": {},
     "output_type": "execute_result"
    }
   ],
   "source": [
    "critical_value = stats.norm.ppf(1 - alpha / 2)\n",
    "critical_value"
   ]
  },
  {
   "cell_type": "markdown",
   "id": "aecdc439-3811-49e4-9580-7e484cc46825",
   "metadata": {},
   "source": [
    "so the z value is -3.8 , but it is 2 tail test , therefore both the tails have to be calculated i.e(below -3.8 and above 3.8)\n",
    "\n",
    "now let 1 tail below -3.8 = p1 and 2nd tail above 3.8 = p2 , \n",
    "\n",
    "so total probability P=p1+p2 , \n",
    "\n",
    "as both the end tails are same , therefore p1=p2, so it can also be P = 2*p1 . "
   ]
  },
  {
   "cell_type": "code",
   "execution_count": 70,
   "id": "7b456c5c-c7cd-4765-a222-7e7da902844f",
   "metadata": {},
   "outputs": [
    {
     "data": {
      "text/plain": [
       "7.234804392511998e-05"
      ]
     },
     "execution_count": 70,
     "metadata": {},
     "output_type": "execute_result"
    }
   ],
   "source": [
    "P1 = stats.norm.cdf(-3.8)\n",
    "P1"
   ]
  },
  {
   "cell_type": "code",
   "execution_count": 72,
   "id": "a433adee-a847-4590-a20d-73dcbd74d5a8",
   "metadata": {},
   "outputs": [
    {
     "data": {
      "text/plain": [
       "0.00014469608785023995"
      ]
     },
     "execution_count": 72,
     "metadata": {},
     "output_type": "execute_result"
    }
   ],
   "source": [
    "P = P1*2\n",
    "P"
   ]
  },
  {
   "cell_type": "markdown",
   "id": "cd365419-fced-4851-9167-6feaa215a069",
   "metadata": {},
   "source": [
    "4. Make a Decision:-\n",
    "\n",
    "   IF P > 0.05 = Accept null hypothesis , reject alternate hypothesis\n",
    "\n",
    "   IF P < 0.05 = Accept alternate hypothesis , reject null hypothesis"
   ]
  },
  {
   "cell_type": "markdown",
   "id": "e4fe86c9-2f8e-49f6-a20d-1f42620bfbd1",
   "metadata": {},
   "source": [
    "Therefore  0.0001 < 0.05\n",
    "\n",
    "P < α  = Accept alternate hypothesis , reject null hypothesis\n",
    "\n",
    " "
   ]
  },
  {
   "cell_type": "code",
   "execution_count": 76,
   "id": "b6df8ffc-830d-4d1d-a8b4-f2258f2468d9",
   "metadata": {},
   "outputs": [
    {
     "data": {
      "text/plain": [
       "3.073118109106916e-229"
      ]
     },
     "execution_count": 76,
     "metadata": {},
     "output_type": "execute_result"
    }
   ],
   "source": [
    "stats.norm.cdf(-38,4000,125)"
   ]
  },
  {
   "cell_type": "markdown",
   "id": "80d1e38d-92b5-4566-8b58-35d6f7741fd9",
   "metadata": {},
   "source": [
    "3.073118109106916e-229  =  0\r\n",
    "\n",
    "therefore 0% wrong if  reject the null hypothesis "
   ]
  },
  {
   "cell_type": "markdown",
   "id": "f113920a-8874-4743-95a7-77cfaef8e9ce",
   "metadata": {},
   "source": [
    "5. Conclusion:- There is strong evidence to suggest that the actual mean weekly operating cost is significantly higher than the cost predicted by the theoretical model. The restaurant owners' concerns are justified, and the company should investigate the reasons for the increased costs and consider revising the cost model."
   ]
  },
  {
   "cell_type": "code",
   "execution_count": null,
   "id": "b9782651-c305-4472-ad01-a5bf7660766e",
   "metadata": {},
   "outputs": [],
   "source": []
  },
  {
   "cell_type": "code",
   "execution_count": null,
   "id": "279cfb2d-50ac-4242-a2d7-81a8eccf7ff5",
   "metadata": {},
   "outputs": [],
   "source": []
  }
 ],
 "metadata": {
  "kernelspec": {
   "display_name": "Python 3 (ipykernel)",
   "language": "python",
   "name": "python3"
  },
  "language_info": {
   "codemirror_mode": {
    "name": "ipython",
    "version": 3
   },
   "file_extension": ".py",
   "mimetype": "text/x-python",
   "name": "python",
   "nbconvert_exporter": "python",
   "pygments_lexer": "ipython3",
   "version": "3.12.4"
  }
 },
 "nbformat": 4,
 "nbformat_minor": 5
}
