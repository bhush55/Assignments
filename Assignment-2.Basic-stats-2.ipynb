{
 "cells": [
  {
   "cell_type": "code",
   "execution_count": 3,
   "id": "3a15a74e-fc39-4e47-a9af-4bdad02ed5f5",
   "metadata": {},
   "outputs": [],
   "source": [
    "from scipy import stats \n",
    "import pandas as pd \n",
    "import numpy as np"
   ]
  },
  {
   "cell_type": "markdown",
   "id": "944bf75d-1b8e-423a-8181-65ab16e8e5d0",
   "metadata": {},
   "source": [
    "## Build 99% Confidence Interval Using Sample Standard Deviation\n"
   ]
  },
  {
   "cell_type": "code",
   "execution_count": 5,
   "id": "034484a3-31af-4d74-aded-d6cbbb82ffe6",
   "metadata": {},
   "outputs": [],
   "source": [
    "df=np.array([1.13, 1.55, 1.43, 0.92, 1.25, 1.36, 1.32, 0.85, 1.07, 1.48, 1.20, 1.33, 1.18, 1.22, 1.29])"
   ]
  },
  {
   "cell_type": "code",
   "execution_count": 6,
   "id": "678c7473-7052-4f7c-81e3-609fb5bd0f1a",
   "metadata": {},
   "outputs": [
    {
     "data": {
      "text/plain": [
       "array([1.13, 1.55, 1.43, 0.92, 1.25, 1.36, 1.32, 0.85, 1.07, 1.48, 1.2 ,\n",
       "       1.33, 1.18, 1.22, 1.29])"
      ]
     },
     "execution_count": 6,
     "metadata": {},
     "output_type": "execute_result"
    }
   ],
   "source": [
    "df"
   ]
  },
  {
   "cell_type": "code",
   "execution_count": 7,
   "id": "39824456-11a4-4581-9240-017675cd9d72",
   "metadata": {},
   "outputs": [],
   "source": [
    "d= len(df)"
   ]
  },
  {
   "cell_type": "code",
   "execution_count": 8,
   "id": "6c6ff4af-e61c-411c-98e9-81a4e02fcd5d",
   "metadata": {},
   "outputs": [
    {
     "data": {
      "text/plain": [
       "15"
      ]
     },
     "execution_count": 8,
     "metadata": {},
     "output_type": "execute_result"
    }
   ],
   "source": [
    "d"
   ]
  },
  {
   "cell_type": "code",
   "execution_count": 9,
   "id": "2983232c-f469-4dcd-b158-48745c750e41",
   "metadata": {},
   "outputs": [],
   "source": [
    "t_dis=stats.t.interval(0.99,14,\n",
    "                             loc = df.mean(),\n",
    "                             scale = df.std())"
   ]
  },
  {
   "cell_type": "code",
   "execution_count": 10,
   "id": "2db83d3d-e10a-4cd7-961b-f5f52d87db2a",
   "metadata": {},
   "outputs": [
    {
     "name": "stdout",
     "output_type": "stream",
     "text": [
      "(np.float64(0.6831453079923472), np.float64(1.7941880253409859))\n"
     ]
    }
   ],
   "source": [
    "print(t_dis)"
   ]
  },
  {
   "cell_type": "code",
   "execution_count": 11,
   "id": "c51e7d5b-d6f1-4dc7-8ff1-3b4d77ff348e",
   "metadata": {},
   "outputs": [
    {
     "name": "stdout",
     "output_type": "stream",
     "text": [
      "Mean at 99% confidence interval is: [0.6831 1.7942]\n"
     ]
    }
   ],
   "source": [
    "print( 'Mean at 99% confidence interval is:', np.round(t_dis, 4))"
   ]
  },
  {
   "cell_type": "code",
   "execution_count": 12,
   "id": "06bdc132-7a83-4195-bc6d-a983fd5a4b52",
   "metadata": {},
   "outputs": [
    {
     "data": {
      "text/plain": [
       "np.float64(2.624494067560231)"
      ]
     },
     "execution_count": 12,
     "metadata": {},
     "output_type": "execute_result"
    }
   ],
   "source": [
    "stats.t.ppf(0.99,14)"
   ]
  },
  {
   "cell_type": "code",
   "execution_count": 27,
   "id": "a1577085-fdb1-4c82-9184-58bfa5f1c553",
   "metadata": {},
   "outputs": [],
   "source": [
    "# we have to use t distribution as we dont know sigma for that we a function that is ,stats.t.interval "
   ]
  },
  {
   "cell_type": "markdown",
   "id": "76d2c074-8999-44b3-87cc-fa009abecefc",
   "metadata": {},
   "source": [
    "## Build 99% Confidence Interval Using Known Population Standard Deviation"
   ]
  },
  {
   "cell_type": "code",
   "execution_count": 14,
   "id": "a58e8031-8567-4b74-b519-247e9a062bf8",
   "metadata": {},
   "outputs": [],
   "source": [
    "# Population Standard Deviation is known and that is 0.2"
   ]
  },
  {
   "cell_type": "code",
   "execution_count": 15,
   "id": "e57765ce-9aa2-43de-9f49-7be9b973470c",
   "metadata": {},
   "outputs": [],
   "source": [
    "df_std = 0.2"
   ]
  },
  {
   "cell_type": "code",
   "execution_count": 25,
   "id": "7c9ff5c7-240e-4274-a80d-bd8204ea4e57",
   "metadata": {},
   "outputs": [
    {
     "name": "stdout",
     "output_type": "stream",
     "text": [
      "(np.float64(0.7235008059568865), np.float64(1.7538325273764466))\n",
      "Mean at 99% confidence interval is: [0.7235 1.7538]\n"
     ]
    }
   ],
   "source": [
    "#Find confidence interval first using normal distribution\n",
    "# here stats.norm.interval() will give you directly conf.interval for 95 % confidence. No need to do other calculations.\n",
    "z_dis = stats.norm.interval(0.99,\n",
    "loc = df.mean(),\n",
    "scale = 0.2)\n",
    "print(z_dis)\n",
    "print( 'Mean at 99% confidence interval is:', np.round(z_dis, 4))"
   ]
  },
  {
   "cell_type": "code",
   "execution_count": null,
   "id": "9c58c261-cb71-4ef9-b3b4-3098bdc0c9fe",
   "metadata": {},
   "outputs": [],
   "source": []
  },
  {
   "cell_type": "code",
   "execution_count": null,
   "id": "aaabf25d-090b-48de-a5a4-c840a15124dd",
   "metadata": {},
   "outputs": [],
   "source": []
  }
 ],
 "metadata": {
  "kernelspec": {
   "display_name": "Python 3 (ipykernel)",
   "language": "python",
   "name": "python3"
  },
  "language_info": {
   "codemirror_mode": {
    "name": "ipython",
    "version": 3
   },
   "file_extension": ".py",
   "mimetype": "text/x-python",
   "name": "python",
   "nbconvert_exporter": "python",
   "pygments_lexer": "ipython3",
   "version": "3.12.4"
  }
 },
 "nbformat": 4,
 "nbformat_minor": 5
}
