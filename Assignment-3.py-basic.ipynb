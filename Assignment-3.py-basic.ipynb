{
 "cells": [
  {
   "cell_type": "markdown",
   "id": "ca6308cc-d0d8-4477-b5a8-a1227e60e8e3",
   "metadata": {},
   "source": [
    "## Exercise 1: Prime Numbers\n",
    "#Write a Python program that checks whether a given number is prime or not. \n",
    "#A prime number is a natural number greater than 1 that has no positive divisors other than 1 and itself.\n",
    "import numpy as np"
   ]
  },
  {
   "cell_type": "code",
   "execution_count": 1,
   "id": "35e68c62-8a0c-4700-b948-8687093d9bae",
   "metadata": {},
   "outputs": [
    {
     "name": "stdin",
     "output_type": "stream",
     "text": [
      "enter a number 7\n"
     ]
    },
    {
     "name": "stdout",
     "output_type": "stream",
     "text": [
      "Number is a Prime NUmber\n"
     ]
    }
   ],
   "source": [
    "num = int(input(\"enter a number\"));\n",
    "for i in range(2,num):\n",
    "    if num % i == 0:\n",
    "        print(\"Number is not a Prime Number\")\n",
    "        break\n",
    "    else:\n",
    "        print(\"Number is a Prime NUmber\")\n",
    "        break\n"
   ]
  },
  {
   "cell_type": "markdown",
   "id": "49c3f9ff-37be-4520-a318-9d6071f278e5",
   "metadata": {},
   "source": [
    "## Exercise 2: Product of Random Numbers\n",
    "#Develop a Python program that generates two random numbers and asks the user to enter the product of these numbers \n",
    "#The program should then check ifthe user's answer is correct and display an appropriate message.\n",
    "import random"
   ]
  },
  {
   "cell_type": "code",
   "execution_count": 8,
   "id": "619ae441-ea92-4c1e-abaf-8f64e74a292e",
   "metadata": {},
   "outputs": [],
   "source": [
    "import random\n",
    "x = random.randint(1,10)\n",
    "y = random.randint(1,10)\n",
    "\n",
    "\n"
   ]
  },
  {
   "cell_type": "code",
   "execution_count": 10,
   "id": "d85edb49-8a90-4a0e-b3b7-6b0593896092",
   "metadata": {},
   "outputs": [
    {
     "data": {
      "text/plain": [
       "7"
      ]
     },
     "execution_count": 10,
     "metadata": {},
     "output_type": "execute_result"
    }
   ],
   "source": [
    "\n",
    "y"
   ]
  },
  {
   "cell_type": "code",
   "execution_count": 12,
   "id": "f1a20e9c-ce58-4e13-a5c1-a3112869443e",
   "metadata": {},
   "outputs": [
    {
     "data": {
      "text/plain": [
       "7"
      ]
     },
     "execution_count": 12,
     "metadata": {},
     "output_type": "execute_result"
    }
   ],
   "source": [
    "x\n"
   ]
  },
  {
   "cell_type": "code",
   "execution_count": 14,
   "id": "3a49f0cf-c5bf-4fab-83fb-13db3a6609bd",
   "metadata": {},
   "outputs": [
    {
     "name": "stdin",
     "output_type": "stream",
     "text": [
      "enter the product of x and y :  45\n"
     ]
    },
    {
     "name": "stdout",
     "output_type": "stream",
     "text": [
      "shame on u ,u trash\n"
     ]
    }
   ],
   "source": [
    "z = int(input(\"enter the product of x and y : \"));\n",
    "if(z==x*y):\n",
    "    print(\"good job answer is correct\");\n",
    "else:\n",
    "    print(\"shame on u ,u trash\");\n",
    "    \n"
   ]
  },
  {
   "cell_type": "markdown",
   "id": "bdf72683-984b-411c-a93e-89f0402c6a0e",
   "metadata": {},
   "source": [
    "## Exercise 3: Squares of Even/Odd Numbers\n",
    "#Create a Python script that prints the squares of all even or odd numbers within the range of 100 to 200.\n",
    "#Choose either even or odd numbers and document your choice in the code."
   ]
  },
  {
   "cell_type": "code",
   "execution_count": 13,
   "id": "8d15c6a5-1fb9-4e99-ad3a-62300078a3c6",
   "metadata": {},
   "outputs": [
    {
     "name": "stdout",
     "output_type": "stream",
     "text": [
      "number is even 100 and squre is 10000\n",
      "number is odd 101 and squre is  10201\n",
      "number is even 102 and squre is 10404\n",
      "number is odd 103 and squre is  10609\n",
      "number is even 104 and squre is 10816\n",
      "number is odd 105 and squre is  11025\n",
      "number is even 106 and squre is 11236\n",
      "number is odd 107 and squre is  11449\n",
      "number is even 108 and squre is 11664\n",
      "number is odd 109 and squre is  11881\n",
      "number is even 110 and squre is 12100\n",
      "number is odd 111 and squre is  12321\n",
      "number is even 112 and squre is 12544\n",
      "number is odd 113 and squre is  12769\n",
      "number is even 114 and squre is 12996\n",
      "number is odd 115 and squre is  13225\n",
      "number is even 116 and squre is 13456\n",
      "number is odd 117 and squre is  13689\n",
      "number is even 118 and squre is 13924\n",
      "number is odd 119 and squre is  14161\n",
      "number is even 120 and squre is 14400\n",
      "number is odd 121 and squre is  14641\n",
      "number is even 122 and squre is 14884\n",
      "number is odd 123 and squre is  15129\n",
      "number is even 124 and squre is 15376\n",
      "number is odd 125 and squre is  15625\n",
      "number is even 126 and squre is 15876\n",
      "number is odd 127 and squre is  16129\n",
      "number is even 128 and squre is 16384\n",
      "number is odd 129 and squre is  16641\n",
      "number is even 130 and squre is 16900\n",
      "number is odd 131 and squre is  17161\n",
      "number is even 132 and squre is 17424\n",
      "number is odd 133 and squre is  17689\n",
      "number is even 134 and squre is 17956\n",
      "number is odd 135 and squre is  18225\n",
      "number is even 136 and squre is 18496\n",
      "number is odd 137 and squre is  18769\n",
      "number is even 138 and squre is 19044\n",
      "number is odd 139 and squre is  19321\n",
      "number is even 140 and squre is 19600\n",
      "number is odd 141 and squre is  19881\n",
      "number is even 142 and squre is 20164\n",
      "number is odd 143 and squre is  20449\n",
      "number is even 144 and squre is 20736\n",
      "number is odd 145 and squre is  21025\n",
      "number is even 146 and squre is 21316\n",
      "number is odd 147 and squre is  21609\n",
      "number is even 148 and squre is 21904\n",
      "number is odd 149 and squre is  22201\n",
      "number is even 150 and squre is 22500\n",
      "number is odd 151 and squre is  22801\n",
      "number is even 152 and squre is 23104\n",
      "number is odd 153 and squre is  23409\n",
      "number is even 154 and squre is 23716\n",
      "number is odd 155 and squre is  24025\n",
      "number is even 156 and squre is 24336\n",
      "number is odd 157 and squre is  24649\n",
      "number is even 158 and squre is 24964\n",
      "number is odd 159 and squre is  25281\n",
      "number is even 160 and squre is 25600\n",
      "number is odd 161 and squre is  25921\n",
      "number is even 162 and squre is 26244\n",
      "number is odd 163 and squre is  26569\n",
      "number is even 164 and squre is 26896\n",
      "number is odd 165 and squre is  27225\n",
      "number is even 166 and squre is 27556\n",
      "number is odd 167 and squre is  27889\n",
      "number is even 168 and squre is 28224\n",
      "number is odd 169 and squre is  28561\n",
      "number is even 170 and squre is 28900\n",
      "number is odd 171 and squre is  29241\n",
      "number is even 172 and squre is 29584\n",
      "number is odd 173 and squre is  29929\n",
      "number is even 174 and squre is 30276\n",
      "number is odd 175 and squre is  30625\n",
      "number is even 176 and squre is 30976\n",
      "number is odd 177 and squre is  31329\n",
      "number is even 178 and squre is 31684\n",
      "number is odd 179 and squre is  32041\n",
      "number is even 180 and squre is 32400\n",
      "number is odd 181 and squre is  32761\n",
      "number is even 182 and squre is 33124\n",
      "number is odd 183 and squre is  33489\n",
      "number is even 184 and squre is 33856\n",
      "number is odd 185 and squre is  34225\n",
      "number is even 186 and squre is 34596\n",
      "number is odd 187 and squre is  34969\n",
      "number is even 188 and squre is 35344\n",
      "number is odd 189 and squre is  35721\n",
      "number is even 190 and squre is 36100\n",
      "number is odd 191 and squre is  36481\n",
      "number is even 192 and squre is 36864\n",
      "number is odd 193 and squre is  37249\n",
      "number is even 194 and squre is 37636\n",
      "number is odd 195 and squre is  38025\n",
      "number is even 196 and squre is 38416\n",
      "number is odd 197 and squre is  38809\n",
      "number is even 198 and squre is 39204\n",
      "number is odd 199 and squre is  39601\n",
      "number is even 200 and squre is 40000\n"
     ]
    }
   ],
   "source": [
    "a=100\n",
    "b=200\n",
    "for i in range (a,b+1):\n",
    "    if (i%2==0):\n",
    "        print(\"number is even\",i,\"and squre is\",i*i);\n",
    "    else:\n",
    "        print(\"number is odd\",i,\"and squre is \",i*i);"
   ]
  },
  {
   "cell_type": "markdown",
   "id": "c7976502-43cf-410a-991e-253f5aeeef38",
   "metadata": {},
   "source": [
    "## Exercise 4:\n",
    "write a program to count the number of words in a given text.\n",
    "#input_text = \"This is a sample text. This text will be used to demonstrate the word counter.\""
   ]
  },
  {
   "cell_type": "code",
   "execution_count": 15,
   "id": "1ac7ebed-9a44-4b72-8b9b-41736a51e06c",
   "metadata": {},
   "outputs": [
    {
     "name": "stdout",
     "output_type": "stream",
     "text": [
      "'this': 2\n",
      "'is': 1\n",
      "'a': 1\n",
      "'sample': 1\n",
      "'text': 2\n",
      "'will': 1\n",
      "'be': 1\n",
      "'used': 1\n",
      "'to': 1\n",
      "'demonstrate': 1\n",
      "'the': 1\n",
      "'word': 1\n",
      "'counter': 1\n"
     ]
    }
   ],
   "source": [
    "import string\n",
    "input_text = \"This is a sample text. This text will be used to demonstrate the word counter.\"\n",
    "\n",
    "input_text = input_text.lower()\n",
    "\n",
    "input_text = input_text.translate(str.maketrans(\"\", \"\", string.punctuation))\n",
    "words = input_text.split()\n",
    "word_count = {}\n",
    "\n",
    "for word in words:\n",
    "    if word in word_count:\n",
    "        word_count[word] += 1  \n",
    "    else:\n",
    "        word_count[word] = 1 \n",
    "\n",
    "for word, count in word_count.items():\n",
    "    print(f\"'{word}': {count}\")\n",
    "\n",
    "    \n",
    "    "
   ]
  },
  {
   "cell_type": "code",
   "execution_count": null,
   "id": "30459295-2e83-409d-afb9-88762ff5afab",
   "metadata": {},
   "outputs": [],
   "source": []
  },
  {
   "cell_type": "markdown",
   "id": "e580197b-d39e-4f9a-9987-b40fd706fb8d",
   "metadata": {},
   "source": [
    "## Exercise 5: Check for Palindrome\n",
    "#Write a Python function called is_palindrome that takes a string as input and returns True if the string is a palindrome, and False otherwise.\n",
    "#A palindrome is a word, phrase, number, or other sequence of characters that reads the same forward and backward, ignoring spaces,\n",
    "#punctuation, and capitalization.\n",
    "\n"
   ]
  },
  {
   "cell_type": "code",
   "execution_count": 17,
   "id": "4abfa8cf-b94c-41d9-9807-cd52060a72f3",
   "metadata": {},
   "outputs": [
    {
     "name": "stdin",
     "output_type": "stream",
     "text": [
      " Enter your Word or Number   1001\n"
     ]
    },
    {
     "name": "stdout",
     "output_type": "stream",
     "text": [
      "Is a palindrome \n"
     ]
    }
   ],
   "source": [
    "x = input(\" Enter your Word or Number  \");\n",
    "y=x[-1::-1]\n",
    "if(x==y):\n",
    "    print(\"Is a palindrome \");\n",
    "else:\n",
    "    print(\"Not a palindrome \");"
   ]
  },
  {
   "cell_type": "code",
   "execution_count": null,
   "id": "89b1d31c-1e98-44ca-a6b9-58f520125146",
   "metadata": {},
   "outputs": [],
   "source": []
  }
 ],
 "metadata": {
  "kernelspec": {
   "display_name": "Python 3 (ipykernel)",
   "language": "python",
   "name": "python3"
  },
  "language_info": {
   "codemirror_mode": {
    "name": "ipython",
    "version": 3
   },
   "file_extension": ".py",
   "mimetype": "text/x-python",
   "name": "python",
   "nbconvert_exporter": "python",
   "pygments_lexer": "ipython3",
   "version": "3.12.4"
  }
 },
 "nbformat": 4,
 "nbformat_minor": 5
}
