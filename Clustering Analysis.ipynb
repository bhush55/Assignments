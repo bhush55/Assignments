{
 "cells": [
  {
   "cell_type": "code",
   "execution_count": 1,
   "id": "f440fd4e-0872-41d6-81f1-c9e82f125ce5",
   "metadata": {},
   "outputs": [],
   "source": [
    "import pandas as pd\n",
    "import numpy as np\n",
    "import matplotlib.pyplot as plt \n",
    "import seaborn as sns\n",
    "from sklearn.preprocessing import StandardScaler \n"
   ]
  },
  {
   "cell_type": "markdown",
   "id": "5359194f-9e23-450d-8a95-3da695f0b287",
   "metadata": {},
   "source": [
    "Data Preprocessing:\n",
    "\n",
    "\r\n",
    "1.\tPreprocess the dataset to handle missing values, remove outliers, and scale the features if necessary\n",
    ".3\n",
    "2.\tPerform exploratory data analysis (EDA) to gain insights into the distribution of data and identify potential cluster\n",
    "s5\r\n",
    "3.\tUse multiple visualizations to understand the hidden patterns in the dataset\r\n"
   ]
  },
  {
   "cell_type": "code",
   "execution_count": 4,
   "id": "c15c4da5-ab28-4b5c-959c-b8dc5fd32946",
   "metadata": {},
   "outputs": [
    {
     "data": {
      "text/html": [
       "<div>\n",
       "<style scoped>\n",
       "    .dataframe tbody tr th:only-of-type {\n",
       "        vertical-align: middle;\n",
       "    }\n",
       "\n",
       "    .dataframe tbody tr th {\n",
       "        vertical-align: top;\n",
       "    }\n",
       "\n",
       "    .dataframe thead th {\n",
       "        text-align: right;\n",
       "    }\n",
       "</style>\n",
       "<table border=\"1\" class=\"dataframe\">\n",
       "  <thead>\n",
       "    <tr style=\"text-align: right;\">\n",
       "      <th></th>\n",
       "      <th>ID#</th>\n",
       "      <th>Balance</th>\n",
       "      <th>Qual_miles</th>\n",
       "      <th>cc1_miles</th>\n",
       "      <th>cc2_miles</th>\n",
       "      <th>cc3_miles</th>\n",
       "      <th>Bonus_miles</th>\n",
       "      <th>Bonus_trans</th>\n",
       "      <th>Flight_miles_12mo</th>\n",
       "      <th>Flight_trans_12</th>\n",
       "      <th>Days_since_enroll</th>\n",
       "      <th>Award?</th>\n",
       "    </tr>\n",
       "  </thead>\n",
       "  <tbody>\n",
       "    <tr>\n",
       "      <th>0</th>\n",
       "      <td>1</td>\n",
       "      <td>28143</td>\n",
       "      <td>0</td>\n",
       "      <td>1</td>\n",
       "      <td>1</td>\n",
       "      <td>1</td>\n",
       "      <td>174</td>\n",
       "      <td>1</td>\n",
       "      <td>0</td>\n",
       "      <td>0</td>\n",
       "      <td>7000</td>\n",
       "      <td>0</td>\n",
       "    </tr>\n",
       "    <tr>\n",
       "      <th>1</th>\n",
       "      <td>2</td>\n",
       "      <td>19244</td>\n",
       "      <td>0</td>\n",
       "      <td>1</td>\n",
       "      <td>1</td>\n",
       "      <td>1</td>\n",
       "      <td>215</td>\n",
       "      <td>2</td>\n",
       "      <td>0</td>\n",
       "      <td>0</td>\n",
       "      <td>6968</td>\n",
       "      <td>0</td>\n",
       "    </tr>\n",
       "    <tr>\n",
       "      <th>2</th>\n",
       "      <td>3</td>\n",
       "      <td>41354</td>\n",
       "      <td>0</td>\n",
       "      <td>1</td>\n",
       "      <td>1</td>\n",
       "      <td>1</td>\n",
       "      <td>4123</td>\n",
       "      <td>4</td>\n",
       "      <td>0</td>\n",
       "      <td>0</td>\n",
       "      <td>7034</td>\n",
       "      <td>0</td>\n",
       "    </tr>\n",
       "    <tr>\n",
       "      <th>3</th>\n",
       "      <td>4</td>\n",
       "      <td>14776</td>\n",
       "      <td>0</td>\n",
       "      <td>1</td>\n",
       "      <td>1</td>\n",
       "      <td>1</td>\n",
       "      <td>500</td>\n",
       "      <td>1</td>\n",
       "      <td>0</td>\n",
       "      <td>0</td>\n",
       "      <td>6952</td>\n",
       "      <td>0</td>\n",
       "    </tr>\n",
       "    <tr>\n",
       "      <th>4</th>\n",
       "      <td>5</td>\n",
       "      <td>97752</td>\n",
       "      <td>0</td>\n",
       "      <td>4</td>\n",
       "      <td>1</td>\n",
       "      <td>1</td>\n",
       "      <td>43300</td>\n",
       "      <td>26</td>\n",
       "      <td>2077</td>\n",
       "      <td>4</td>\n",
       "      <td>6935</td>\n",
       "      <td>1</td>\n",
       "    </tr>\n",
       "    <tr>\n",
       "      <th>...</th>\n",
       "      <td>...</td>\n",
       "      <td>...</td>\n",
       "      <td>...</td>\n",
       "      <td>...</td>\n",
       "      <td>...</td>\n",
       "      <td>...</td>\n",
       "      <td>...</td>\n",
       "      <td>...</td>\n",
       "      <td>...</td>\n",
       "      <td>...</td>\n",
       "      <td>...</td>\n",
       "      <td>...</td>\n",
       "    </tr>\n",
       "    <tr>\n",
       "      <th>3994</th>\n",
       "      <td>4017</td>\n",
       "      <td>18476</td>\n",
       "      <td>0</td>\n",
       "      <td>1</td>\n",
       "      <td>1</td>\n",
       "      <td>1</td>\n",
       "      <td>8525</td>\n",
       "      <td>4</td>\n",
       "      <td>200</td>\n",
       "      <td>1</td>\n",
       "      <td>1403</td>\n",
       "      <td>1</td>\n",
       "    </tr>\n",
       "    <tr>\n",
       "      <th>3995</th>\n",
       "      <td>4018</td>\n",
       "      <td>64385</td>\n",
       "      <td>0</td>\n",
       "      <td>1</td>\n",
       "      <td>1</td>\n",
       "      <td>1</td>\n",
       "      <td>981</td>\n",
       "      <td>5</td>\n",
       "      <td>0</td>\n",
       "      <td>0</td>\n",
       "      <td>1395</td>\n",
       "      <td>1</td>\n",
       "    </tr>\n",
       "    <tr>\n",
       "      <th>3996</th>\n",
       "      <td>4019</td>\n",
       "      <td>73597</td>\n",
       "      <td>0</td>\n",
       "      <td>3</td>\n",
       "      <td>1</td>\n",
       "      <td>1</td>\n",
       "      <td>25447</td>\n",
       "      <td>8</td>\n",
       "      <td>0</td>\n",
       "      <td>0</td>\n",
       "      <td>1402</td>\n",
       "      <td>1</td>\n",
       "    </tr>\n",
       "    <tr>\n",
       "      <th>3997</th>\n",
       "      <td>4020</td>\n",
       "      <td>54899</td>\n",
       "      <td>0</td>\n",
       "      <td>1</td>\n",
       "      <td>1</td>\n",
       "      <td>1</td>\n",
       "      <td>500</td>\n",
       "      <td>1</td>\n",
       "      <td>500</td>\n",
       "      <td>1</td>\n",
       "      <td>1401</td>\n",
       "      <td>0</td>\n",
       "    </tr>\n",
       "    <tr>\n",
       "      <th>3998</th>\n",
       "      <td>4021</td>\n",
       "      <td>3016</td>\n",
       "      <td>0</td>\n",
       "      <td>1</td>\n",
       "      <td>1</td>\n",
       "      <td>1</td>\n",
       "      <td>0</td>\n",
       "      <td>0</td>\n",
       "      <td>0</td>\n",
       "      <td>0</td>\n",
       "      <td>1398</td>\n",
       "      <td>0</td>\n",
       "    </tr>\n",
       "  </tbody>\n",
       "</table>\n",
       "<p>3999 rows × 12 columns</p>\n",
       "</div>"
      ],
      "text/plain": [
       "       ID#  Balance  Qual_miles  cc1_miles  cc2_miles  cc3_miles  Bonus_miles  \\\n",
       "0        1    28143           0          1          1          1          174   \n",
       "1        2    19244           0          1          1          1          215   \n",
       "2        3    41354           0          1          1          1         4123   \n",
       "3        4    14776           0          1          1          1          500   \n",
       "4        5    97752           0          4          1          1        43300   \n",
       "...    ...      ...         ...        ...        ...        ...          ...   \n",
       "3994  4017    18476           0          1          1          1         8525   \n",
       "3995  4018    64385           0          1          1          1          981   \n",
       "3996  4019    73597           0          3          1          1        25447   \n",
       "3997  4020    54899           0          1          1          1          500   \n",
       "3998  4021     3016           0          1          1          1            0   \n",
       "\n",
       "      Bonus_trans  Flight_miles_12mo  Flight_trans_12  Days_since_enroll  \\\n",
       "0               1                  0                0               7000   \n",
       "1               2                  0                0               6968   \n",
       "2               4                  0                0               7034   \n",
       "3               1                  0                0               6952   \n",
       "4              26               2077                4               6935   \n",
       "...           ...                ...              ...                ...   \n",
       "3994            4                200                1               1403   \n",
       "3995            5                  0                0               1395   \n",
       "3996            8                  0                0               1402   \n",
       "3997            1                500                1               1401   \n",
       "3998            0                  0                0               1398   \n",
       "\n",
       "      Award?  \n",
       "0          0  \n",
       "1          0  \n",
       "2          0  \n",
       "3          0  \n",
       "4          1  \n",
       "...      ...  \n",
       "3994       1  \n",
       "3995       1  \n",
       "3996       1  \n",
       "3997       0  \n",
       "3998       0  \n",
       "\n",
       "[3999 rows x 12 columns]"
      ]
     },
     "execution_count": 4,
     "metadata": {},
     "output_type": "execute_result"
    }
   ],
   "source": [
    "df = pd.read_csv('EastWestAirlines1.csv')\n",
    "df"
   ]
  },
  {
   "cell_type": "code",
   "execution_count": 6,
   "id": "d7cb0c0a-f00e-4fb0-9a67-c388604ae02f",
   "metadata": {},
   "outputs": [
    {
     "data": {
      "text/html": [
       "<div>\n",
       "<style scoped>\n",
       "    .dataframe tbody tr th:only-of-type {\n",
       "        vertical-align: middle;\n",
       "    }\n",
       "\n",
       "    .dataframe tbody tr th {\n",
       "        vertical-align: top;\n",
       "    }\n",
       "\n",
       "    .dataframe thead th {\n",
       "        text-align: right;\n",
       "    }\n",
       "</style>\n",
       "<table border=\"1\" class=\"dataframe\">\n",
       "  <thead>\n",
       "    <tr style=\"text-align: right;\">\n",
       "      <th></th>\n",
       "      <th>ID#</th>\n",
       "      <th>Balance</th>\n",
       "      <th>Qual_miles</th>\n",
       "      <th>cc1_miles</th>\n",
       "      <th>cc2_miles</th>\n",
       "      <th>cc3_miles</th>\n",
       "      <th>Bonus_miles</th>\n",
       "      <th>Bonus_trans</th>\n",
       "      <th>Flight_miles_12mo</th>\n",
       "      <th>Flight_trans_12</th>\n",
       "      <th>Days_since_enroll</th>\n",
       "      <th>Award?</th>\n",
       "    </tr>\n",
       "  </thead>\n",
       "  <tbody>\n",
       "    <tr>\n",
       "      <th>0</th>\n",
       "      <td>1</td>\n",
       "      <td>28143</td>\n",
       "      <td>0</td>\n",
       "      <td>1</td>\n",
       "      <td>1</td>\n",
       "      <td>1</td>\n",
       "      <td>174</td>\n",
       "      <td>1</td>\n",
       "      <td>0</td>\n",
       "      <td>0</td>\n",
       "      <td>7000</td>\n",
       "      <td>0</td>\n",
       "    </tr>\n",
       "    <tr>\n",
       "      <th>1</th>\n",
       "      <td>2</td>\n",
       "      <td>19244</td>\n",
       "      <td>0</td>\n",
       "      <td>1</td>\n",
       "      <td>1</td>\n",
       "      <td>1</td>\n",
       "      <td>215</td>\n",
       "      <td>2</td>\n",
       "      <td>0</td>\n",
       "      <td>0</td>\n",
       "      <td>6968</td>\n",
       "      <td>0</td>\n",
       "    </tr>\n",
       "    <tr>\n",
       "      <th>2</th>\n",
       "      <td>3</td>\n",
       "      <td>41354</td>\n",
       "      <td>0</td>\n",
       "      <td>1</td>\n",
       "      <td>1</td>\n",
       "      <td>1</td>\n",
       "      <td>4123</td>\n",
       "      <td>4</td>\n",
       "      <td>0</td>\n",
       "      <td>0</td>\n",
       "      <td>7034</td>\n",
       "      <td>0</td>\n",
       "    </tr>\n",
       "    <tr>\n",
       "      <th>3</th>\n",
       "      <td>4</td>\n",
       "      <td>14776</td>\n",
       "      <td>0</td>\n",
       "      <td>1</td>\n",
       "      <td>1</td>\n",
       "      <td>1</td>\n",
       "      <td>500</td>\n",
       "      <td>1</td>\n",
       "      <td>0</td>\n",
       "      <td>0</td>\n",
       "      <td>6952</td>\n",
       "      <td>0</td>\n",
       "    </tr>\n",
       "    <tr>\n",
       "      <th>4</th>\n",
       "      <td>5</td>\n",
       "      <td>97752</td>\n",
       "      <td>0</td>\n",
       "      <td>4</td>\n",
       "      <td>1</td>\n",
       "      <td>1</td>\n",
       "      <td>43300</td>\n",
       "      <td>26</td>\n",
       "      <td>2077</td>\n",
       "      <td>4</td>\n",
       "      <td>6935</td>\n",
       "      <td>1</td>\n",
       "    </tr>\n",
       "    <tr>\n",
       "      <th>5</th>\n",
       "      <td>6</td>\n",
       "      <td>16420</td>\n",
       "      <td>0</td>\n",
       "      <td>1</td>\n",
       "      <td>1</td>\n",
       "      <td>1</td>\n",
       "      <td>0</td>\n",
       "      <td>0</td>\n",
       "      <td>0</td>\n",
       "      <td>0</td>\n",
       "      <td>6942</td>\n",
       "      <td>0</td>\n",
       "    </tr>\n",
       "    <tr>\n",
       "      <th>6</th>\n",
       "      <td>7</td>\n",
       "      <td>84914</td>\n",
       "      <td>0</td>\n",
       "      <td>3</td>\n",
       "      <td>1</td>\n",
       "      <td>1</td>\n",
       "      <td>27482</td>\n",
       "      <td>25</td>\n",
       "      <td>0</td>\n",
       "      <td>0</td>\n",
       "      <td>6994</td>\n",
       "      <td>0</td>\n",
       "    </tr>\n",
       "    <tr>\n",
       "      <th>7</th>\n",
       "      <td>8</td>\n",
       "      <td>20856</td>\n",
       "      <td>0</td>\n",
       "      <td>1</td>\n",
       "      <td>1</td>\n",
       "      <td>1</td>\n",
       "      <td>5250</td>\n",
       "      <td>4</td>\n",
       "      <td>250</td>\n",
       "      <td>1</td>\n",
       "      <td>6938</td>\n",
       "      <td>1</td>\n",
       "    </tr>\n",
       "    <tr>\n",
       "      <th>8</th>\n",
       "      <td>9</td>\n",
       "      <td>443003</td>\n",
       "      <td>0</td>\n",
       "      <td>3</td>\n",
       "      <td>2</td>\n",
       "      <td>1</td>\n",
       "      <td>1753</td>\n",
       "      <td>43</td>\n",
       "      <td>3850</td>\n",
       "      <td>12</td>\n",
       "      <td>6948</td>\n",
       "      <td>1</td>\n",
       "    </tr>\n",
       "    <tr>\n",
       "      <th>9</th>\n",
       "      <td>10</td>\n",
       "      <td>104860</td>\n",
       "      <td>0</td>\n",
       "      <td>3</td>\n",
       "      <td>1</td>\n",
       "      <td>1</td>\n",
       "      <td>28426</td>\n",
       "      <td>28</td>\n",
       "      <td>1150</td>\n",
       "      <td>3</td>\n",
       "      <td>6931</td>\n",
       "      <td>1</td>\n",
       "    </tr>\n",
       "    <tr>\n",
       "      <th>10</th>\n",
       "      <td>11</td>\n",
       "      <td>40091</td>\n",
       "      <td>0</td>\n",
       "      <td>2</td>\n",
       "      <td>1</td>\n",
       "      <td>1</td>\n",
       "      <td>7278</td>\n",
       "      <td>10</td>\n",
       "      <td>0</td>\n",
       "      <td>0</td>\n",
       "      <td>6959</td>\n",
       "      <td>0</td>\n",
       "    </tr>\n",
       "    <tr>\n",
       "      <th>11</th>\n",
       "      <td>12</td>\n",
       "      <td>96522</td>\n",
       "      <td>0</td>\n",
       "      <td>5</td>\n",
       "      <td>1</td>\n",
       "      <td>1</td>\n",
       "      <td>61105</td>\n",
       "      <td>19</td>\n",
       "      <td>0</td>\n",
       "      <td>0</td>\n",
       "      <td>6924</td>\n",
       "      <td>1</td>\n",
       "    </tr>\n",
       "    <tr>\n",
       "      <th>12</th>\n",
       "      <td>13</td>\n",
       "      <td>43382</td>\n",
       "      <td>0</td>\n",
       "      <td>2</td>\n",
       "      <td>1</td>\n",
       "      <td>1</td>\n",
       "      <td>11150</td>\n",
       "      <td>20</td>\n",
       "      <td>0</td>\n",
       "      <td>0</td>\n",
       "      <td>6924</td>\n",
       "      <td>0</td>\n",
       "    </tr>\n",
       "    <tr>\n",
       "      <th>13</th>\n",
       "      <td>14</td>\n",
       "      <td>43097</td>\n",
       "      <td>0</td>\n",
       "      <td>1</td>\n",
       "      <td>1</td>\n",
       "      <td>1</td>\n",
       "      <td>3258</td>\n",
       "      <td>6</td>\n",
       "      <td>0</td>\n",
       "      <td>0</td>\n",
       "      <td>6918</td>\n",
       "      <td>0</td>\n",
       "    </tr>\n",
       "    <tr>\n",
       "      <th>14</th>\n",
       "      <td>15</td>\n",
       "      <td>17648</td>\n",
       "      <td>0</td>\n",
       "      <td>1</td>\n",
       "      <td>1</td>\n",
       "      <td>1</td>\n",
       "      <td>0</td>\n",
       "      <td>0</td>\n",
       "      <td>0</td>\n",
       "      <td>0</td>\n",
       "      <td>6912</td>\n",
       "      <td>0</td>\n",
       "    </tr>\n",
       "    <tr>\n",
       "      <th>15</th>\n",
       "      <td>16</td>\n",
       "      <td>28495</td>\n",
       "      <td>0</td>\n",
       "      <td>4</td>\n",
       "      <td>1</td>\n",
       "      <td>1</td>\n",
       "      <td>49442</td>\n",
       "      <td>15</td>\n",
       "      <td>0</td>\n",
       "      <td>0</td>\n",
       "      <td>6912</td>\n",
       "      <td>1</td>\n",
       "    </tr>\n",
       "    <tr>\n",
       "      <th>16</th>\n",
       "      <td>17</td>\n",
       "      <td>51890</td>\n",
       "      <td>0</td>\n",
       "      <td>4</td>\n",
       "      <td>1</td>\n",
       "      <td>1</td>\n",
       "      <td>48963</td>\n",
       "      <td>16</td>\n",
       "      <td>0</td>\n",
       "      <td>0</td>\n",
       "      <td>6910</td>\n",
       "      <td>1</td>\n",
       "    </tr>\n",
       "    <tr>\n",
       "      <th>17</th>\n",
       "      <td>18</td>\n",
       "      <td>13958</td>\n",
       "      <td>0</td>\n",
       "      <td>1</td>\n",
       "      <td>1</td>\n",
       "      <td>1</td>\n",
       "      <td>4291</td>\n",
       "      <td>5</td>\n",
       "      <td>0</td>\n",
       "      <td>0</td>\n",
       "      <td>6905</td>\n",
       "      <td>1</td>\n",
       "    </tr>\n",
       "    <tr>\n",
       "      <th>18</th>\n",
       "      <td>19</td>\n",
       "      <td>91473</td>\n",
       "      <td>0</td>\n",
       "      <td>3</td>\n",
       "      <td>1</td>\n",
       "      <td>1</td>\n",
       "      <td>27408</td>\n",
       "      <td>17</td>\n",
       "      <td>0</td>\n",
       "      <td>0</td>\n",
       "      <td>6903</td>\n",
       "      <td>1</td>\n",
       "    </tr>\n",
       "    <tr>\n",
       "      <th>19</th>\n",
       "      <td>20</td>\n",
       "      <td>23354</td>\n",
       "      <td>0</td>\n",
       "      <td>3</td>\n",
       "      <td>1</td>\n",
       "      <td>1</td>\n",
       "      <td>10447</td>\n",
       "      <td>5</td>\n",
       "      <td>0</td>\n",
       "      <td>0</td>\n",
       "      <td>6896</td>\n",
       "      <td>1</td>\n",
       "    </tr>\n",
       "  </tbody>\n",
       "</table>\n",
       "</div>"
      ],
      "text/plain": [
       "    ID#  Balance  Qual_miles  cc1_miles  cc2_miles  cc3_miles  Bonus_miles  \\\n",
       "0     1    28143           0          1          1          1          174   \n",
       "1     2    19244           0          1          1          1          215   \n",
       "2     3    41354           0          1          1          1         4123   \n",
       "3     4    14776           0          1          1          1          500   \n",
       "4     5    97752           0          4          1          1        43300   \n",
       "5     6    16420           0          1          1          1            0   \n",
       "6     7    84914           0          3          1          1        27482   \n",
       "7     8    20856           0          1          1          1         5250   \n",
       "8     9   443003           0          3          2          1         1753   \n",
       "9    10   104860           0          3          1          1        28426   \n",
       "10   11    40091           0          2          1          1         7278   \n",
       "11   12    96522           0          5          1          1        61105   \n",
       "12   13    43382           0          2          1          1        11150   \n",
       "13   14    43097           0          1          1          1         3258   \n",
       "14   15    17648           0          1          1          1            0   \n",
       "15   16    28495           0          4          1          1        49442   \n",
       "16   17    51890           0          4          1          1        48963   \n",
       "17   18    13958           0          1          1          1         4291   \n",
       "18   19    91473           0          3          1          1        27408   \n",
       "19   20    23354           0          3          1          1        10447   \n",
       "\n",
       "    Bonus_trans  Flight_miles_12mo  Flight_trans_12  Days_since_enroll  Award?  \n",
       "0             1                  0                0               7000       0  \n",
       "1             2                  0                0               6968       0  \n",
       "2             4                  0                0               7034       0  \n",
       "3             1                  0                0               6952       0  \n",
       "4            26               2077                4               6935       1  \n",
       "5             0                  0                0               6942       0  \n",
       "6            25                  0                0               6994       0  \n",
       "7             4                250                1               6938       1  \n",
       "8            43               3850               12               6948       1  \n",
       "9            28               1150                3               6931       1  \n",
       "10           10                  0                0               6959       0  \n",
       "11           19                  0                0               6924       1  \n",
       "12           20                  0                0               6924       0  \n",
       "13            6                  0                0               6918       0  \n",
       "14            0                  0                0               6912       0  \n",
       "15           15                  0                0               6912       1  \n",
       "16           16                  0                0               6910       1  \n",
       "17            5                  0                0               6905       1  \n",
       "18           17                  0                0               6903       1  \n",
       "19            5                  0                0               6896       1  "
      ]
     },
     "execution_count": 6,
     "metadata": {},
     "output_type": "execute_result"
    }
   ],
   "source": [
    "df.head(20)"
   ]
  },
  {
   "cell_type": "code",
   "execution_count": 8,
   "id": "aa7ca171-2e95-4f0b-af5d-9ed2eeac05f9",
   "metadata": {},
   "outputs": [],
   "source": [
    "df_D  = pd.DataFrame(df)"
   ]
  },
  {
   "cell_type": "code",
   "execution_count": 10,
   "id": "bbc3e347-c406-416d-9f6e-b44825ce5cdd",
   "metadata": {},
   "outputs": [
    {
     "data": {
      "text/html": [
       "<div>\n",
       "<style scoped>\n",
       "    .dataframe tbody tr th:only-of-type {\n",
       "        vertical-align: middle;\n",
       "    }\n",
       "\n",
       "    .dataframe tbody tr th {\n",
       "        vertical-align: top;\n",
       "    }\n",
       "\n",
       "    .dataframe thead th {\n",
       "        text-align: right;\n",
       "    }\n",
       "</style>\n",
       "<table border=\"1\" class=\"dataframe\">\n",
       "  <thead>\n",
       "    <tr style=\"text-align: right;\">\n",
       "      <th></th>\n",
       "      <th>ID#</th>\n",
       "      <th>Balance</th>\n",
       "      <th>Qual_miles</th>\n",
       "      <th>cc1_miles</th>\n",
       "      <th>cc2_miles</th>\n",
       "      <th>cc3_miles</th>\n",
       "      <th>Bonus_miles</th>\n",
       "      <th>Bonus_trans</th>\n",
       "      <th>Flight_miles_12mo</th>\n",
       "      <th>Flight_trans_12</th>\n",
       "      <th>Days_since_enroll</th>\n",
       "      <th>Award?</th>\n",
       "    </tr>\n",
       "  </thead>\n",
       "  <tbody>\n",
       "    <tr>\n",
       "      <th>count</th>\n",
       "      <td>3999.000000</td>\n",
       "      <td>3.999000e+03</td>\n",
       "      <td>3999.000000</td>\n",
       "      <td>3999.000000</td>\n",
       "      <td>3999.000000</td>\n",
       "      <td>3999.000000</td>\n",
       "      <td>3999.000000</td>\n",
       "      <td>3999.00000</td>\n",
       "      <td>3999.000000</td>\n",
       "      <td>3999.000000</td>\n",
       "      <td>3999.00000</td>\n",
       "      <td>3999.000000</td>\n",
       "    </tr>\n",
       "    <tr>\n",
       "      <th>mean</th>\n",
       "      <td>2014.819455</td>\n",
       "      <td>7.360133e+04</td>\n",
       "      <td>144.114529</td>\n",
       "      <td>2.059515</td>\n",
       "      <td>1.014504</td>\n",
       "      <td>1.012253</td>\n",
       "      <td>17144.846212</td>\n",
       "      <td>11.60190</td>\n",
       "      <td>460.055764</td>\n",
       "      <td>1.373593</td>\n",
       "      <td>4118.55939</td>\n",
       "      <td>0.370343</td>\n",
       "    </tr>\n",
       "    <tr>\n",
       "      <th>std</th>\n",
       "      <td>1160.764358</td>\n",
       "      <td>1.007757e+05</td>\n",
       "      <td>773.663804</td>\n",
       "      <td>1.376919</td>\n",
       "      <td>0.147650</td>\n",
       "      <td>0.195241</td>\n",
       "      <td>24150.967826</td>\n",
       "      <td>9.60381</td>\n",
       "      <td>1400.209171</td>\n",
       "      <td>3.793172</td>\n",
       "      <td>2065.13454</td>\n",
       "      <td>0.482957</td>\n",
       "    </tr>\n",
       "    <tr>\n",
       "      <th>min</th>\n",
       "      <td>1.000000</td>\n",
       "      <td>0.000000e+00</td>\n",
       "      <td>0.000000</td>\n",
       "      <td>1.000000</td>\n",
       "      <td>1.000000</td>\n",
       "      <td>1.000000</td>\n",
       "      <td>0.000000</td>\n",
       "      <td>0.00000</td>\n",
       "      <td>0.000000</td>\n",
       "      <td>0.000000</td>\n",
       "      <td>2.00000</td>\n",
       "      <td>0.000000</td>\n",
       "    </tr>\n",
       "    <tr>\n",
       "      <th>25%</th>\n",
       "      <td>1010.500000</td>\n",
       "      <td>1.852750e+04</td>\n",
       "      <td>0.000000</td>\n",
       "      <td>1.000000</td>\n",
       "      <td>1.000000</td>\n",
       "      <td>1.000000</td>\n",
       "      <td>1250.000000</td>\n",
       "      <td>3.00000</td>\n",
       "      <td>0.000000</td>\n",
       "      <td>0.000000</td>\n",
       "      <td>2330.00000</td>\n",
       "      <td>0.000000</td>\n",
       "    </tr>\n",
       "    <tr>\n",
       "      <th>50%</th>\n",
       "      <td>2016.000000</td>\n",
       "      <td>4.309700e+04</td>\n",
       "      <td>0.000000</td>\n",
       "      <td>1.000000</td>\n",
       "      <td>1.000000</td>\n",
       "      <td>1.000000</td>\n",
       "      <td>7171.000000</td>\n",
       "      <td>12.00000</td>\n",
       "      <td>0.000000</td>\n",
       "      <td>0.000000</td>\n",
       "      <td>4096.00000</td>\n",
       "      <td>0.000000</td>\n",
       "    </tr>\n",
       "    <tr>\n",
       "      <th>75%</th>\n",
       "      <td>3020.500000</td>\n",
       "      <td>9.240400e+04</td>\n",
       "      <td>0.000000</td>\n",
       "      <td>3.000000</td>\n",
       "      <td>1.000000</td>\n",
       "      <td>1.000000</td>\n",
       "      <td>23800.500000</td>\n",
       "      <td>17.00000</td>\n",
       "      <td>311.000000</td>\n",
       "      <td>1.000000</td>\n",
       "      <td>5790.50000</td>\n",
       "      <td>1.000000</td>\n",
       "    </tr>\n",
       "    <tr>\n",
       "      <th>max</th>\n",
       "      <td>4021.000000</td>\n",
       "      <td>1.704838e+06</td>\n",
       "      <td>11148.000000</td>\n",
       "      <td>5.000000</td>\n",
       "      <td>3.000000</td>\n",
       "      <td>5.000000</td>\n",
       "      <td>263685.000000</td>\n",
       "      <td>86.00000</td>\n",
       "      <td>30817.000000</td>\n",
       "      <td>53.000000</td>\n",
       "      <td>8296.00000</td>\n",
       "      <td>1.000000</td>\n",
       "    </tr>\n",
       "  </tbody>\n",
       "</table>\n",
       "</div>"
      ],
      "text/plain": [
       "               ID#       Balance    Qual_miles    cc1_miles    cc2_miles  \\\n",
       "count  3999.000000  3.999000e+03   3999.000000  3999.000000  3999.000000   \n",
       "mean   2014.819455  7.360133e+04    144.114529     2.059515     1.014504   \n",
       "std    1160.764358  1.007757e+05    773.663804     1.376919     0.147650   \n",
       "min       1.000000  0.000000e+00      0.000000     1.000000     1.000000   \n",
       "25%    1010.500000  1.852750e+04      0.000000     1.000000     1.000000   \n",
       "50%    2016.000000  4.309700e+04      0.000000     1.000000     1.000000   \n",
       "75%    3020.500000  9.240400e+04      0.000000     3.000000     1.000000   \n",
       "max    4021.000000  1.704838e+06  11148.000000     5.000000     3.000000   \n",
       "\n",
       "         cc3_miles    Bonus_miles  Bonus_trans  Flight_miles_12mo  \\\n",
       "count  3999.000000    3999.000000   3999.00000        3999.000000   \n",
       "mean      1.012253   17144.846212     11.60190         460.055764   \n",
       "std       0.195241   24150.967826      9.60381        1400.209171   \n",
       "min       1.000000       0.000000      0.00000           0.000000   \n",
       "25%       1.000000    1250.000000      3.00000           0.000000   \n",
       "50%       1.000000    7171.000000     12.00000           0.000000   \n",
       "75%       1.000000   23800.500000     17.00000         311.000000   \n",
       "max       5.000000  263685.000000     86.00000       30817.000000   \n",
       "\n",
       "       Flight_trans_12  Days_since_enroll       Award?  \n",
       "count      3999.000000         3999.00000  3999.000000  \n",
       "mean          1.373593         4118.55939     0.370343  \n",
       "std           3.793172         2065.13454     0.482957  \n",
       "min           0.000000            2.00000     0.000000  \n",
       "25%           0.000000         2330.00000     0.000000  \n",
       "50%           0.000000         4096.00000     0.000000  \n",
       "75%           1.000000         5790.50000     1.000000  \n",
       "max          53.000000         8296.00000     1.000000  "
      ]
     },
     "execution_count": 10,
     "metadata": {},
     "output_type": "execute_result"
    }
   ],
   "source": [
    "df.describe()"
   ]
  },
  {
   "cell_type": "code",
   "execution_count": 12,
   "id": "92da018f-a194-4fd0-a2c5-f15fd0607dc5",
   "metadata": {},
   "outputs": [
    {
     "name": "stdout",
     "output_type": "stream",
     "text": [
      "<class 'pandas.core.frame.DataFrame'>\n",
      "RangeIndex: 3999 entries, 0 to 3998\n",
      "Data columns (total 12 columns):\n",
      " #   Column             Non-Null Count  Dtype\n",
      "---  ------             --------------  -----\n",
      " 0   ID#                3999 non-null   int64\n",
      " 1   Balance            3999 non-null   int64\n",
      " 2   Qual_miles         3999 non-null   int64\n",
      " 3   cc1_miles          3999 non-null   int64\n",
      " 4   cc2_miles          3999 non-null   int64\n",
      " 5   cc3_miles          3999 non-null   int64\n",
      " 6   Bonus_miles        3999 non-null   int64\n",
      " 7   Bonus_trans        3999 non-null   int64\n",
      " 8   Flight_miles_12mo  3999 non-null   int64\n",
      " 9   Flight_trans_12    3999 non-null   int64\n",
      " 10  Days_since_enroll  3999 non-null   int64\n",
      " 11  Award?             3999 non-null   int64\n",
      "dtypes: int64(12)\n",
      "memory usage: 375.0 KB\n"
     ]
    }
   ],
   "source": [
    "df.info()"
   ]
  },
  {
   "cell_type": "code",
   "execution_count": 14,
   "id": "c8a18636-98ae-46e7-b519-fa543652e4df",
   "metadata": {},
   "outputs": [
    {
     "data": {
      "text/plain": [
       "ID#                  0\n",
       "Balance              0\n",
       "Qual_miles           0\n",
       "cc1_miles            0\n",
       "cc2_miles            0\n",
       "cc3_miles            0\n",
       "Bonus_miles          0\n",
       "Bonus_trans          0\n",
       "Flight_miles_12mo    0\n",
       "Flight_trans_12      0\n",
       "Days_since_enroll    0\n",
       "Award?               0\n",
       "dtype: int64"
      ]
     },
     "execution_count": 14,
     "metadata": {},
     "output_type": "execute_result"
    }
   ],
   "source": [
    "df.isna().sum()   # no missing values"
   ]
  },
  {
   "cell_type": "code",
   "execution_count": 16,
   "id": "c689286d-e7a2-4c7e-9bed-e6465b332bf2",
   "metadata": {},
   "outputs": [
    {
     "data": {
      "text/plain": [
       "<Axes: >"
      ]
     },
     "execution_count": 16,
     "metadata": {},
     "output_type": "execute_result"
    },
    {
     "data": {
      "image/png": "[encoded data removed]",
      "text/plain": [
       "<Figure size 640x480 with 2 Axes>"
      ]
     },
     "metadata": {},
     "output_type": "display_data"
    }
   ],
   "source": [
    "sns.heatmap(df.isna())   # no missing values"
   ]
  },
  {
   "cell_type": "code",
   "execution_count": 18,
   "id": "d05f5cf3-805c-4269-9444-52976cec41b7",
   "metadata": {},
   "outputs": [
    {
     "data": {
      "text/plain": [
       "cc2_miles\n",
       "1    3956\n",
       "2      28\n",
       "3      15\n",
       "Name: count, dtype: int64"
      ]
     },
     "execution_count": 18,
     "metadata": {},
     "output_type": "execute_result"
    }
   ],
   "source": [
    "df['cc2_miles'].value_counts()"
   ]
  },
  {
   "cell_type": "code",
   "execution_count": 20,
   "id": "ffc3b58d-5a17-4f8a-8fde-542c2b8d3e18",
   "metadata": {},
   "outputs": [
    {
     "data": {
      "text/plain": [
       "cc1_miles\n",
       "1    2289\n",
       "3     613\n",
       "4     525\n",
       "5     288\n",
       "2     284\n",
       "Name: count, dtype: int64"
      ]
     },
     "execution_count": 20,
     "metadata": {},
     "output_type": "execute_result"
    }
   ],
   "source": [
    "df['cc1_miles'].value_counts()"
   ]
  },
  {
   "cell_type": "code",
   "execution_count": 22,
   "id": "a22165ed-88b8-4725-9db6-bc4a63e749c6",
   "metadata": {},
   "outputs": [
    {
     "data": {
      "text/plain": [
       "cc3_miles\n",
       "1    3981\n",
       "4       6\n",
       "5       5\n",
       "3       4\n",
       "2       3\n",
       "Name: count, dtype: int64"
      ]
     },
     "execution_count": 22,
     "metadata": {},
     "output_type": "execute_result"
    }
   ],
   "source": [
    "df['cc3_miles'].value_counts()"
   ]
  },
  {
   "cell_type": "code",
   "execution_count": 24,
   "id": "545a4eba-30d6-4000-b3bd-f08f97685596",
   "metadata": {},
   "outputs": [
    {
     "data": {
      "text/plain": [
       "Award?\n",
       "0    2518\n",
       "1    1481\n",
       "Name: count, dtype: int64"
      ]
     },
     "execution_count": 24,
     "metadata": {},
     "output_type": "execute_result"
    }
   ],
   "source": [
    "df['Award?'].value_counts()"
   ]
  },
  {
   "cell_type": "code",
   "execution_count": 26,
   "id": "dfe287af-d999-432f-8a8f-443dd1873148",
   "metadata": {},
   "outputs": [
    {
     "data": {
      "text/plain": [
       "0"
      ]
     },
     "execution_count": 26,
     "metadata": {},
     "output_type": "execute_result"
    }
   ],
   "source": [
    "df.duplicated().sum()"
   ]
  },
  {
   "cell_type": "code",
   "execution_count": 28,
   "id": "26912129-6869-4d74-84d2-5d7f551315ff",
   "metadata": {},
   "outputs": [
    {
     "data": {
      "image/png": "[encoded data removed]",
      "text/plain": [
       "<Figure size 640x480 with 12 Axes>"
      ]
     },
     "metadata": {},
     "output_type": "display_data"
    }
   ],
   "source": [
    "df.hist()\n",
    "plt.tight_layout()"
   ]
  },
  {
   "cell_type": "code",
   "execution_count": 29,
   "id": "344b061b-2cbf-4a78-87eb-93a5e4aad994",
   "metadata": {},
   "outputs": [
    {
     "data": {
      "text/plain": [
       "<Axes: >"
      ]
     },
     "execution_count": 29,
     "metadata": {},
     "output_type": "execute_result"
    },
    {
     "data": {
      "image/png": "[encoded data removed]",
      "text/plain": [
       "<Figure size 640x480 with 1 Axes>"
      ]
     },
     "metadata": {},
     "output_type": "display_data"
    }
   ],
   "source": [
    "df.boxplot()\n"
   ]
  },
  {
   "cell_type": "code",
   "execution_count": 32,
   "id": "8983a1df-a415-4929-97d0-64a84023f1ab",
   "metadata": {},
   "outputs": [
    {
     "data": {
      "text/plain": [
       "<Axes: >"
      ]
     },
     "execution_count": 32,
     "metadata": {},
     "output_type": "execute_result"
    },
    {
     "data": {
      "image/png": "[encoded data removed]",
      "text/plain": [
       "<Figure size 640x480 with 1 Axes>"
      ]
     },
     "metadata": {},
     "output_type": "display_data"
    }
   ],
   "source": [
    "df.boxplot('Balance')"
   ]
  },
  {
   "cell_type": "code",
   "execution_count": 34,
   "id": "13d544b2-8943-4356-933a-bf77ba68b7fb",
   "metadata": {},
   "outputs": [
    {
     "data": {
      "text/plain": [
       "<Axes: >"
      ]
     },
     "execution_count": 34,
     "metadata": {},
     "output_type": "execute_result"
    },
    {
     "data": {
      "image/png": "[encoded data removed]",
      "text/plain": [
       "<Figure size 640x480 with 1 Axes>"
      ]
     },
     "metadata": {},
     "output_type": "display_data"
    }
   ],
   "source": [
    "df.boxplot('Qual_miles')"
   ]
  },
  {
   "cell_type": "code",
   "execution_count": 36,
   "id": "a8088da4-1389-4058-b605-96861cf3dda9",
   "metadata": {},
   "outputs": [
    {
     "data": {
      "text/plain": [
       "<Axes: >"
      ]
     },
     "execution_count": 36,
     "metadata": {},
     "output_type": "execute_result"
    },
    {
     "data": {
      "image/png": "[encoded data removed]",
      "text/plain": [
       "<Figure size 640x480 with 1 Axes>"
      ]
     },
     "metadata": {},
     "output_type": "display_data"
    }
   ],
   "source": [
    "df.boxplot('cc2_miles')"
   ]
  },
  {
   "cell_type": "code",
   "execution_count": 38,
   "id": "3da0f198-a359-4870-9636-dcf56facc1bd",
   "metadata": {},
   "outputs": [
    {
     "data": {
      "text/plain": [
       "<Axes: >"
      ]
     },
     "execution_count": 38,
     "metadata": {},
     "output_type": "execute_result"
    },
    {
     "data": {
      "image/png": "[encoded data removed]",
      "text/plain": [
       "<Figure size 640x480 with 1 Axes>"
      ]
     },
     "metadata": {},
     "output_type": "display_data"
    }
   ],
   "source": [
    "df.boxplot('cc3_miles')"
   ]
  },
  {
   "cell_type": "code",
   "execution_count": 40,
   "id": "178fc754-6db4-4748-a223-11a5be126311",
   "metadata": {},
   "outputs": [
    {
     "data": {
      "text/plain": [
       "<Axes: >"
      ]
     },
     "execution_count": 40,
     "metadata": {},
     "output_type": "execute_result"
    },
    {
     "data": {
      "image/png": "[encoded data removed]",
      "text/plain": [
       "<Figure size 640x480 with 1 Axes>"
      ]
     },
     "metadata": {},
     "output_type": "display_data"
    }
   ],
   "source": [
    "df.boxplot('Bonus_miles')"
   ]
  },
  {
   "cell_type": "code",
   "execution_count": 42,
   "id": "700555b8-cc4d-4db3-941c-f5d35f75b9e0",
   "metadata": {},
   "outputs": [
    {
     "data": {
      "text/plain": [
       "<Axes: >"
      ]
     },
     "execution_count": 42,
     "metadata": {},
     "output_type": "execute_result"
    },
    {
     "data": {
      "image/png": "[encoded data removed]",
      "text/plain": [
       "<Figure size 640x480 with 1 Axes>"
      ]
     },
     "metadata": {},
     "output_type": "display_data"
    }
   ],
   "source": [
    "df.boxplot('Bonus_trans')"
   ]
  },
  {
   "cell_type": "code",
   "execution_count": 44,
   "id": "eed13f26-5811-4567-b67a-8c6c78a14f13",
   "metadata": {},
   "outputs": [
    {
     "data": {
      "text/plain": [
       "<Axes: >"
      ]
     },
     "execution_count": 44,
     "metadata": {},
     "output_type": "execute_result"
    },
    {
     "data": {
      "image/png": "[encoded data removed]",
      "text/plain": [
       "<Figure size 640x480 with 1 Axes>"
      ]
     },
     "metadata": {},
     "output_type": "display_data"
    }
   ],
   "source": [
    "df.boxplot('Flight_miles_12mo')"
   ]
  },
  {
   "cell_type": "code",
   "execution_count": 46,
   "id": "60d5d69f-6f23-4d6a-994d-525652f9f5e0",
   "metadata": {},
   "outputs": [
    {
     "data": {
      "text/plain": [
       "<Axes: >"
      ]
     },
     "execution_count": 46,
     "metadata": {},
     "output_type": "execute_result"
    },
    {
     "data": {
      "image/png": "[encoded data removed]",
      "text/plain": [
       "<Figure size 640x480 with 1 Axes>"
      ]
     },
     "metadata": {},
     "output_type": "display_data"
    }
   ],
   "source": [
    "df.boxplot('Flight_trans_12')"
   ]
  },
  {
   "cell_type": "code",
   "execution_count": 48,
   "id": "9c74a558-6e4e-4db3-890f-740dad13c737",
   "metadata": {},
   "outputs": [
    {
     "data": {
      "text/plain": [
       "<Axes: >"
      ]
     },
     "execution_count": 48,
     "metadata": {},
     "output_type": "execute_result"
    },
    {
     "data": {
      "image/png": "[encoded data removed]",
      "text/plain": [
       "<Figure size 640x480 with 1 Axes>"
      ]
     },
     "metadata": {},
     "output_type": "display_data"
    }
   ],
   "source": [
    "df.boxplot('Days_since_enroll')"
   ]
  },
  {
   "cell_type": "code",
   "execution_count": 50,
   "id": "0ead6a2e-4d0d-4457-b9eb-9e69ff11b1f2",
   "metadata": {},
   "outputs": [],
   "source": [
    "# removing outliers\n",
    "# \tBalance \tQual_miles\tcc2_miles\tcc3_miles\tBonus_miles\t Bonus_trans \tFlight_miles_12mo\tFlight_trans_12 \tDays_since_enroll"
   ]
  },
  {
   "cell_type": "code",
   "execution_count": 52,
   "id": "8924449e-d46e-4c7f-861a-bc9730a82e05",
   "metadata": {},
   "outputs": [],
   "source": [
    "def outlier_detection(data,colname):\n",
    "    q1 = data[colname].quantile(0.25)\n",
    "    q3 = data[colname].quantile(0.75)\n",
    "    iqr = q3-q1\n",
    "\n",
    "    upper_extreme = q3 + (1.5*iqr)\n",
    "    lower_extreme = q1 - (1.5*iqr)\n",
    "\n",
    "    return print('lower_extreme:-',lower_extreme,', upper_extreme:-',upper_extreme,', q1:-',q1,', q3:-',q3)"
   ]
  },
  {
   "cell_type": "code",
   "execution_count": 54,
   "id": "b270207a-ef3a-4269-8385-b7c5e3b59941",
   "metadata": {},
   "outputs": [
    {
     "name": "stdout",
     "output_type": "stream",
     "text": [
      "lower_extreme:- -92287.25 , upper_extreme:- 203218.75 , q1:- 18527.5 , q3:- 92404.0\n"
     ]
    }
   ],
   "source": [
    "outlier_detection(df,'Balance')"
   ]
  },
  {
   "cell_type": "code",
   "execution_count": 56,
   "id": "9d1c3b12-131c-4a92-84ed-a4d4a4723d49",
   "metadata": {},
   "outputs": [
    {
     "name": "stderr",
     "output_type": "stream",
     "text": [
      "C:\\Users\\shubham\\AppData\\Local\\Temp\\ipykernel_16988\\3273257899.py:1: FutureWarning: Setting an item of incompatible dtype is deprecated and will raise an error in a future version of pandas. Value '203218.75' has dtype incompatible with int64, please explicitly cast to a compatible dtype first.\n",
      "  df.loc[df['Balance']>203218.75,'Balance'] = 203218.75\n"
     ]
    }
   ],
   "source": [
    "df.loc[df['Balance']>203218.75,'Balance'] = 203218.75"
   ]
  },
  {
   "cell_type": "code",
   "execution_count": 58,
   "id": "d1e3aedd-28a0-4b06-9683-e1ffb9af965c",
   "metadata": {},
   "outputs": [
    {
     "name": "stdout",
     "output_type": "stream",
     "text": [
      "lower_extreme:- 0.0 , upper_extreme:- 0.0 , q1:- 0.0 , q3:- 0.0\n"
     ]
    }
   ],
   "source": [
    "outlier_detection(df,'Qual_miles')"
   ]
  },
  {
   "cell_type": "code",
   "execution_count": 60,
   "id": "5da9807a-607a-4248-a86b-0457dbfc42b6",
   "metadata": {},
   "outputs": [],
   "source": [
    "df.loc[df['Qual_miles']>0.0,'Qual_miles'] = 0.0"
   ]
  },
  {
   "cell_type": "code",
   "execution_count": 62,
   "id": "7555bdd6-d37e-48f4-8428-84a11a176745",
   "metadata": {},
   "outputs": [
    {
     "name": "stdout",
     "output_type": "stream",
     "text": [
      "lower_extreme:- 1.0 , upper_extreme:- 1.0 , q1:- 1.0 , q3:- 1.0\n"
     ]
    }
   ],
   "source": [
    "outlier_detection(df,'cc2_miles')"
   ]
  },
  {
   "cell_type": "code",
   "execution_count": 64,
   "id": "435d5852-a491-41d9-b663-c0a05eec982c",
   "metadata": {},
   "outputs": [],
   "source": [
    "df.loc[df['cc2_miles']>1.0,'cc2_miles'] = 1.0"
   ]
  },
  {
   "cell_type": "code",
   "execution_count": 66,
   "id": "ec2a0b52-e648-4857-a6db-29589a9447bc",
   "metadata": {},
   "outputs": [
    {
     "name": "stdout",
     "output_type": "stream",
     "text": [
      "lower_extreme:- 1.0 , upper_extreme:- 1.0 , q1:- 1.0 , q3:- 1.0\n"
     ]
    }
   ],
   "source": [
    "outlier_detection(df,'cc3_miles')"
   ]
  },
  {
   "cell_type": "code",
   "execution_count": 68,
   "id": "6333a58a-08fb-4e72-b81a-f28941cde0f8",
   "metadata": {},
   "outputs": [],
   "source": [
    "df.loc[df['cc3_miles']>1.0,'cc3_miles'] = 1.0"
   ]
  },
  {
   "cell_type": "code",
   "execution_count": 70,
   "id": "f2a8f493-48fa-45ad-b6e3-c973f0ca8973",
   "metadata": {},
   "outputs": [
    {
     "name": "stdout",
     "output_type": "stream",
     "text": [
      "lower_extreme:- -32575.75 , upper_extreme:- 57626.25 , q1:- 1250.0 , q3:- 23800.5\n"
     ]
    }
   ],
   "source": [
    "outlier_detection(df,'Bonus_miles')"
   ]
  },
  {
   "cell_type": "code",
   "execution_count": 72,
   "id": "4d4b8afe-2d7a-4b99-9da5-2910ca68048d",
   "metadata": {},
   "outputs": [
    {
     "name": "stderr",
     "output_type": "stream",
     "text": [
      "C:\\Users\\shubham\\AppData\\Local\\Temp\\ipykernel_16988\\3568225553.py:1: FutureWarning: Setting an item of incompatible dtype is deprecated and will raise an error in a future version of pandas. Value '57626.25' has dtype incompatible with int64, please explicitly cast to a compatible dtype first.\n",
      "  df.loc[df['Bonus_miles']>57626.25,'Bonus_miles'] = 57626.25\n"
     ]
    }
   ],
   "source": [
    "df.loc[df['Bonus_miles']>57626.25,'Bonus_miles'] = 57626.25"
   ]
  },
  {
   "cell_type": "code",
   "execution_count": 74,
   "id": "23f2be92-4c9c-4ce8-aa56-73aa53ee4fc1",
   "metadata": {},
   "outputs": [
    {
     "name": "stdout",
     "output_type": "stream",
     "text": [
      "lower_extreme:- -18.0 , upper_extreme:- 38.0 , q1:- 3.0 , q3:- 17.0\n"
     ]
    }
   ],
   "source": [
    "outlier_detection(df,'Bonus_trans')"
   ]
  },
  {
   "cell_type": "code",
   "execution_count": 76,
   "id": "61eb0181-aa28-445f-b775-454e91a5f7a7",
   "metadata": {},
   "outputs": [],
   "source": [
    "df.loc[df['Bonus_trans']>38.0,'Bonus_trans'] = 38.0"
   ]
  },
  {
   "cell_type": "code",
   "execution_count": 78,
   "id": "483d044d-d7a8-4ab4-b865-ba37d3d64cee",
   "metadata": {},
   "outputs": [
    {
     "name": "stdout",
     "output_type": "stream",
     "text": [
      "lower_extreme:- -466.5 , upper_extreme:- 777.5 , q1:- 0.0 , q3:- 311.0\n"
     ]
    }
   ],
   "source": [
    "outlier_detection(df,'Flight_miles_12mo')"
   ]
  },
  {
   "cell_type": "code",
   "execution_count": 80,
   "id": "afa7210e-9434-4daf-b59b-fbf878cb3094",
   "metadata": {},
   "outputs": [
    {
     "name": "stderr",
     "output_type": "stream",
     "text": [
      "C:\\Users\\shubham\\AppData\\Local\\Temp\\ipykernel_16988\\1244863425.py:1: FutureWarning: Setting an item of incompatible dtype is deprecated and will raise an error in a future version of pandas. Value '777.5' has dtype incompatible with int64, please explicitly cast to a compatible dtype first.\n",
      "  df.loc[df['Flight_miles_12mo']>777.5,'Flight_miles_12mo'] = 777.5\n"
     ]
    }
   ],
   "source": [
    "df.loc[df['Flight_miles_12mo']>777.5,'Flight_miles_12mo'] = 777.5"
   ]
  },
  {
   "cell_type": "code",
   "execution_count": 82,
   "id": "50cc9989-01d0-4f42-bb21-a84b19ede0ca",
   "metadata": {},
   "outputs": [
    {
     "name": "stdout",
     "output_type": "stream",
     "text": [
      "lower_extreme:- -1.5 , upper_extreme:- 2.5 , q1:- 0.0 , q3:- 1.0\n"
     ]
    }
   ],
   "source": [
    "outlier_detection(df,'Flight_trans_12')"
   ]
  },
  {
   "cell_type": "code",
   "execution_count": 84,
   "id": "1e5a22b3-2e3a-40fa-a81d-51b592ebff7b",
   "metadata": {},
   "outputs": [
    {
     "name": "stderr",
     "output_type": "stream",
     "text": [
      "C:\\Users\\shubham\\AppData\\Local\\Temp\\ipykernel_16988\\1333073735.py:1: FutureWarning: Setting an item of incompatible dtype is deprecated and will raise an error in a future version of pandas. Value '2.5' has dtype incompatible with int64, please explicitly cast to a compatible dtype first.\n",
      "  df.loc[df['Flight_trans_12']>2.5,'Flight_trans_12'] = 2.5\n"
     ]
    }
   ],
   "source": [
    "df.loc[df['Flight_trans_12']>2.5,'Flight_trans_12'] = 2.5"
   ]
  },
  {
   "cell_type": "code",
   "execution_count": 86,
   "id": "b46c9b2b-b1da-4c2f-97b0-21729853cec0",
   "metadata": {},
   "outputs": [
    {
     "name": "stdout",
     "output_type": "stream",
     "text": [
      "lower_extreme:- -2860.75 , upper_extreme:- 10981.25 , q1:- 2330.0 , q3:- 5790.5\n"
     ]
    }
   ],
   "source": [
    "outlier_detection(df,'Days_since_enroll')"
   ]
  },
  {
   "cell_type": "code",
   "execution_count": 88,
   "id": "9220dbdf-6743-4cf1-96e6-20210567e53c",
   "metadata": {},
   "outputs": [
    {
     "name": "stderr",
     "output_type": "stream",
     "text": [
      "C:\\Users\\shubham\\AppData\\Local\\Temp\\ipykernel_16988\\1096283932.py:1: FutureWarning: Setting an item of incompatible dtype is deprecated and will raise an error in a future version of pandas. Value '10981.25' has dtype incompatible with int64, please explicitly cast to a compatible dtype first.\n",
      "  df.loc[df['Days_since_enroll']>10981.25,'Days_since_enroll'] = 10981.25\n"
     ]
    }
   ],
   "source": [
    "df.loc[df['Days_since_enroll']>10981.25,'Days_since_enroll'] = 10981.25"
   ]
  },
  {
   "cell_type": "code",
   "execution_count": 90,
   "id": "c72a4cab-8d25-493f-9b87-934b231e49de",
   "metadata": {},
   "outputs": [
    {
     "data": {
      "text/plain": [
       "<Axes: >"
      ]
     },
     "execution_count": 90,
     "metadata": {},
     "output_type": "execute_result"
    },
    {
     "data": {
      "image/png": "[encoded data removed]",
      "text/plain": [
       "<Figure size 640x480 with 1 Axes>"
      ]
     },
     "metadata": {},
     "output_type": "display_data"
    }
   ],
   "source": [
    "df.boxplot()"
   ]
  },
  {
   "cell_type": "code",
   "execution_count": 92,
   "id": "88d74f01-5937-4fa7-b7a6-367489407409",
   "metadata": {},
   "outputs": [],
   "source": [
    "# features :- ID#\tBalance\tQual_miles\tcc1_miles\tcc2_miles\tcc3_miles\tBonus_miles\tBonus_trans\tFlight_miles_12mo\tFlight_trans_12\tDays_since_enroll\tAward?"
   ]
  },
  {
   "cell_type": "code",
   "execution_count": 94,
   "id": "1fd23891-d563-46f1-b70a-77fdef8a6641",
   "metadata": {},
   "outputs": [
    {
     "data": {
      "text/plain": [
       "array([   1,    2,    3, ..., 4019, 4020, 4021], dtype=int64)"
      ]
     },
     "execution_count": 94,
     "metadata": {},
     "output_type": "execute_result"
    }
   ],
   "source": [
    "df['ID#'].unique()"
   ]
  },
  {
   "cell_type": "code",
   "execution_count": 96,
   "id": "cea689c6-6e4b-478d-a8e6-6639f50d049e",
   "metadata": {},
   "outputs": [
    {
     "data": {
      "text/plain": [
       "array([28143., 19244., 41354., ..., 73597., 54899.,  3016.])"
      ]
     },
     "execution_count": 96,
     "metadata": {},
     "output_type": "execute_result"
    }
   ],
   "source": [
    "df['Balance'].unique()"
   ]
  },
  {
   "cell_type": "code",
   "execution_count": 98,
   "id": "5ac9f467-9a7e-4043-af80-2848f553682b",
   "metadata": {},
   "outputs": [
    {
     "data": {
      "text/plain": [
       "Qual_miles\n",
       "0    3999\n",
       "Name: count, dtype: int64"
      ]
     },
     "execution_count": 98,
     "metadata": {},
     "output_type": "execute_result"
    }
   ],
   "source": [
    "df['Qual_miles'].value_counts()  # drop this column"
   ]
  },
  {
   "cell_type": "code",
   "execution_count": 100,
   "id": "6a52f6dc-8401-4969-bdd6-d377e7b021ed",
   "metadata": {},
   "outputs": [
    {
     "data": {
      "text/plain": [
       "cc1_miles\n",
       "1    2289\n",
       "3     613\n",
       "4     525\n",
       "5     288\n",
       "2     284\n",
       "Name: count, dtype: int64"
      ]
     },
     "execution_count": 100,
     "metadata": {},
     "output_type": "execute_result"
    }
   ],
   "source": [
    "df['cc1_miles'].value_counts()"
   ]
  },
  {
   "cell_type": "code",
   "execution_count": 102,
   "id": "fb5f6cea-95c9-4c74-a994-181ffde709e9",
   "metadata": {},
   "outputs": [
    {
     "data": {
      "text/plain": [
       "cc2_miles\n",
       "1    3999\n",
       "Name: count, dtype: int64"
      ]
     },
     "execution_count": 102,
     "metadata": {},
     "output_type": "execute_result"
    }
   ],
   "source": [
    "df['cc2_miles'].value_counts()   # drop this column"
   ]
  },
  {
   "cell_type": "code",
   "execution_count": 104,
   "id": "3246af1a-a451-45c0-a6c6-88b2fe41cf86",
   "metadata": {},
   "outputs": [
    {
     "data": {
      "text/plain": [
       "cc3_miles\n",
       "1    3999\n",
       "Name: count, dtype: int64"
      ]
     },
     "execution_count": 104,
     "metadata": {},
     "output_type": "execute_result"
    }
   ],
   "source": [
    "df['cc3_miles'].value_counts()    # drop this column"
   ]
  },
  {
   "cell_type": "code",
   "execution_count": 106,
   "id": "55b9d091-df48-44c2-ac46-66c897f2306f",
   "metadata": {},
   "outputs": [
    {
     "data": {
      "text/plain": [
       "Flight_trans_12\n",
       "0.0    2723\n",
       "2.5     565\n",
       "1.0     469\n",
       "2.0     242\n",
       "Name: count, dtype: int64"
      ]
     },
     "execution_count": 106,
     "metadata": {},
     "output_type": "execute_result"
    }
   ],
   "source": [
    "df['Flight_trans_12'].value_counts()"
   ]
  },
  {
   "cell_type": "code",
   "execution_count": 108,
   "id": "a536b052-93f6-40d6-9d00-706b66ef1407",
   "metadata": {},
   "outputs": [
    {
     "data": {
      "text/plain": [
       "Award?\n",
       "0    2518\n",
       "1    1481\n",
       "Name: count, dtype: int64"
      ]
     },
     "execution_count": 108,
     "metadata": {},
     "output_type": "execute_result"
    }
   ],
   "source": [
    "df['Award?'].value_counts()"
   ]
  },
  {
   "cell_type": "code",
   "execution_count": 110,
   "id": "20ad2fe6-96df-4abb-bf4d-b97ec254101c",
   "metadata": {},
   "outputs": [],
   "source": [
    " df.drop(columns=['Qual_miles','cc2_miles','cc3_miles'],inplace=True)"
   ]
  },
  {
   "cell_type": "code",
   "execution_count": 112,
   "id": "9c1b95fb-e5d9-4b77-b914-06c842dc0ca6",
   "metadata": {},
   "outputs": [
    {
     "data": {
      "text/html": [
       "<div>\n",
       "<style scoped>\n",
       "    .dataframe tbody tr th:only-of-type {\n",
       "        vertical-align: middle;\n",
       "    }\n",
       "\n",
       "    .dataframe tbody tr th {\n",
       "        vertical-align: top;\n",
       "    }\n",
       "\n",
       "    .dataframe thead th {\n",
       "        text-align: right;\n",
       "    }\n",
       "</style>\n",
       "<table border=\"1\" class=\"dataframe\">\n",
       "  <thead>\n",
       "    <tr style=\"text-align: right;\">\n",
       "      <th></th>\n",
       "      <th>ID#</th>\n",
       "      <th>Balance</th>\n",
       "      <th>cc1_miles</th>\n",
       "      <th>Bonus_miles</th>\n",
       "      <th>Bonus_trans</th>\n",
       "      <th>Flight_miles_12mo</th>\n",
       "      <th>Flight_trans_12</th>\n",
       "      <th>Days_since_enroll</th>\n",
       "      <th>Award?</th>\n",
       "    </tr>\n",
       "  </thead>\n",
       "  <tbody>\n",
       "    <tr>\n",
       "      <th>0</th>\n",
       "      <td>1</td>\n",
       "      <td>28143.0</td>\n",
       "      <td>1</td>\n",
       "      <td>174.0</td>\n",
       "      <td>1</td>\n",
       "      <td>0.0</td>\n",
       "      <td>0.0</td>\n",
       "      <td>7000.0</td>\n",
       "      <td>0</td>\n",
       "    </tr>\n",
       "    <tr>\n",
       "      <th>1</th>\n",
       "      <td>2</td>\n",
       "      <td>19244.0</td>\n",
       "      <td>1</td>\n",
       "      <td>215.0</td>\n",
       "      <td>2</td>\n",
       "      <td>0.0</td>\n",
       "      <td>0.0</td>\n",
       "      <td>6968.0</td>\n",
       "      <td>0</td>\n",
       "    </tr>\n",
       "    <tr>\n",
       "      <th>2</th>\n",
       "      <td>3</td>\n",
       "      <td>41354.0</td>\n",
       "      <td>1</td>\n",
       "      <td>4123.0</td>\n",
       "      <td>4</td>\n",
       "      <td>0.0</td>\n",
       "      <td>0.0</td>\n",
       "      <td>7034.0</td>\n",
       "      <td>0</td>\n",
       "    </tr>\n",
       "    <tr>\n",
       "      <th>3</th>\n",
       "      <td>4</td>\n",
       "      <td>14776.0</td>\n",
       "      <td>1</td>\n",
       "      <td>500.0</td>\n",
       "      <td>1</td>\n",
       "      <td>0.0</td>\n",
       "      <td>0.0</td>\n",
       "      <td>6952.0</td>\n",
       "      <td>0</td>\n",
       "    </tr>\n",
       "    <tr>\n",
       "      <th>4</th>\n",
       "      <td>5</td>\n",
       "      <td>97752.0</td>\n",
       "      <td>4</td>\n",
       "      <td>43300.0</td>\n",
       "      <td>26</td>\n",
       "      <td>777.5</td>\n",
       "      <td>2.5</td>\n",
       "      <td>6935.0</td>\n",
       "      <td>1</td>\n",
       "    </tr>\n",
       "    <tr>\n",
       "      <th>...</th>\n",
       "      <td>...</td>\n",
       "      <td>...</td>\n",
       "      <td>...</td>\n",
       "      <td>...</td>\n",
       "      <td>...</td>\n",
       "      <td>...</td>\n",
       "      <td>...</td>\n",
       "      <td>...</td>\n",
       "      <td>...</td>\n",
       "    </tr>\n",
       "    <tr>\n",
       "      <th>3994</th>\n",
       "      <td>4017</td>\n",
       "      <td>18476.0</td>\n",
       "      <td>1</td>\n",
       "      <td>8525.0</td>\n",
       "      <td>4</td>\n",
       "      <td>200.0</td>\n",
       "      <td>1.0</td>\n",
       "      <td>1403.0</td>\n",
       "      <td>1</td>\n",
       "    </tr>\n",
       "    <tr>\n",
       "      <th>3995</th>\n",
       "      <td>4018</td>\n",
       "      <td>64385.0</td>\n",
       "      <td>1</td>\n",
       "      <td>981.0</td>\n",
       "      <td>5</td>\n",
       "      <td>0.0</td>\n",
       "      <td>0.0</td>\n",
       "      <td>1395.0</td>\n",
       "      <td>1</td>\n",
       "    </tr>\n",
       "    <tr>\n",
       "      <th>3996</th>\n",
       "      <td>4019</td>\n",
       "      <td>73597.0</td>\n",
       "      <td>3</td>\n",
       "      <td>25447.0</td>\n",
       "      <td>8</td>\n",
       "      <td>0.0</td>\n",
       "      <td>0.0</td>\n",
       "      <td>1402.0</td>\n",
       "      <td>1</td>\n",
       "    </tr>\n",
       "    <tr>\n",
       "      <th>3997</th>\n",
       "      <td>4020</td>\n",
       "      <td>54899.0</td>\n",
       "      <td>1</td>\n",
       "      <td>500.0</td>\n",
       "      <td>1</td>\n",
       "      <td>500.0</td>\n",
       "      <td>1.0</td>\n",
       "      <td>1401.0</td>\n",
       "      <td>0</td>\n",
       "    </tr>\n",
       "    <tr>\n",
       "      <th>3998</th>\n",
       "      <td>4021</td>\n",
       "      <td>3016.0</td>\n",
       "      <td>1</td>\n",
       "      <td>0.0</td>\n",
       "      <td>0</td>\n",
       "      <td>0.0</td>\n",
       "      <td>0.0</td>\n",
       "      <td>1398.0</td>\n",
       "      <td>0</td>\n",
       "    </tr>\n",
       "  </tbody>\n",
       "</table>\n",
       "<p>3999 rows × 9 columns</p>\n",
       "</div>"
      ],
      "text/plain": [
       "       ID#  Balance  cc1_miles  Bonus_miles  Bonus_trans  Flight_miles_12mo  \\\n",
       "0        1  28143.0          1        174.0            1                0.0   \n",
       "1        2  19244.0          1        215.0            2                0.0   \n",
       "2        3  41354.0          1       4123.0            4                0.0   \n",
       "3        4  14776.0          1        500.0            1                0.0   \n",
       "4        5  97752.0          4      43300.0           26              777.5   \n",
       "...    ...      ...        ...          ...          ...                ...   \n",
       "3994  4017  18476.0          1       8525.0            4              200.0   \n",
       "3995  4018  64385.0          1        981.0            5                0.0   \n",
       "3996  4019  73597.0          3      25447.0            8                0.0   \n",
       "3997  4020  54899.0          1        500.0            1              500.0   \n",
       "3998  4021   3016.0          1          0.0            0                0.0   \n",
       "\n",
       "      Flight_trans_12  Days_since_enroll  Award?  \n",
       "0                 0.0             7000.0       0  \n",
       "1                 0.0             6968.0       0  \n",
       "2                 0.0             7034.0       0  \n",
       "3                 0.0             6952.0       0  \n",
       "4                 2.5             6935.0       1  \n",
       "...               ...                ...     ...  \n",
       "3994              1.0             1403.0       1  \n",
       "3995              0.0             1395.0       1  \n",
       "3996              0.0             1402.0       1  \n",
       "3997              1.0             1401.0       0  \n",
       "3998              0.0             1398.0       0  \n",
       "\n",
       "[3999 rows x 9 columns]"
      ]
     },
     "execution_count": 112,
     "metadata": {},
     "output_type": "execute_result"
    }
   ],
   "source": [
    "df"
   ]
  },
  {
   "cell_type": "code",
   "execution_count": 114,
   "id": "cefe7c3a-5e69-4816-92e5-3863bfe4dd9a",
   "metadata": {},
   "outputs": [],
   "source": [
    "sc = StandardScaler()               # scale down the data\n",
    "df_scaled = pd.DataFrame(sc.fit_transform(df),columns=df.columns)"
   ]
  },
  {
   "cell_type": "code",
   "execution_count": 116,
   "id": "3ce89279-a134-460d-bdcf-739ed11751a1",
   "metadata": {},
   "outputs": [
    {
     "data": {
      "text/html": [
       "<div>\n",
       "<style scoped>\n",
       "    .dataframe tbody tr th:only-of-type {\n",
       "        vertical-align: middle;\n",
       "    }\n",
       "\n",
       "    .dataframe tbody tr th {\n",
       "        vertical-align: top;\n",
       "    }\n",
       "\n",
       "    .dataframe thead th {\n",
       "        text-align: right;\n",
       "    }\n",
       "</style>\n",
       "<table border=\"1\" class=\"dataframe\">\n",
       "  <thead>\n",
       "    <tr style=\"text-align: right;\">\n",
       "      <th></th>\n",
       "      <th>ID#</th>\n",
       "      <th>Balance</th>\n",
       "      <th>cc1_miles</th>\n",
       "      <th>Bonus_miles</th>\n",
       "      <th>Bonus_trans</th>\n",
       "      <th>Flight_miles_12mo</th>\n",
       "      <th>Flight_trans_12</th>\n",
       "      <th>Days_since_enroll</th>\n",
       "      <th>Award?</th>\n",
       "    </tr>\n",
       "  </thead>\n",
       "  <tbody>\n",
       "    <tr>\n",
       "      <th>0</th>\n",
       "      <td>-1.735125</td>\n",
       "      <td>-0.607258</td>\n",
       "      <td>-0.769578</td>\n",
       "      <td>-0.843091</td>\n",
       "      <td>-1.148854</td>\n",
       "      <td>-0.604313</td>\n",
       "      <td>-0.626143</td>\n",
       "      <td>1.395454</td>\n",
       "      <td>-0.766919</td>\n",
       "    </tr>\n",
       "    <tr>\n",
       "      <th>1</th>\n",
       "      <td>-1.734263</td>\n",
       "      <td>-0.758947</td>\n",
       "      <td>-0.769578</td>\n",
       "      <td>-0.840822</td>\n",
       "      <td>-1.039133</td>\n",
       "      <td>-0.604313</td>\n",
       "      <td>-0.626143</td>\n",
       "      <td>1.379957</td>\n",
       "      <td>-0.766919</td>\n",
       "    </tr>\n",
       "    <tr>\n",
       "      <th>2</th>\n",
       "      <td>-1.733402</td>\n",
       "      <td>-0.382070</td>\n",
       "      <td>-0.769578</td>\n",
       "      <td>-0.624581</td>\n",
       "      <td>-0.819689</td>\n",
       "      <td>-0.604313</td>\n",
       "      <td>-0.626143</td>\n",
       "      <td>1.411920</td>\n",
       "      <td>-0.766919</td>\n",
       "    </tr>\n",
       "    <tr>\n",
       "      <th>3</th>\n",
       "      <td>-1.732540</td>\n",
       "      <td>-0.835106</td>\n",
       "      <td>-0.769578</td>\n",
       "      <td>-0.825052</td>\n",
       "      <td>-1.148854</td>\n",
       "      <td>-0.604313</td>\n",
       "      <td>-0.626143</td>\n",
       "      <td>1.372208</td>\n",
       "      <td>-0.766919</td>\n",
       "    </tr>\n",
       "    <tr>\n",
       "      <th>4</th>\n",
       "      <td>-1.731679</td>\n",
       "      <td>0.579265</td>\n",
       "      <td>1.409471</td>\n",
       "      <td>1.543191</td>\n",
       "      <td>1.594189</td>\n",
       "      <td>2.034489</td>\n",
       "      <td>2.020176</td>\n",
       "      <td>1.363975</td>\n",
       "      <td>1.303918</td>\n",
       "    </tr>\n",
       "    <tr>\n",
       "      <th>...</th>\n",
       "      <td>...</td>\n",
       "      <td>...</td>\n",
       "      <td>...</td>\n",
       "      <td>...</td>\n",
       "      <td>...</td>\n",
       "      <td>...</td>\n",
       "      <td>...</td>\n",
       "      <td>...</td>\n",
       "      <td>...</td>\n",
       "    </tr>\n",
       "    <tr>\n",
       "      <th>3994</th>\n",
       "      <td>1.725097</td>\n",
       "      <td>-0.772038</td>\n",
       "      <td>-0.769578</td>\n",
       "      <td>-0.381007</td>\n",
       "      <td>-0.819689</td>\n",
       "      <td>0.074478</td>\n",
       "      <td>0.432384</td>\n",
       "      <td>-1.315120</td>\n",
       "      <td>1.303918</td>\n",
       "    </tr>\n",
       "    <tr>\n",
       "      <th>3995</th>\n",
       "      <td>1.725958</td>\n",
       "      <td>0.010506</td>\n",
       "      <td>-0.769578</td>\n",
       "      <td>-0.798437</td>\n",
       "      <td>-0.709967</td>\n",
       "      <td>-0.604313</td>\n",
       "      <td>-0.626143</td>\n",
       "      <td>-1.318994</td>\n",
       "      <td>1.303918</td>\n",
       "    </tr>\n",
       "    <tr>\n",
       "      <th>3996</th>\n",
       "      <td>1.726820</td>\n",
       "      <td>0.167530</td>\n",
       "      <td>0.683121</td>\n",
       "      <td>0.555335</td>\n",
       "      <td>-0.380802</td>\n",
       "      <td>-0.604313</td>\n",
       "      <td>-0.626143</td>\n",
       "      <td>-1.315604</td>\n",
       "      <td>1.303918</td>\n",
       "    </tr>\n",
       "    <tr>\n",
       "      <th>3997</th>\n",
       "      <td>1.727682</td>\n",
       "      <td>-0.151188</td>\n",
       "      <td>-0.769578</td>\n",
       "      <td>-0.825052</td>\n",
       "      <td>-1.148854</td>\n",
       "      <td>1.092666</td>\n",
       "      <td>0.432384</td>\n",
       "      <td>-1.316088</td>\n",
       "      <td>-0.766919</td>\n",
       "    </tr>\n",
       "    <tr>\n",
       "      <th>3998</th>\n",
       "      <td>1.728543</td>\n",
       "      <td>-1.035562</td>\n",
       "      <td>-0.769578</td>\n",
       "      <td>-0.852718</td>\n",
       "      <td>-1.258576</td>\n",
       "      <td>-0.604313</td>\n",
       "      <td>-0.626143</td>\n",
       "      <td>-1.317541</td>\n",
       "      <td>-0.766919</td>\n",
       "    </tr>\n",
       "  </tbody>\n",
       "</table>\n",
       "<p>3999 rows × 9 columns</p>\n",
       "</div>"
      ],
      "text/plain": [
       "           ID#   Balance  cc1_miles  Bonus_miles  Bonus_trans  \\\n",
       "0    -1.735125 -0.607258  -0.769578    -0.843091    -1.148854   \n",
       "1    -1.734263 -0.758947  -0.769578    -0.840822    -1.039133   \n",
       "2    -1.733402 -0.382070  -0.769578    -0.624581    -0.819689   \n",
       "3    -1.732540 -0.835106  -0.769578    -0.825052    -1.148854   \n",
       "4    -1.731679  0.579265   1.409471     1.543191     1.594189   \n",
       "...        ...       ...        ...          ...          ...   \n",
       "3994  1.725097 -0.772038  -0.769578    -0.381007    -0.819689   \n",
       "3995  1.725958  0.010506  -0.769578    -0.798437    -0.709967   \n",
       "3996  1.726820  0.167530   0.683121     0.555335    -0.380802   \n",
       "3997  1.727682 -0.151188  -0.769578    -0.825052    -1.148854   \n",
       "3998  1.728543 -1.035562  -0.769578    -0.852718    -1.258576   \n",
       "\n",
       "      Flight_miles_12mo  Flight_trans_12  Days_since_enroll    Award?  \n",
       "0             -0.604313        -0.626143           1.395454 -0.766919  \n",
       "1             -0.604313        -0.626143           1.379957 -0.766919  \n",
       "2             -0.604313        -0.626143           1.411920 -0.766919  \n",
       "3             -0.604313        -0.626143           1.372208 -0.766919  \n",
       "4              2.034489         2.020176           1.363975  1.303918  \n",
       "...                 ...              ...                ...       ...  \n",
       "3994           0.074478         0.432384          -1.315120  1.303918  \n",
       "3995          -0.604313        -0.626143          -1.318994  1.303918  \n",
       "3996          -0.604313        -0.626143          -1.315604  1.303918  \n",
       "3997           1.092666         0.432384          -1.316088 -0.766919  \n",
       "3998          -0.604313        -0.626143          -1.317541 -0.766919  \n",
       "\n",
       "[3999 rows x 9 columns]"
      ]
     },
     "execution_count": 116,
     "metadata": {},
     "output_type": "execute_result"
    }
   ],
   "source": [
    "df_scaled"
   ]
  },
  {
   "cell_type": "code",
   "execution_count": 118,
   "id": "c076514f-475d-4a98-b542-6ff3351bd958",
   "metadata": {},
   "outputs": [
    {
     "data": {
      "text/html": [
       "<div>\n",
       "<style scoped>\n",
       "    .dataframe tbody tr th:only-of-type {\n",
       "        vertical-align: middle;\n",
       "    }\n",
       "\n",
       "    .dataframe tbody tr th {\n",
       "        vertical-align: top;\n",
       "    }\n",
       "\n",
       "    .dataframe thead th {\n",
       "        text-align: right;\n",
       "    }\n",
       "</style>\n",
       "<table border=\"1\" class=\"dataframe\">\n",
       "  <thead>\n",
       "    <tr style=\"text-align: right;\">\n",
       "      <th></th>\n",
       "      <th>ID#</th>\n",
       "      <th>Balance</th>\n",
       "      <th>cc1_miles</th>\n",
       "      <th>Bonus_miles</th>\n",
       "      <th>Bonus_trans</th>\n",
       "      <th>Flight_miles_12mo</th>\n",
       "      <th>Flight_trans_12</th>\n",
       "      <th>Days_since_enroll</th>\n",
       "      <th>Award?</th>\n",
       "    </tr>\n",
       "  </thead>\n",
       "  <tbody>\n",
       "    <tr>\n",
       "      <th>count</th>\n",
       "      <td>3999.000000</td>\n",
       "      <td>3.999000e+03</td>\n",
       "      <td>3.999000e+03</td>\n",
       "      <td>3.999000e+03</td>\n",
       "      <td>3.999000e+03</td>\n",
       "      <td>3.999000e+03</td>\n",
       "      <td>3.999000e+03</td>\n",
       "      <td>3.999000e+03</td>\n",
       "      <td>3.999000e+03</td>\n",
       "    </tr>\n",
       "    <tr>\n",
       "      <th>mean</th>\n",
       "      <td>0.000000</td>\n",
       "      <td>-5.685763e-17</td>\n",
       "      <td>1.705729e-16</td>\n",
       "      <td>-2.842882e-17</td>\n",
       "      <td>2.842882e-17</td>\n",
       "      <td>-7.107204e-18</td>\n",
       "      <td>4.264322e-17</td>\n",
       "      <td>5.685763e-17</td>\n",
       "      <td>1.421441e-17</td>\n",
       "    </tr>\n",
       "    <tr>\n",
       "      <th>std</th>\n",
       "      <td>1.000125</td>\n",
       "      <td>1.000125e+00</td>\n",
       "      <td>1.000125e+00</td>\n",
       "      <td>1.000125e+00</td>\n",
       "      <td>1.000125e+00</td>\n",
       "      <td>1.000125e+00</td>\n",
       "      <td>1.000125e+00</td>\n",
       "      <td>1.000125e+00</td>\n",
       "      <td>1.000125e+00</td>\n",
       "    </tr>\n",
       "    <tr>\n",
       "      <th>min</th>\n",
       "      <td>-1.735125</td>\n",
       "      <td>-1.086971e+00</td>\n",
       "      <td>-7.695784e-01</td>\n",
       "      <td>-8.527184e-01</td>\n",
       "      <td>-1.258576e+00</td>\n",
       "      <td>-6.043135e-01</td>\n",
       "      <td>-6.261434e-01</td>\n",
       "      <td>-1.993611e+00</td>\n",
       "      <td>-7.669193e-01</td>\n",
       "    </tr>\n",
       "    <tr>\n",
       "      <th>25%</th>\n",
       "      <td>-0.865331</td>\n",
       "      <td>-7.711597e-01</td>\n",
       "      <td>-7.695784e-01</td>\n",
       "      <td>-7.835524e-01</td>\n",
       "      <td>-9.294109e-01</td>\n",
       "      <td>-6.043135e-01</td>\n",
       "      <td>-6.261434e-01</td>\n",
       "      <td>-8.661823e-01</td>\n",
       "      <td>-7.669193e-01</td>\n",
       "    </tr>\n",
       "    <tr>\n",
       "      <th>50%</th>\n",
       "      <td>0.001017</td>\n",
       "      <td>-3.523592e-01</td>\n",
       "      <td>-7.695784e-01</td>\n",
       "      <td>-4.559271e-01</td>\n",
       "      <td>5.808475e-02</td>\n",
       "      <td>-6.043135e-01</td>\n",
       "      <td>-6.261434e-01</td>\n",
       "      <td>-1.092530e-02</td>\n",
       "      <td>-7.669193e-01</td>\n",
       "    </tr>\n",
       "    <tr>\n",
       "      <th>75%</th>\n",
       "      <td>0.866503</td>\n",
       "      <td>4.881053e-01</td>\n",
       "      <td>6.831212e-01</td>\n",
       "      <td>4.642292e-01</td>\n",
       "      <td>6.066935e-01</td>\n",
       "      <td>4.512077e-01</td>\n",
       "      <td>4.323844e-01</td>\n",
       "      <td>8.097050e-01</td>\n",
       "      <td>1.303918e+00</td>\n",
       "    </tr>\n",
       "    <tr>\n",
       "      <th>max</th>\n",
       "      <td>1.728543</td>\n",
       "      <td>2.377003e+00</td>\n",
       "      <td>2.135821e+00</td>\n",
       "      <td>2.335902e+00</td>\n",
       "      <td>2.910850e+00</td>\n",
       "      <td>2.034489e+00</td>\n",
       "      <td>2.020176e+00</td>\n",
       "      <td>2.023095e+00</td>\n",
       "      <td>1.303918e+00</td>\n",
       "    </tr>\n",
       "  </tbody>\n",
       "</table>\n",
       "</div>"
      ],
      "text/plain": [
       "               ID#       Balance     cc1_miles   Bonus_miles   Bonus_trans  \\\n",
       "count  3999.000000  3.999000e+03  3.999000e+03  3.999000e+03  3.999000e+03   \n",
       "mean      0.000000 -5.685763e-17  1.705729e-16 -2.842882e-17  2.842882e-17   \n",
       "std       1.000125  1.000125e+00  1.000125e+00  1.000125e+00  1.000125e+00   \n",
       "min      -1.735125 -1.086971e+00 -7.695784e-01 -8.527184e-01 -1.258576e+00   \n",
       "25%      -0.865331 -7.711597e-01 -7.695784e-01 -7.835524e-01 -9.294109e-01   \n",
       "50%       0.001017 -3.523592e-01 -7.695784e-01 -4.559271e-01  5.808475e-02   \n",
       "75%       0.866503  4.881053e-01  6.831212e-01  4.642292e-01  6.066935e-01   \n",
       "max       1.728543  2.377003e+00  2.135821e+00  2.335902e+00  2.910850e+00   \n",
       "\n",
       "       Flight_miles_12mo  Flight_trans_12  Days_since_enroll        Award?  \n",
       "count       3.999000e+03     3.999000e+03       3.999000e+03  3.999000e+03  \n",
       "mean       -7.107204e-18     4.264322e-17       5.685763e-17  1.421441e-17  \n",
       "std         1.000125e+00     1.000125e+00       1.000125e+00  1.000125e+00  \n",
       "min        -6.043135e-01    -6.261434e-01      -1.993611e+00 -7.669193e-01  \n",
       "25%        -6.043135e-01    -6.261434e-01      -8.661823e-01 -7.669193e-01  \n",
       "50%        -6.043135e-01    -6.261434e-01      -1.092530e-02 -7.669193e-01  \n",
       "75%         4.512077e-01     4.323844e-01       8.097050e-01  1.303918e+00  \n",
       "max         2.034489e+00     2.020176e+00       2.023095e+00  1.303918e+00  "
      ]
     },
     "execution_count": 118,
     "metadata": {},
     "output_type": "execute_result"
    }
   ],
   "source": [
    "df_scaled.describe()"
   ]
  },
  {
   "cell_type": "markdown",
   "id": "1eed8b91-e817-4890-8c62-50f72914b58d",
   "metadata": {},
   "source": [
    "Implementing Clustering Algorithms:\n",
    "\r\n",
    "•\tImplement the K-Means, hierarchical, and DBSCAN algorithms using a programming language such as Python with libraries like scikit-learn or MATLAB\n",
    "\n",
    ".\r\n",
    "•\tApply each clustering algorithm to the pre-processed dataset to identify clusters within the dat\n",
    "\n",
    "a.\r\n",
    "•\tExperiment with different parameter settings for hierarchical clustering (e.g., linkage criteria), K-means (Elbow curve for different K values) and DBSCAN (e.g., epsilon, minPts) and evaluate the clustering results.\r\n"
   ]
  },
  {
   "cell_type": "markdown",
   "id": "ef32dc53-5b76-45e1-a615-9b84b318d082",
   "metadata": {},
   "source": [
    "Model Building"
   ]
  },
  {
   "cell_type": "code",
   "execution_count": 122,
   "id": "32879187-b359-4c94-9617-156e182bcb17",
   "metadata": {},
   "outputs": [],
   "source": [
    "# import hierarchical clustering libraries\n",
    "import scipy.cluster.hierarchy as sch # to build dendrogram and build the plotting\n",
    "from sklearn.cluster import AgglomerativeClustering"
   ]
  },
  {
   "cell_type": "code",
   "execution_count": null,
   "id": "626cb9dc-3cd2-4114-8150-a99f1b0932f8",
   "metadata": {},
   "outputs": [],
   "source": [
    "# create dendrogram\n",
    "dendrogram = sch.dendrogram(sch.linkage(df_scaled, method='single')) # single linkage"
   ]
  },
  {
   "cell_type": "code",
   "execution_count": null,
   "id": "fa41b147-d105-4ac2-8165-75be0dbf081f",
   "metadata": {},
   "outputs": [],
   "source": [
    "# create clusters, suppose got input from customer that go for 4 clusters\n",
    "hc = AgglomerativeClustering(n_clusters=4, metric = 'euclidean',linkage = 'single')"
   ]
  },
  {
   "cell_type": "code",
   "execution_count": null,
   "id": "dffb9ac0-4cec-4716-adf7-a9befab43260",
   "metadata": {},
   "outputs": [],
   "source": [
    "hc"
   ]
  },
  {
   "cell_type": "code",
   "execution_count": null,
   "id": "aaf6f545-5da5-4746-8d00-7c655b09658f",
   "metadata": {},
   "outputs": [],
   "source": [
    "# save clusters for chart\n",
    "y_hc = hc.fit_predict(df_scaled) # apply fit_predict method on dataset df_scaled. We will get cluster nos. in y_hc\n",
    "Clusters=pd.DataFrame(y_hc,columns=['Cluster_No']) # append those no. of cluster numbers create dataframe"
   ]
  },
  {
   "cell_type": "code",
   "execution_count": null,
   "id": "ec052313-ba64-4bf9-982e-144e894b7349",
   "metadata": {},
   "outputs": [],
   "source": [
    "y_hc"
   ]
  },
  {
   "cell_type": "code",
   "execution_count": 852,
   "id": "4d6ccad7-0a64-423a-9144-c59a9cf0476c",
   "metadata": {},
   "outputs": [
    {
     "data": {
      "text/html": [
       "<div>\n",
       "<style scoped>\n",
       "    .dataframe tbody tr th:only-of-type {\n",
       "        vertical-align: middle;\n",
       "    }\n",
       "\n",
       "    .dataframe tbody tr th {\n",
       "        vertical-align: top;\n",
       "    }\n",
       "\n",
       "    .dataframe thead th {\n",
       "        text-align: right;\n",
       "    }\n",
       "</style>\n",
       "<table border=\"1\" class=\"dataframe\">\n",
       "  <thead>\n",
       "    <tr style=\"text-align: right;\">\n",
       "      <th></th>\n",
       "      <th>Cluster_No</th>\n",
       "    </tr>\n",
       "  </thead>\n",
       "  <tbody>\n",
       "    <tr>\n",
       "      <th>0</th>\n",
       "      <td>0</td>\n",
       "    </tr>\n",
       "    <tr>\n",
       "      <th>1</th>\n",
       "      <td>0</td>\n",
       "    </tr>\n",
       "    <tr>\n",
       "      <th>2</th>\n",
       "      <td>0</td>\n",
       "    </tr>\n",
       "    <tr>\n",
       "      <th>3</th>\n",
       "      <td>0</td>\n",
       "    </tr>\n",
       "    <tr>\n",
       "      <th>4</th>\n",
       "      <td>1</td>\n",
       "    </tr>\n",
       "    <tr>\n",
       "      <th>...</th>\n",
       "      <td>...</td>\n",
       "    </tr>\n",
       "    <tr>\n",
       "      <th>3994</th>\n",
       "      <td>1</td>\n",
       "    </tr>\n",
       "    <tr>\n",
       "      <th>3995</th>\n",
       "      <td>1</td>\n",
       "    </tr>\n",
       "    <tr>\n",
       "      <th>3996</th>\n",
       "      <td>1</td>\n",
       "    </tr>\n",
       "    <tr>\n",
       "      <th>3997</th>\n",
       "      <td>0</td>\n",
       "    </tr>\n",
       "    <tr>\n",
       "      <th>3998</th>\n",
       "      <td>0</td>\n",
       "    </tr>\n",
       "  </tbody>\n",
       "</table>\n",
       "<p>3999 rows × 1 columns</p>\n",
       "</div>"
      ],
      "text/plain": [
       "      Cluster_No\n",
       "0              0\n",
       "1              0\n",
       "2              0\n",
       "3              0\n",
       "4              1\n",
       "...          ...\n",
       "3994           1\n",
       "3995           1\n",
       "3996           1\n",
       "3997           0\n",
       "3998           0\n",
       "\n",
       "[3999 rows x 1 columns]"
      ]
     },
     "execution_count": 852,
     "metadata": {},
     "output_type": "execute_result"
    }
   ],
   "source": [
    "Clusters  # Data point 0 belongs to 0th cluster, Data point 1 belongs to 3rd cluster"
   ]
  },
  {
   "cell_type": "code",
   "execution_count": 859,
   "id": "e64e1580-7b47-4e6d-b4fc-c1896991cbeb",
   "metadata": {},
   "outputs": [
    {
     "data": {
      "text/plain": [
       "Cluster_No\n",
       "0             2518\n",
       "1             1479\n",
       "2                1\n",
       "3                1\n",
       "Name: count, dtype: int64"
      ]
     },
     "execution_count": 859,
     "metadata": {},
     "output_type": "execute_result"
    }
   ],
   "source": [
    "Clusters.value_counts()"
   ]
  },
  {
   "cell_type": "code",
   "execution_count": 861,
   "id": "9f075b62-c160-483a-a637-944cf26446ad",
   "metadata": {},
   "outputs": [],
   "source": [
    "df_H = pd.DataFrame(df)"
   ]
  },
  {
   "cell_type": "code",
   "execution_count": 863,
   "id": "9ebfe04c-bc5e-4804-9e44-dfbef8034784",
   "metadata": {},
   "outputs": [],
   "source": [
    "# Now let us map this cluster membership to the data points\n",
    "df_H['h_clusterid'] = Clusters"
   ]
  },
  {
   "cell_type": "code",
   "execution_count": 865,
   "id": "fe9b533b-8e10-46be-8f00-b535218e557e",
   "metadata": {},
   "outputs": [
    {
     "data": {
      "text/html": [
       "<div>\n",
       "<style scoped>\n",
       "    .dataframe tbody tr th:only-of-type {\n",
       "        vertical-align: middle;\n",
       "    }\n",
       "\n",
       "    .dataframe tbody tr th {\n",
       "        vertical-align: top;\n",
       "    }\n",
       "\n",
       "    .dataframe thead th {\n",
       "        text-align: right;\n",
       "    }\n",
       "</style>\n",
       "<table border=\"1\" class=\"dataframe\">\n",
       "  <thead>\n",
       "    <tr style=\"text-align: right;\">\n",
       "      <th></th>\n",
       "      <th>ID#</th>\n",
       "      <th>Balance</th>\n",
       "      <th>cc1_miles</th>\n",
       "      <th>Bonus_miles</th>\n",
       "      <th>Bonus_trans</th>\n",
       "      <th>Flight_miles_12mo</th>\n",
       "      <th>Flight_trans_12</th>\n",
       "      <th>Days_since_enroll</th>\n",
       "      <th>Award?</th>\n",
       "      <th>h_clusterid</th>\n",
       "    </tr>\n",
       "  </thead>\n",
       "  <tbody>\n",
       "    <tr>\n",
       "      <th>0</th>\n",
       "      <td>1</td>\n",
       "      <td>28143.0</td>\n",
       "      <td>1</td>\n",
       "      <td>174.0</td>\n",
       "      <td>1</td>\n",
       "      <td>0.0</td>\n",
       "      <td>0.0</td>\n",
       "      <td>7000.0</td>\n",
       "      <td>0</td>\n",
       "      <td>0</td>\n",
       "    </tr>\n",
       "    <tr>\n",
       "      <th>1</th>\n",
       "      <td>2</td>\n",
       "      <td>19244.0</td>\n",
       "      <td>1</td>\n",
       "      <td>215.0</td>\n",
       "      <td>2</td>\n",
       "      <td>0.0</td>\n",
       "      <td>0.0</td>\n",
       "      <td>6968.0</td>\n",
       "      <td>0</td>\n",
       "      <td>0</td>\n",
       "    </tr>\n",
       "    <tr>\n",
       "      <th>2</th>\n",
       "      <td>3</td>\n",
       "      <td>41354.0</td>\n",
       "      <td>1</td>\n",
       "      <td>4123.0</td>\n",
       "      <td>4</td>\n",
       "      <td>0.0</td>\n",
       "      <td>0.0</td>\n",
       "      <td>7034.0</td>\n",
       "      <td>0</td>\n",
       "      <td>0</td>\n",
       "    </tr>\n",
       "    <tr>\n",
       "      <th>3</th>\n",
       "      <td>4</td>\n",
       "      <td>14776.0</td>\n",
       "      <td>1</td>\n",
       "      <td>500.0</td>\n",
       "      <td>1</td>\n",
       "      <td>0.0</td>\n",
       "      <td>0.0</td>\n",
       "      <td>6952.0</td>\n",
       "      <td>0</td>\n",
       "      <td>0</td>\n",
       "    </tr>\n",
       "    <tr>\n",
       "      <th>4</th>\n",
       "      <td>5</td>\n",
       "      <td>97752.0</td>\n",
       "      <td>4</td>\n",
       "      <td>43300.0</td>\n",
       "      <td>26</td>\n",
       "      <td>777.5</td>\n",
       "      <td>2.5</td>\n",
       "      <td>6935.0</td>\n",
       "      <td>1</td>\n",
       "      <td>1</td>\n",
       "    </tr>\n",
       "    <tr>\n",
       "      <th>...</th>\n",
       "      <td>...</td>\n",
       "      <td>...</td>\n",
       "      <td>...</td>\n",
       "      <td>...</td>\n",
       "      <td>...</td>\n",
       "      <td>...</td>\n",
       "      <td>...</td>\n",
       "      <td>...</td>\n",
       "      <td>...</td>\n",
       "      <td>...</td>\n",
       "    </tr>\n",
       "    <tr>\n",
       "      <th>3994</th>\n",
       "      <td>4017</td>\n",
       "      <td>18476.0</td>\n",
       "      <td>1</td>\n",
       "      <td>8525.0</td>\n",
       "      <td>4</td>\n",
       "      <td>200.0</td>\n",
       "      <td>1.0</td>\n",
       "      <td>1403.0</td>\n",
       "      <td>1</td>\n",
       "      <td>1</td>\n",
       "    </tr>\n",
       "    <tr>\n",
       "      <th>3995</th>\n",
       "      <td>4018</td>\n",
       "      <td>64385.0</td>\n",
       "      <td>1</td>\n",
       "      <td>981.0</td>\n",
       "      <td>5</td>\n",
       "      <td>0.0</td>\n",
       "      <td>0.0</td>\n",
       "      <td>1395.0</td>\n",
       "      <td>1</td>\n",
       "      <td>1</td>\n",
       "    </tr>\n",
       "    <tr>\n",
       "      <th>3996</th>\n",
       "      <td>4019</td>\n",
       "      <td>73597.0</td>\n",
       "      <td>3</td>\n",
       "      <td>25447.0</td>\n",
       "      <td>8</td>\n",
       "      <td>0.0</td>\n",
       "      <td>0.0</td>\n",
       "      <td>1402.0</td>\n",
       "      <td>1</td>\n",
       "      <td>1</td>\n",
       "    </tr>\n",
       "    <tr>\n",
       "      <th>3997</th>\n",
       "      <td>4020</td>\n",
       "      <td>54899.0</td>\n",
       "      <td>1</td>\n",
       "      <td>500.0</td>\n",
       "      <td>1</td>\n",
       "      <td>500.0</td>\n",
       "      <td>1.0</td>\n",
       "      <td>1401.0</td>\n",
       "      <td>0</td>\n",
       "      <td>0</td>\n",
       "    </tr>\n",
       "    <tr>\n",
       "      <th>3998</th>\n",
       "      <td>4021</td>\n",
       "      <td>3016.0</td>\n",
       "      <td>1</td>\n",
       "      <td>0.0</td>\n",
       "      <td>0</td>\n",
       "      <td>0.0</td>\n",
       "      <td>0.0</td>\n",
       "      <td>1398.0</td>\n",
       "      <td>0</td>\n",
       "      <td>0</td>\n",
       "    </tr>\n",
       "  </tbody>\n",
       "</table>\n",
       "<p>3999 rows × 10 columns</p>\n",
       "</div>"
      ],
      "text/plain": [
       "       ID#  Balance  cc1_miles  Bonus_miles  Bonus_trans  Flight_miles_12mo  \\\n",
       "0        1  28143.0          1        174.0            1                0.0   \n",
       "1        2  19244.0          1        215.0            2                0.0   \n",
       "2        3  41354.0          1       4123.0            4                0.0   \n",
       "3        4  14776.0          1        500.0            1                0.0   \n",
       "4        5  97752.0          4      43300.0           26              777.5   \n",
       "...    ...      ...        ...          ...          ...                ...   \n",
       "3994  4017  18476.0          1       8525.0            4              200.0   \n",
       "3995  4018  64385.0          1        981.0            5                0.0   \n",
       "3996  4019  73597.0          3      25447.0            8                0.0   \n",
       "3997  4020  54899.0          1        500.0            1              500.0   \n",
       "3998  4021   3016.0          1          0.0            0                0.0   \n",
       "\n",
       "      Flight_trans_12  Days_since_enroll  Award?  h_clusterid  \n",
       "0                 0.0             7000.0       0            0  \n",
       "1                 0.0             6968.0       0            0  \n",
       "2                 0.0             7034.0       0            0  \n",
       "3                 0.0             6952.0       0            0  \n",
       "4                 2.5             6935.0       1            1  \n",
       "...               ...                ...     ...          ...  \n",
       "3994              1.0             1403.0       1            1  \n",
       "3995              0.0             1395.0       1            1  \n",
       "3996              0.0             1402.0       1            1  \n",
       "3997              1.0             1401.0       0            0  \n",
       "3998              0.0             1398.0       0            0  \n",
       "\n",
       "[3999 rows x 10 columns]"
      ]
     },
     "execution_count": 865,
     "metadata": {},
     "output_type": "execute_result"
    }
   ],
   "source": [
    "df_H"
   ]
  },
  {
   "cell_type": "code",
   "execution_count": 867,
   "id": "1673084c-235b-40fe-b293-126736d548e7",
   "metadata": {},
   "outputs": [],
   "source": [
    "# East-West Airlines is trying to learn more about its customers.  Key issues are their flying patterns, earning and use of frequent flyer rewards, and use card. of the airline credit\n",
    "#   The task is to identify customer segments via clustering."
   ]
  },
  {
   "cell_type": "code",
   "execution_count": 869,
   "id": "2945241d-fbbd-46c9-abe7-75cf40922da9",
   "metadata": {},
   "outputs": [],
   "source": [
    "#Field Name\tData Type\tMax Data Length\tRaw Data or Telcom Created Field?\tDescription\n",
    "#ID#\tNUMBER\t\tTelcom\tUnique ID\n",
    "#Balance\tNUMBER\t8\tRaw\tNumber of miles eligible for award travel\n",
    "#Qual_miles\tNUMBER\t8\tRaw\tNumber of miles counted as qualifying for Topflight status\n",
    "#cc1_miles\tCHAR\t1\tRaw\tNumber of miles earned with freq. flyer credit card in the past 12 months:\n",
    "#cc2_miles\tCHAR\t1\tRaw\tNumber of miles earned with Rewards credit card in the past 12 months:\n",
    "#cc3_miles\tCHAR\t1\tRaw\tNumber of miles earned with Small Business credit card in the past 12 months:\n",
    "#   note:  miles bins:\t\t\t\t1 = under 5,000\n",
    "#\t\t\t\t2 = 5,000 - 10,000\n",
    "#\t\t\t\t3 = 10,001 - 25,000\n",
    "#\t\t\t\t4 = 25,001 - 50,000\n",
    "#\t\t\t\t5 = over 50,000\n",
    "#Bonus_miles\tNUMBER\t\tRaw\tNumber of miles earned from non-flight bonus transactions in the past 12 months\n",
    "#Bonus_trans\tNUMBER\t\tRaw\tNumber of non-flight bonus transactions in the past 12 months\n",
    "#Flight_miles_12mo\tNUMBER\t\tRaw\tNumber of flight miles in the past 12 months\n",
    "#Flight_trans_12\tNUMBER\t\tRaw\tNumber of flight transactions in the past 12 months\n",
    "#Days_since_enroll\tNUMBER\t\tTelcom\tNumber of days since Enroll_date\n",
    "#Award?\tNUMBER\t\tTelcom\tDummy variable for Last_award (1=not null, 0=null)\n"
   ]
  },
  {
   "cell_type": "code",
   "execution_count": 875,
   "id": "780e8f71-fed1-4257-bfee-928de9a6eb55",
   "metadata": {},
   "outputs": [
    {
     "data": {
      "text/html": [
       "<div>\n",
       "<style scoped>\n",
       "    .dataframe tbody tr th:only-of-type {\n",
       "        vertical-align: middle;\n",
       "    }\n",
       "\n",
       "    .dataframe tbody tr th {\n",
       "        vertical-align: top;\n",
       "    }\n",
       "\n",
       "    .dataframe thead th {\n",
       "        text-align: right;\n",
       "    }\n",
       "</style>\n",
       "<table border=\"1\" class=\"dataframe\">\n",
       "  <thead>\n",
       "    <tr style=\"text-align: right;\">\n",
       "      <th></th>\n",
       "      <th>ID#</th>\n",
       "      <th>h_clusterid</th>\n",
       "    </tr>\n",
       "  </thead>\n",
       "  <tbody>\n",
       "    <tr>\n",
       "      <th>0</th>\n",
       "      <td>1</td>\n",
       "      <td>0</td>\n",
       "    </tr>\n",
       "    <tr>\n",
       "      <th>2494</th>\n",
       "      <td>2513</td>\n",
       "      <td>0</td>\n",
       "    </tr>\n",
       "    <tr>\n",
       "      <th>2495</th>\n",
       "      <td>2514</td>\n",
       "      <td>0</td>\n",
       "    </tr>\n",
       "    <tr>\n",
       "      <th>2496</th>\n",
       "      <td>2515</td>\n",
       "      <td>0</td>\n",
       "    </tr>\n",
       "    <tr>\n",
       "      <th>2497</th>\n",
       "      <td>2516</td>\n",
       "      <td>0</td>\n",
       "    </tr>\n",
       "    <tr>\n",
       "      <th>...</th>\n",
       "      <td>...</td>\n",
       "      <td>...</td>\n",
       "    </tr>\n",
       "    <tr>\n",
       "      <th>1043</th>\n",
       "      <td>1054</td>\n",
       "      <td>1</td>\n",
       "    </tr>\n",
       "    <tr>\n",
       "      <th>2589</th>\n",
       "      <td>2608</td>\n",
       "      <td>1</td>\n",
       "    </tr>\n",
       "    <tr>\n",
       "      <th>1999</th>\n",
       "      <td>2016</td>\n",
       "      <td>1</td>\n",
       "    </tr>\n",
       "    <tr>\n",
       "      <th>3583</th>\n",
       "      <td>3606</td>\n",
       "      <td>2</td>\n",
       "    </tr>\n",
       "    <tr>\n",
       "      <th>3366</th>\n",
       "      <td>3389</td>\n",
       "      <td>3</td>\n",
       "    </tr>\n",
       "  </tbody>\n",
       "</table>\n",
       "<p>3999 rows × 2 columns</p>\n",
       "</div>"
      ],
      "text/plain": [
       "       ID#  h_clusterid\n",
       "0        1            0\n",
       "2494  2513            0\n",
       "2495  2514            0\n",
       "2496  2515            0\n",
       "2497  2516            0\n",
       "...    ...          ...\n",
       "1043  1054            1\n",
       "2589  2608            1\n",
       "1999  2016            1\n",
       "3583  3606            2\n",
       "3366  3389            3\n",
       "\n",
       "[3999 rows x 2 columns]"
      ]
     },
     "execution_count": 875,
     "metadata": {},
     "output_type": "execute_result"
    }
   ],
   "source": [
    "df1=df_H.sort_values(\"h_clusterid\")\n",
    "df1.iloc[:,[0 ,9]]"
   ]
  },
  {
   "cell_type": "code",
   "execution_count": 877,
   "id": "d6a0d09c-5c80-4fa7-9568-17c4cf636a3b",
   "metadata": {},
   "outputs": [
    {
     "data": {
      "text/plain": [
       "h_clusterid\n",
       "0    2518\n",
       "1    1479\n",
       "2       1\n",
       "3       1\n",
       "Name: count, dtype: int64"
      ]
     },
     "execution_count": 877,
     "metadata": {},
     "output_type": "execute_result"
    }
   ],
   "source": [
    "df1['h_clusterid'].value_counts()"
   ]
  },
  {
   "cell_type": "markdown",
   "id": "5c34c000-7275-4ed6-9cb9-a799e9510d9b",
   "metadata": {},
   "source": [
    "Model Building"
   ]
  },
  {
   "cell_type": "code",
   "execution_count": 879,
   "id": "4bdeab97-3aca-4d59-9c5d-1ca9873476cc",
   "metadata": {},
   "outputs": [],
   "source": [
    "# We don't know the no. of clusters. So let's use K-Means and elbow method to choose this number of optimal clusters.\n",
    "from sklearn.cluster import KMeans"
   ]
  },
  {
   "cell_type": "code",
   "execution_count": 881,
   "id": "f3844803-cf83-4a92-a8f0-456ed27e4945",
   "metadata": {},
   "outputs": [
    {
     "data": {
      "text/html": [
       "<div>\n",
       "<style scoped>\n",
       "    .dataframe tbody tr th:only-of-type {\n",
       "        vertical-align: middle;\n",
       "    }\n",
       "\n",
       "    .dataframe tbody tr th {\n",
       "        vertical-align: top;\n",
       "    }\n",
       "\n",
       "    .dataframe thead th {\n",
       "        text-align: right;\n",
       "    }\n",
       "</style>\n",
       "<table border=\"1\" class=\"dataframe\">\n",
       "  <thead>\n",
       "    <tr style=\"text-align: right;\">\n",
       "      <th></th>\n",
       "      <th>ID#</th>\n",
       "      <th>Balance</th>\n",
       "      <th>cc1_miles</th>\n",
       "      <th>Bonus_miles</th>\n",
       "      <th>Bonus_trans</th>\n",
       "      <th>Flight_miles_12mo</th>\n",
       "      <th>Flight_trans_12</th>\n",
       "      <th>Days_since_enroll</th>\n",
       "      <th>Award?</th>\n",
       "    </tr>\n",
       "  </thead>\n",
       "  <tbody>\n",
       "    <tr>\n",
       "      <th>0</th>\n",
       "      <td>-1.735125</td>\n",
       "      <td>-0.607258</td>\n",
       "      <td>-0.769578</td>\n",
       "      <td>-0.843091</td>\n",
       "      <td>-1.148854</td>\n",
       "      <td>-0.604313</td>\n",
       "      <td>-0.626143</td>\n",
       "      <td>1.395454</td>\n",
       "      <td>-0.766919</td>\n",
       "    </tr>\n",
       "    <tr>\n",
       "      <th>1</th>\n",
       "      <td>-1.734263</td>\n",
       "      <td>-0.758947</td>\n",
       "      <td>-0.769578</td>\n",
       "      <td>-0.840822</td>\n",
       "      <td>-1.039133</td>\n",
       "      <td>-0.604313</td>\n",
       "      <td>-0.626143</td>\n",
       "      <td>1.379957</td>\n",
       "      <td>-0.766919</td>\n",
       "    </tr>\n",
       "    <tr>\n",
       "      <th>2</th>\n",
       "      <td>-1.733402</td>\n",
       "      <td>-0.382070</td>\n",
       "      <td>-0.769578</td>\n",
       "      <td>-0.624581</td>\n",
       "      <td>-0.819689</td>\n",
       "      <td>-0.604313</td>\n",
       "      <td>-0.626143</td>\n",
       "      <td>1.411920</td>\n",
       "      <td>-0.766919</td>\n",
       "    </tr>\n",
       "    <tr>\n",
       "      <th>3</th>\n",
       "      <td>-1.732540</td>\n",
       "      <td>-0.835106</td>\n",
       "      <td>-0.769578</td>\n",
       "      <td>-0.825052</td>\n",
       "      <td>-1.148854</td>\n",
       "      <td>-0.604313</td>\n",
       "      <td>-0.626143</td>\n",
       "      <td>1.372208</td>\n",
       "      <td>-0.766919</td>\n",
       "    </tr>\n",
       "    <tr>\n",
       "      <th>4</th>\n",
       "      <td>-1.731679</td>\n",
       "      <td>0.579265</td>\n",
       "      <td>1.409471</td>\n",
       "      <td>1.543191</td>\n",
       "      <td>1.594189</td>\n",
       "      <td>2.034489</td>\n",
       "      <td>2.020176</td>\n",
       "      <td>1.363975</td>\n",
       "      <td>1.303918</td>\n",
       "    </tr>\n",
       "    <tr>\n",
       "      <th>...</th>\n",
       "      <td>...</td>\n",
       "      <td>...</td>\n",
       "      <td>...</td>\n",
       "      <td>...</td>\n",
       "      <td>...</td>\n",
       "      <td>...</td>\n",
       "      <td>...</td>\n",
       "      <td>...</td>\n",
       "      <td>...</td>\n",
       "    </tr>\n",
       "    <tr>\n",
       "      <th>3994</th>\n",
       "      <td>1.725097</td>\n",
       "      <td>-0.772038</td>\n",
       "      <td>-0.769578</td>\n",
       "      <td>-0.381007</td>\n",
       "      <td>-0.819689</td>\n",
       "      <td>0.074478</td>\n",
       "      <td>0.432384</td>\n",
       "      <td>-1.315120</td>\n",
       "      <td>1.303918</td>\n",
       "    </tr>\n",
       "    <tr>\n",
       "      <th>3995</th>\n",
       "      <td>1.725958</td>\n",
       "      <td>0.010506</td>\n",
       "      <td>-0.769578</td>\n",
       "      <td>-0.798437</td>\n",
       "      <td>-0.709967</td>\n",
       "      <td>-0.604313</td>\n",
       "      <td>-0.626143</td>\n",
       "      <td>-1.318994</td>\n",
       "      <td>1.303918</td>\n",
       "    </tr>\n",
       "    <tr>\n",
       "      <th>3996</th>\n",
       "      <td>1.726820</td>\n",
       "      <td>0.167530</td>\n",
       "      <td>0.683121</td>\n",
       "      <td>0.555335</td>\n",
       "      <td>-0.380802</td>\n",
       "      <td>-0.604313</td>\n",
       "      <td>-0.626143</td>\n",
       "      <td>-1.315604</td>\n",
       "      <td>1.303918</td>\n",
       "    </tr>\n",
       "    <tr>\n",
       "      <th>3997</th>\n",
       "      <td>1.727682</td>\n",
       "      <td>-0.151188</td>\n",
       "      <td>-0.769578</td>\n",
       "      <td>-0.825052</td>\n",
       "      <td>-1.148854</td>\n",
       "      <td>1.092666</td>\n",
       "      <td>0.432384</td>\n",
       "      <td>-1.316088</td>\n",
       "      <td>-0.766919</td>\n",
       "    </tr>\n",
       "    <tr>\n",
       "      <th>3998</th>\n",
       "      <td>1.728543</td>\n",
       "      <td>-1.035562</td>\n",
       "      <td>-0.769578</td>\n",
       "      <td>-0.852718</td>\n",
       "      <td>-1.258576</td>\n",
       "      <td>-0.604313</td>\n",
       "      <td>-0.626143</td>\n",
       "      <td>-1.317541</td>\n",
       "      <td>-0.766919</td>\n",
       "    </tr>\n",
       "  </tbody>\n",
       "</table>\n",
       "<p>3999 rows × 9 columns</p>\n",
       "</div>"
      ],
      "text/plain": [
       "           ID#   Balance  cc1_miles  Bonus_miles  Bonus_trans  \\\n",
       "0    -1.735125 -0.607258  -0.769578    -0.843091    -1.148854   \n",
       "1    -1.734263 -0.758947  -0.769578    -0.840822    -1.039133   \n",
       "2    -1.733402 -0.382070  -0.769578    -0.624581    -0.819689   \n",
       "3    -1.732540 -0.835106  -0.769578    -0.825052    -1.148854   \n",
       "4    -1.731679  0.579265   1.409471     1.543191     1.594189   \n",
       "...        ...       ...        ...          ...          ...   \n",
       "3994  1.725097 -0.772038  -0.769578    -0.381007    -0.819689   \n",
       "3995  1.725958  0.010506  -0.769578    -0.798437    -0.709967   \n",
       "3996  1.726820  0.167530   0.683121     0.555335    -0.380802   \n",
       "3997  1.727682 -0.151188  -0.769578    -0.825052    -1.148854   \n",
       "3998  1.728543 -1.035562  -0.769578    -0.852718    -1.258576   \n",
       "\n",
       "      Flight_miles_12mo  Flight_trans_12  Days_since_enroll    Award?  \n",
       "0             -0.604313        -0.626143           1.395454 -0.766919  \n",
       "1             -0.604313        -0.626143           1.379957 -0.766919  \n",
       "2             -0.604313        -0.626143           1.411920 -0.766919  \n",
       "3             -0.604313        -0.626143           1.372208 -0.766919  \n",
       "4              2.034489         2.020176           1.363975  1.303918  \n",
       "...                 ...              ...                ...       ...  \n",
       "3994           0.074478         0.432384          -1.315120  1.303918  \n",
       "3995          -0.604313        -0.626143          -1.318994  1.303918  \n",
       "3996          -0.604313        -0.626143          -1.315604  1.303918  \n",
       "3997           1.092666         0.432384          -1.316088 -0.766919  \n",
       "3998          -0.604313        -0.626143          -1.317541 -0.766919  \n",
       "\n",
       "[3999 rows x 9 columns]"
      ]
     },
     "execution_count": 881,
     "metadata": {},
     "output_type": "execute_result"
    }
   ],
   "source": [
    "df_scaled"
   ]
  },
  {
   "cell_type": "code",
   "execution_count": 883,
   "id": "51668df7-1f1d-4ab2-92ab-ad03a827bed2",
   "metadata": {},
   "outputs": [],
   "source": [
    "# How to find optimum number of  cluster\n",
    "#The K-means algorithm aims to choose centroids that minimise the inertia, or within-cluster sum-of-squares criterion:"
   ]
  },
  {
   "cell_type": "code",
   "execution_count": 885,
   "id": "acf7612a-3346-4fe1-96ca-4e63d60c9798",
   "metadata": {},
   "outputs": [],
   "source": [
    "# Inertia measures how well a dataset was clustered by K-Means.\n",
    "# It is calculated by measuring the distance between each data point and its centroid, squaring this distance,\n",
    "# and summing these squares across one cluster.\n",
    "# A good model is one with low inertia AND a low number of clusters (K).\n",
    "\n",
    "# To plot the elbow method graph, we need to compute the WCSS (Within Cluster Sum of Squares)\n",
    "# Let us say max. no. of clusters could be 10.\n",
    "# As we are going to have 10 iterations we are going to write a for loop to create a list of 10 WCSS for the no. of clusters\n"
   ]
  },
  {
   "cell_type": "code",
   "execution_count": 887,
   "id": "e1a9d357-65fa-471e-a13b-87c2a864ae4f",
   "metadata": {},
   "outputs": [
    {
     "data": {
      "image/png": "[encoded data removed]",
      "text/plain": [
       "<Figure size 640x480 with 1 Axes>"
      ]
     },
     "metadata": {},
     "output_type": "display_data"
    }
   ],
   "source": [
    "wcss = [] # within cluster sum of square. Initialize WCSS and begin the loop\n",
    "for i in range(1, 11):\n",
    "    kmeans = KMeans(n_clusters=i,init='k-means++',max_iter=300,random_state=0) #max_iter=300 is default value.\n",
    "    kmeans.fit(df_scaled) #  use fit method to fit the kmeans object to our scaled dataframe\n",
    "    wcss.append(kmeans.inertia_)# another name for wcss is inertia.\n",
    "    # In WCSS list we will append all distances i.e if cluster is 10 what is the value,\n",
    "    # if 9 what is value and so on upto 1.\n",
    "\n",
    "plt.plot(range(1, 11), wcss)\n",
    "plt.title('Elbow Method')\n",
    "plt.xlabel('Number of clusters')\n",
    "plt.ylabel('WCSS')\n",
    "plt.show()"
   ]
  },
  {
   "cell_type": "code",
   "execution_count": 889,
   "id": "519ba759-2eab-4cef-982a-3a56246a155a",
   "metadata": {},
   "outputs": [],
   "source": [
    "#init='k-means++': init is random initialization method. We can choose random if choice of initial centroid is to be random.\n",
    "# But as we don't want to fall into random initialization, we are going to use this initialization method.\n",
    "# ‘k-means++’ : selects initial cluster centroids using sampling, based on an empirical probability distribution of the points’.\n",
    "# It makes several trials at each sampling step and selects the best centroid among them.\n",
    "# Refer: https://scikit-learn.org/stable/modules/generated/sklearn.cluster.KMeans.html#:~:text=init%7B'k%2Dmeans%2B%2B,contribution%20to%20the%20overall%20inertia.\n",
    "# max_iter=300: Suppose dataset has 200 data points. We will make 10 clusters of 20 points each in 1st iteration. Such how many combinations you can form for data points?\n",
    "# so default value is 300. so we will keep it as it is.\n",
    "# random_state=0: Use an int to make the randomness deterministic i.e. same results every time. It determines random number generation for centroid initialization.\n"
   ]
  },
  {
   "cell_type": "code",
   "execution_count": 891,
   "id": "8e006e07-2fdc-4dd0-86e0-654e016a93f0",
   "metadata": {},
   "outputs": [
    {
     "data": {
      "text/plain": [
       "[35991.00000000002,\n",
       " 25870.615630176573,\n",
       " 21946.68940077263,\n",
       " 18057.377484126046,\n",
       " 16617.744986759866,\n",
       " 14656.632953226363,\n",
       " 13791.942533600642,\n",
       " 12967.194124779122,\n",
       " 12234.830080912425,\n",
       " 11625.322039086954]"
      ]
     },
     "execution_count": 891,
     "metadata": {},
     "output_type": "execute_result"
    }
   ],
   "source": [
    "wcss"
   ]
  },
  {
   "cell_type": "code",
   "execution_count": 893,
   "id": "84d8decc-2150-43b1-b2ee-47163c77e82b",
   "metadata": {},
   "outputs": [],
   "source": [
    "kmeans = KMeans(n_clusters=4,random_state=0) # pass no. of clusters as 4\n",
    "predict=kmeans.fit_predict(df_scaled)"
   ]
  },
  {
   "cell_type": "code",
   "execution_count": 895,
   "id": "4bbb395f-094a-4ffd-b199-eccba67b7368",
   "metadata": {},
   "outputs": [
    {
     "data": {
      "text/plain": [
       "array([3, 3, 3, ..., 1, 1, 1])"
      ]
     },
     "execution_count": 895,
     "metadata": {},
     "output_type": "execute_result"
    }
   ],
   "source": [
    "predict"
   ]
  },
  {
   "cell_type": "code",
   "execution_count": 897,
   "id": "848ea8c9-0cea-41ef-859c-d46d14ed5720",
   "metadata": {},
   "outputs": [
    {
     "data": {
      "text/plain": [
       "6020"
      ]
     },
     "execution_count": 897,
     "metadata": {},
     "output_type": "execute_result"
    }
   ],
   "source": [
    "predict.sum()"
   ]
  },
  {
   "cell_type": "code",
   "execution_count": 899,
   "id": "ef3b8bb1-1d18-4038-a29a-db024474bab7",
   "metadata": {},
   "outputs": [],
   "source": [
    "clusters_new = KMeans(n_clusters=3, random_state=0)\n",
    "new_predict=clusters_new.fit_predict(df_scaled)"
   ]
  },
  {
   "cell_type": "code",
   "execution_count": 901,
   "id": "46acce8a-e741-4a60-8e84-4d9816ff865b",
   "metadata": {},
   "outputs": [
    {
     "data": {
      "text/plain": [
       "array([0, 0, 0, ..., 1, 1, 1])"
      ]
     },
     "execution_count": 901,
     "metadata": {},
     "output_type": "execute_result"
    }
   ],
   "source": [
    "new_predict"
   ]
  },
  {
   "cell_type": "code",
   "execution_count": 903,
   "id": "e6071943-3980-4050-a0f8-343136125a0f",
   "metadata": {},
   "outputs": [
    {
     "data": {
      "text/plain": [
       "3751"
      ]
     },
     "execution_count": 903,
     "metadata": {},
     "output_type": "execute_result"
    }
   ],
   "source": [
    "new_predict.sum()"
   ]
  },
  {
   "cell_type": "code",
   "execution_count": 905,
   "id": "1fd04449-feca-434c-97ea-e1332e9782b3",
   "metadata": {},
   "outputs": [
    {
     "data": {
      "text/plain": [
       "array([0, 0, 0, ..., 1, 1, 1])"
      ]
     },
     "execution_count": 905,
     "metadata": {},
     "output_type": "execute_result"
    }
   ],
   "source": [
    "clusters_new.labels_"
   ]
  },
  {
   "cell_type": "code",
   "execution_count": 907,
   "id": "0756a82a-1a7a-4957-8799-9b94dc566e11",
   "metadata": {},
   "outputs": [],
   "source": [
    "df_K   = pd.DataFrame(df)"
   ]
  },
  {
   "cell_type": "code",
   "execution_count": 909,
   "id": "d3f02c46-f808-4801-91bc-158c1b9b305b",
   "metadata": {},
   "outputs": [],
   "source": [
    "#Assign clusters to the data set\n",
    "#df['k_means_cluster'] = clusters_new.labels_\n",
    "df_K['k_means_cluster'] = new_predict"
   ]
  },
  {
   "cell_type": "code",
   "execution_count": 911,
   "id": "10cea243-a9b2-420b-9444-fe82d646a85f",
   "metadata": {},
   "outputs": [
    {
     "data": {
      "text/html": [
       "<div>\n",
       "<style scoped>\n",
       "    .dataframe tbody tr th:only-of-type {\n",
       "        vertical-align: middle;\n",
       "    }\n",
       "\n",
       "    .dataframe tbody tr th {\n",
       "        vertical-align: top;\n",
       "    }\n",
       "\n",
       "    .dataframe thead th {\n",
       "        text-align: right;\n",
       "    }\n",
       "</style>\n",
       "<table border=\"1\" class=\"dataframe\">\n",
       "  <thead>\n",
       "    <tr style=\"text-align: right;\">\n",
       "      <th></th>\n",
       "      <th>ID#</th>\n",
       "      <th>Balance</th>\n",
       "      <th>cc1_miles</th>\n",
       "      <th>Bonus_miles</th>\n",
       "      <th>Bonus_trans</th>\n",
       "      <th>Flight_miles_12mo</th>\n",
       "      <th>Flight_trans_12</th>\n",
       "      <th>Days_since_enroll</th>\n",
       "      <th>Award?</th>\n",
       "      <th>k_means_cluster</th>\n",
       "    </tr>\n",
       "  </thead>\n",
       "  <tbody>\n",
       "    <tr>\n",
       "      <th>0</th>\n",
       "      <td>1</td>\n",
       "      <td>28143.0</td>\n",
       "      <td>1</td>\n",
       "      <td>174.0</td>\n",
       "      <td>1</td>\n",
       "      <td>0.0</td>\n",
       "      <td>0.0</td>\n",
       "      <td>7000.0</td>\n",
       "      <td>0</td>\n",
       "      <td>0</td>\n",
       "    </tr>\n",
       "    <tr>\n",
       "      <th>1</th>\n",
       "      <td>2</td>\n",
       "      <td>19244.0</td>\n",
       "      <td>1</td>\n",
       "      <td>215.0</td>\n",
       "      <td>2</td>\n",
       "      <td>0.0</td>\n",
       "      <td>0.0</td>\n",
       "      <td>6968.0</td>\n",
       "      <td>0</td>\n",
       "      <td>0</td>\n",
       "    </tr>\n",
       "    <tr>\n",
       "      <th>2</th>\n",
       "      <td>3</td>\n",
       "      <td>41354.0</td>\n",
       "      <td>1</td>\n",
       "      <td>4123.0</td>\n",
       "      <td>4</td>\n",
       "      <td>0.0</td>\n",
       "      <td>0.0</td>\n",
       "      <td>7034.0</td>\n",
       "      <td>0</td>\n",
       "      <td>0</td>\n",
       "    </tr>\n",
       "    <tr>\n",
       "      <th>3</th>\n",
       "      <td>4</td>\n",
       "      <td>14776.0</td>\n",
       "      <td>1</td>\n",
       "      <td>500.0</td>\n",
       "      <td>1</td>\n",
       "      <td>0.0</td>\n",
       "      <td>0.0</td>\n",
       "      <td>6952.0</td>\n",
       "      <td>0</td>\n",
       "      <td>0</td>\n",
       "    </tr>\n",
       "    <tr>\n",
       "      <th>4</th>\n",
       "      <td>5</td>\n",
       "      <td>97752.0</td>\n",
       "      <td>4</td>\n",
       "      <td>43300.0</td>\n",
       "      <td>26</td>\n",
       "      <td>777.5</td>\n",
       "      <td>2.5</td>\n",
       "      <td>6935.0</td>\n",
       "      <td>1</td>\n",
       "      <td>2</td>\n",
       "    </tr>\n",
       "    <tr>\n",
       "      <th>...</th>\n",
       "      <td>...</td>\n",
       "      <td>...</td>\n",
       "      <td>...</td>\n",
       "      <td>...</td>\n",
       "      <td>...</td>\n",
       "      <td>...</td>\n",
       "      <td>...</td>\n",
       "      <td>...</td>\n",
       "      <td>...</td>\n",
       "      <td>...</td>\n",
       "    </tr>\n",
       "    <tr>\n",
       "      <th>3994</th>\n",
       "      <td>4017</td>\n",
       "      <td>18476.0</td>\n",
       "      <td>1</td>\n",
       "      <td>8525.0</td>\n",
       "      <td>4</td>\n",
       "      <td>200.0</td>\n",
       "      <td>1.0</td>\n",
       "      <td>1403.0</td>\n",
       "      <td>1</td>\n",
       "      <td>1</td>\n",
       "    </tr>\n",
       "    <tr>\n",
       "      <th>3995</th>\n",
       "      <td>4018</td>\n",
       "      <td>64385.0</td>\n",
       "      <td>1</td>\n",
       "      <td>981.0</td>\n",
       "      <td>5</td>\n",
       "      <td>0.0</td>\n",
       "      <td>0.0</td>\n",
       "      <td>1395.0</td>\n",
       "      <td>1</td>\n",
       "      <td>1</td>\n",
       "    </tr>\n",
       "    <tr>\n",
       "      <th>3996</th>\n",
       "      <td>4019</td>\n",
       "      <td>73597.0</td>\n",
       "      <td>3</td>\n",
       "      <td>25447.0</td>\n",
       "      <td>8</td>\n",
       "      <td>0.0</td>\n",
       "      <td>0.0</td>\n",
       "      <td>1402.0</td>\n",
       "      <td>1</td>\n",
       "      <td>1</td>\n",
       "    </tr>\n",
       "    <tr>\n",
       "      <th>3997</th>\n",
       "      <td>4020</td>\n",
       "      <td>54899.0</td>\n",
       "      <td>1</td>\n",
       "      <td>500.0</td>\n",
       "      <td>1</td>\n",
       "      <td>500.0</td>\n",
       "      <td>1.0</td>\n",
       "      <td>1401.0</td>\n",
       "      <td>0</td>\n",
       "      <td>1</td>\n",
       "    </tr>\n",
       "    <tr>\n",
       "      <th>3998</th>\n",
       "      <td>4021</td>\n",
       "      <td>3016.0</td>\n",
       "      <td>1</td>\n",
       "      <td>0.0</td>\n",
       "      <td>0</td>\n",
       "      <td>0.0</td>\n",
       "      <td>0.0</td>\n",
       "      <td>1398.0</td>\n",
       "      <td>0</td>\n",
       "      <td>1</td>\n",
       "    </tr>\n",
       "  </tbody>\n",
       "</table>\n",
       "<p>3999 rows × 10 columns</p>\n",
       "</div>"
      ],
      "text/plain": [
       "       ID#  Balance  cc1_miles  Bonus_miles  Bonus_trans  Flight_miles_12mo  \\\n",
       "0        1  28143.0          1        174.0            1                0.0   \n",
       "1        2  19244.0          1        215.0            2                0.0   \n",
       "2        3  41354.0          1       4123.0            4                0.0   \n",
       "3        4  14776.0          1        500.0            1                0.0   \n",
       "4        5  97752.0          4      43300.0           26              777.5   \n",
       "...    ...      ...        ...          ...          ...                ...   \n",
       "3994  4017  18476.0          1       8525.0            4              200.0   \n",
       "3995  4018  64385.0          1        981.0            5                0.0   \n",
       "3996  4019  73597.0          3      25447.0            8                0.0   \n",
       "3997  4020  54899.0          1        500.0            1              500.0   \n",
       "3998  4021   3016.0          1          0.0            0                0.0   \n",
       "\n",
       "      Flight_trans_12  Days_since_enroll  Award?  k_means_cluster  \n",
       "0                 0.0             7000.0       0                0  \n",
       "1                 0.0             6968.0       0                0  \n",
       "2                 0.0             7034.0       0                0  \n",
       "3                 0.0             6952.0       0                0  \n",
       "4                 2.5             6935.0       1                2  \n",
       "...               ...                ...     ...              ...  \n",
       "3994              1.0             1403.0       1                1  \n",
       "3995              0.0             1395.0       1                1  \n",
       "3996              0.0             1402.0       1                1  \n",
       "3997              1.0             1401.0       0                1  \n",
       "3998              0.0             1398.0       0                1  \n",
       "\n",
       "[3999 rows x 10 columns]"
      ]
     },
     "execution_count": 911,
     "metadata": {},
     "output_type": "execute_result"
    }
   ],
   "source": [
    "df_K"
   ]
  },
  {
   "cell_type": "code",
   "execution_count": 915,
   "id": "3b14764b-4411-4c1f-85d9-1cdc37396dce",
   "metadata": {},
   "outputs": [
    {
     "data": {
      "text/html": [
       "<div>\n",
       "<style scoped>\n",
       "    .dataframe tbody tr th:only-of-type {\n",
       "        vertical-align: middle;\n",
       "    }\n",
       "\n",
       "    .dataframe tbody tr th {\n",
       "        vertical-align: top;\n",
       "    }\n",
       "\n",
       "    .dataframe thead th {\n",
       "        text-align: right;\n",
       "    }\n",
       "</style>\n",
       "<table border=\"1\" class=\"dataframe\">\n",
       "  <thead>\n",
       "    <tr style=\"text-align: right;\">\n",
       "      <th></th>\n",
       "      <th>ID#</th>\n",
       "      <th>Balance</th>\n",
       "      <th>cc1_miles</th>\n",
       "      <th>Bonus_miles</th>\n",
       "      <th>Bonus_trans</th>\n",
       "      <th>Flight_miles_12mo</th>\n",
       "      <th>Flight_trans_12</th>\n",
       "      <th>Days_since_enroll</th>\n",
       "      <th>Award?</th>\n",
       "    </tr>\n",
       "    <tr>\n",
       "      <th>k_means_cluster</th>\n",
       "      <th></th>\n",
       "      <th></th>\n",
       "      <th></th>\n",
       "      <th></th>\n",
       "      <th></th>\n",
       "      <th></th>\n",
       "      <th></th>\n",
       "      <th></th>\n",
       "      <th></th>\n",
       "    </tr>\n",
       "  </thead>\n",
       "  <tbody>\n",
       "    <tr>\n",
       "      <th>0</th>\n",
       "      <td>1082.526866</td>\n",
       "      <td>54240.725560</td>\n",
       "      <td>1.494030</td>\n",
       "      <td>6956.539552</td>\n",
       "      <td>8.473134</td>\n",
       "      <td>125.270149</td>\n",
       "      <td>0.432090</td>\n",
       "      <td>5737.994776</td>\n",
       "      <td>0.285075</td>\n",
       "    </tr>\n",
       "    <tr>\n",
       "      <th>1</th>\n",
       "      <td>3110.278239</td>\n",
       "      <td>37116.320836</td>\n",
       "      <td>1.378430</td>\n",
       "      <td>6083.887843</td>\n",
       "      <td>7.674537</td>\n",
       "      <td>100.153159</td>\n",
       "      <td>0.348756</td>\n",
       "      <td>2193.742821</td>\n",
       "      <td>0.205488</td>\n",
       "    </tr>\n",
       "    <tr>\n",
       "      <th>2</th>\n",
       "      <td>1586.878205</td>\n",
       "      <td>113705.977564</td>\n",
       "      <td>3.730769</td>\n",
       "      <td>39168.769918</td>\n",
       "      <td>20.596154</td>\n",
       "      <td>354.617674</td>\n",
       "      <td>1.135531</td>\n",
       "      <td>4893.416667</td>\n",
       "      <td>0.711538</td>\n",
       "    </tr>\n",
       "  </tbody>\n",
       "</table>\n",
       "</div>"
      ],
      "text/plain": [
       "                         ID#        Balance  cc1_miles   Bonus_miles  \\\n",
       "k_means_cluster                                                        \n",
       "0                1082.526866   54240.725560   1.494030   6956.539552   \n",
       "1                3110.278239   37116.320836   1.378430   6083.887843   \n",
       "2                1586.878205  113705.977564   3.730769  39168.769918   \n",
       "\n",
       "                 Bonus_trans  Flight_miles_12mo  Flight_trans_12  \\\n",
       "k_means_cluster                                                    \n",
       "0                   8.473134         125.270149         0.432090   \n",
       "1                   7.674537         100.153159         0.348756   \n",
       "2                  20.596154         354.617674         1.135531   \n",
       "\n",
       "                 Days_since_enroll    Award?  \n",
       "k_means_cluster                               \n",
       "0                      5737.994776  0.285075  \n",
       "1                      2193.742821  0.205488  \n",
       "2                      4893.416667  0.711538  "
      ]
     },
     "execution_count": 915,
     "metadata": {},
     "output_type": "execute_result"
    }
   ],
   "source": [
    "df_K.groupby('k_means_cluster').mean('numeric_only')"
   ]
  },
  {
   "cell_type": "code",
   "execution_count": 917,
   "id": "117ca2b7-98d5-4544-bd0a-d71ba66abc88",
   "metadata": {},
   "outputs": [
    {
     "data": {
      "text/html": [
       "<div>\n",
       "<style scoped>\n",
       "    .dataframe tbody tr th:only-of-type {\n",
       "        vertical-align: middle;\n",
       "    }\n",
       "\n",
       "    .dataframe tbody tr th {\n",
       "        vertical-align: top;\n",
       "    }\n",
       "\n",
       "    .dataframe thead th {\n",
       "        text-align: right;\n",
       "    }\n",
       "</style>\n",
       "<table border=\"1\" class=\"dataframe\">\n",
       "  <thead>\n",
       "    <tr style=\"text-align: right;\">\n",
       "      <th></th>\n",
       "      <th>ID#</th>\n",
       "      <th>Balance</th>\n",
       "      <th>cc1_miles</th>\n",
       "      <th>Bonus_miles</th>\n",
       "      <th>Bonus_trans</th>\n",
       "      <th>Flight_miles_12mo</th>\n",
       "      <th>Flight_trans_12</th>\n",
       "      <th>Days_since_enroll</th>\n",
       "      <th>Award?</th>\n",
       "      <th>k_means_cluster</th>\n",
       "    </tr>\n",
       "  </thead>\n",
       "  <tbody>\n",
       "    <tr>\n",
       "      <th>0</th>\n",
       "      <td>1</td>\n",
       "      <td>28143.0</td>\n",
       "      <td>1</td>\n",
       "      <td>174.0</td>\n",
       "      <td>1</td>\n",
       "      <td>0.0</td>\n",
       "      <td>0.0</td>\n",
       "      <td>7000.0</td>\n",
       "      <td>0</td>\n",
       "      <td>0</td>\n",
       "    </tr>\n",
       "    <tr>\n",
       "      <th>1</th>\n",
       "      <td>2</td>\n",
       "      <td>19244.0</td>\n",
       "      <td>1</td>\n",
       "      <td>215.0</td>\n",
       "      <td>2</td>\n",
       "      <td>0.0</td>\n",
       "      <td>0.0</td>\n",
       "      <td>6968.0</td>\n",
       "      <td>0</td>\n",
       "      <td>0</td>\n",
       "    </tr>\n",
       "    <tr>\n",
       "      <th>2</th>\n",
       "      <td>3</td>\n",
       "      <td>41354.0</td>\n",
       "      <td>1</td>\n",
       "      <td>4123.0</td>\n",
       "      <td>4</td>\n",
       "      <td>0.0</td>\n",
       "      <td>0.0</td>\n",
       "      <td>7034.0</td>\n",
       "      <td>0</td>\n",
       "      <td>0</td>\n",
       "    </tr>\n",
       "    <tr>\n",
       "      <th>3</th>\n",
       "      <td>4</td>\n",
       "      <td>14776.0</td>\n",
       "      <td>1</td>\n",
       "      <td>500.0</td>\n",
       "      <td>1</td>\n",
       "      <td>0.0</td>\n",
       "      <td>0.0</td>\n",
       "      <td>6952.0</td>\n",
       "      <td>0</td>\n",
       "      <td>0</td>\n",
       "    </tr>\n",
       "    <tr>\n",
       "      <th>5</th>\n",
       "      <td>6</td>\n",
       "      <td>16420.0</td>\n",
       "      <td>1</td>\n",
       "      <td>0.0</td>\n",
       "      <td>0</td>\n",
       "      <td>0.0</td>\n",
       "      <td>0.0</td>\n",
       "      <td>6942.0</td>\n",
       "      <td>0</td>\n",
       "      <td>0</td>\n",
       "    </tr>\n",
       "    <tr>\n",
       "      <th>...</th>\n",
       "      <td>...</td>\n",
       "      <td>...</td>\n",
       "      <td>...</td>\n",
       "      <td>...</td>\n",
       "      <td>...</td>\n",
       "      <td>...</td>\n",
       "      <td>...</td>\n",
       "      <td>...</td>\n",
       "      <td>...</td>\n",
       "      <td>...</td>\n",
       "    </tr>\n",
       "    <tr>\n",
       "      <th>2281</th>\n",
       "      <td>2299</td>\n",
       "      <td>89761.0</td>\n",
       "      <td>3</td>\n",
       "      <td>11965.0</td>\n",
       "      <td>13</td>\n",
       "      <td>0.0</td>\n",
       "      <td>0.0</td>\n",
       "      <td>3845.0</td>\n",
       "      <td>1</td>\n",
       "      <td>0</td>\n",
       "    </tr>\n",
       "    <tr>\n",
       "      <th>2289</th>\n",
       "      <td>2307</td>\n",
       "      <td>85496.0</td>\n",
       "      <td>1</td>\n",
       "      <td>2799.0</td>\n",
       "      <td>7</td>\n",
       "      <td>777.5</td>\n",
       "      <td>2.5</td>\n",
       "      <td>3820.0</td>\n",
       "      <td>0</td>\n",
       "      <td>0</td>\n",
       "    </tr>\n",
       "    <tr>\n",
       "      <th>2290</th>\n",
       "      <td>2308</td>\n",
       "      <td>49874.0</td>\n",
       "      <td>1</td>\n",
       "      <td>7200.0</td>\n",
       "      <td>9</td>\n",
       "      <td>777.5</td>\n",
       "      <td>2.5</td>\n",
       "      <td>3817.0</td>\n",
       "      <td>1</td>\n",
       "      <td>0</td>\n",
       "    </tr>\n",
       "    <tr>\n",
       "      <th>2293</th>\n",
       "      <td>2311</td>\n",
       "      <td>56688.0</td>\n",
       "      <td>1</td>\n",
       "      <td>3550.0</td>\n",
       "      <td>10</td>\n",
       "      <td>777.5</td>\n",
       "      <td>2.5</td>\n",
       "      <td>3812.0</td>\n",
       "      <td>1</td>\n",
       "      <td>0</td>\n",
       "    </tr>\n",
       "    <tr>\n",
       "      <th>2310</th>\n",
       "      <td>2328</td>\n",
       "      <td>88232.0</td>\n",
       "      <td>1</td>\n",
       "      <td>11550.0</td>\n",
       "      <td>5</td>\n",
       "      <td>550.0</td>\n",
       "      <td>2.5</td>\n",
       "      <td>3729.0</td>\n",
       "      <td>1</td>\n",
       "      <td>0</td>\n",
       "    </tr>\n",
       "  </tbody>\n",
       "</table>\n",
       "<p>1340 rows × 10 columns</p>\n",
       "</div>"
      ],
      "text/plain": [
       "       ID#  Balance  cc1_miles  Bonus_miles  Bonus_trans  Flight_miles_12mo  \\\n",
       "0        1  28143.0          1        174.0            1                0.0   \n",
       "1        2  19244.0          1        215.0            2                0.0   \n",
       "2        3  41354.0          1       4123.0            4                0.0   \n",
       "3        4  14776.0          1        500.0            1                0.0   \n",
       "5        6  16420.0          1          0.0            0                0.0   \n",
       "...    ...      ...        ...          ...          ...                ...   \n",
       "2281  2299  89761.0          3      11965.0           13                0.0   \n",
       "2289  2307  85496.0          1       2799.0            7              777.5   \n",
       "2290  2308  49874.0          1       7200.0            9              777.5   \n",
       "2293  2311  56688.0          1       3550.0           10              777.5   \n",
       "2310  2328  88232.0          1      11550.0            5              550.0   \n",
       "\n",
       "      Flight_trans_12  Days_since_enroll  Award?  k_means_cluster  \n",
       "0                 0.0             7000.0       0                0  \n",
       "1                 0.0             6968.0       0                0  \n",
       "2                 0.0             7034.0       0                0  \n",
       "3                 0.0             6952.0       0                0  \n",
       "5                 0.0             6942.0       0                0  \n",
       "...               ...                ...     ...              ...  \n",
       "2281              0.0             3845.0       1                0  \n",
       "2289              2.5             3820.0       0                0  \n",
       "2290              2.5             3817.0       1                0  \n",
       "2293              2.5             3812.0       1                0  \n",
       "2310              2.5             3729.0       1                0  \n",
       "\n",
       "[1340 rows x 10 columns]"
      ]
     },
     "execution_count": 917,
     "metadata": {},
     "output_type": "execute_result"
    }
   ],
   "source": [
    "df_K[df_K['k_means_cluster']==0]"
   ]
  },
  {
   "cell_type": "code",
   "execution_count": 921,
   "id": "c5d8281a-9559-4363-9772-f88840b76d1b",
   "metadata": {},
   "outputs": [
    {
     "data": {
      "text/plain": [
       "1340"
      ]
     },
     "execution_count": 921,
     "metadata": {},
     "output_type": "execute_result"
    }
   ],
   "source": [
    "df_K[df_K['k_means_cluster']==0].shape[0]"
   ]
  },
  {
   "cell_type": "code",
   "execution_count": 923,
   "id": "07c5d18e-2710-4e8d-9340-1849edf53bbf",
   "metadata": {},
   "outputs": [
    {
     "data": {
      "text/html": [
       "<div>\n",
       "<style scoped>\n",
       "    .dataframe tbody tr th:only-of-type {\n",
       "        vertical-align: middle;\n",
       "    }\n",
       "\n",
       "    .dataframe tbody tr th {\n",
       "        vertical-align: top;\n",
       "    }\n",
       "\n",
       "    .dataframe thead th {\n",
       "        text-align: right;\n",
       "    }\n",
       "</style>\n",
       "<table border=\"1\" class=\"dataframe\">\n",
       "  <thead>\n",
       "    <tr style=\"text-align: right;\">\n",
       "      <th></th>\n",
       "      <th>ID#</th>\n",
       "      <th>Balance</th>\n",
       "      <th>cc1_miles</th>\n",
       "      <th>Bonus_miles</th>\n",
       "      <th>Bonus_trans</th>\n",
       "      <th>Flight_miles_12mo</th>\n",
       "      <th>Flight_trans_12</th>\n",
       "      <th>Days_since_enroll</th>\n",
       "      <th>Award?</th>\n",
       "      <th>k_means_cluster</th>\n",
       "    </tr>\n",
       "  </thead>\n",
       "  <tbody>\n",
       "    <tr>\n",
       "      <th>4</th>\n",
       "      <td>5</td>\n",
       "      <td>97752.00</td>\n",
       "      <td>4</td>\n",
       "      <td>43300.00</td>\n",
       "      <td>26</td>\n",
       "      <td>777.5</td>\n",
       "      <td>2.5</td>\n",
       "      <td>6935.0</td>\n",
       "      <td>1</td>\n",
       "      <td>2</td>\n",
       "    </tr>\n",
       "    <tr>\n",
       "      <th>8</th>\n",
       "      <td>9</td>\n",
       "      <td>203218.75</td>\n",
       "      <td>3</td>\n",
       "      <td>1753.00</td>\n",
       "      <td>38</td>\n",
       "      <td>777.5</td>\n",
       "      <td>2.5</td>\n",
       "      <td>6948.0</td>\n",
       "      <td>1</td>\n",
       "      <td>2</td>\n",
       "    </tr>\n",
       "    <tr>\n",
       "      <th>9</th>\n",
       "      <td>10</td>\n",
       "      <td>104860.00</td>\n",
       "      <td>3</td>\n",
       "      <td>28426.00</td>\n",
       "      <td>28</td>\n",
       "      <td>777.5</td>\n",
       "      <td>2.5</td>\n",
       "      <td>6931.0</td>\n",
       "      <td>1</td>\n",
       "      <td>2</td>\n",
       "    </tr>\n",
       "    <tr>\n",
       "      <th>11</th>\n",
       "      <td>12</td>\n",
       "      <td>96522.00</td>\n",
       "      <td>5</td>\n",
       "      <td>57626.25</td>\n",
       "      <td>19</td>\n",
       "      <td>0.0</td>\n",
       "      <td>0.0</td>\n",
       "      <td>6924.0</td>\n",
       "      <td>1</td>\n",
       "      <td>2</td>\n",
       "    </tr>\n",
       "    <tr>\n",
       "      <th>15</th>\n",
       "      <td>16</td>\n",
       "      <td>28495.00</td>\n",
       "      <td>4</td>\n",
       "      <td>49442.00</td>\n",
       "      <td>15</td>\n",
       "      <td>0.0</td>\n",
       "      <td>0.0</td>\n",
       "      <td>6912.0</td>\n",
       "      <td>1</td>\n",
       "      <td>2</td>\n",
       "    </tr>\n",
       "    <tr>\n",
       "      <th>...</th>\n",
       "      <td>...</td>\n",
       "      <td>...</td>\n",
       "      <td>...</td>\n",
       "      <td>...</td>\n",
       "      <td>...</td>\n",
       "      <td>...</td>\n",
       "      <td>...</td>\n",
       "      <td>...</td>\n",
       "      <td>...</td>\n",
       "      <td>...</td>\n",
       "    </tr>\n",
       "    <tr>\n",
       "      <th>3908</th>\n",
       "      <td>3931</td>\n",
       "      <td>57642.00</td>\n",
       "      <td>4</td>\n",
       "      <td>52176.00</td>\n",
       "      <td>15</td>\n",
       "      <td>0.0</td>\n",
       "      <td>0.0</td>\n",
       "      <td>1564.0</td>\n",
       "      <td>1</td>\n",
       "      <td>2</td>\n",
       "    </tr>\n",
       "    <tr>\n",
       "      <th>3917</th>\n",
       "      <td>3940</td>\n",
       "      <td>130748.00</td>\n",
       "      <td>4</td>\n",
       "      <td>57626.25</td>\n",
       "      <td>37</td>\n",
       "      <td>777.5</td>\n",
       "      <td>2.5</td>\n",
       "      <td>1545.0</td>\n",
       "      <td>0</td>\n",
       "      <td>2</td>\n",
       "    </tr>\n",
       "    <tr>\n",
       "      <th>3930</th>\n",
       "      <td>3953</td>\n",
       "      <td>40424.00</td>\n",
       "      <td>4</td>\n",
       "      <td>44110.00</td>\n",
       "      <td>26</td>\n",
       "      <td>343.0</td>\n",
       "      <td>2.5</td>\n",
       "      <td>1523.0</td>\n",
       "      <td>1</td>\n",
       "      <td>2</td>\n",
       "    </tr>\n",
       "    <tr>\n",
       "      <th>3946</th>\n",
       "      <td>3969</td>\n",
       "      <td>139032.00</td>\n",
       "      <td>3</td>\n",
       "      <td>19565.00</td>\n",
       "      <td>17</td>\n",
       "      <td>777.5</td>\n",
       "      <td>2.5</td>\n",
       "      <td>1481.0</td>\n",
       "      <td>0</td>\n",
       "      <td>2</td>\n",
       "    </tr>\n",
       "    <tr>\n",
       "      <th>3979</th>\n",
       "      <td>4002</td>\n",
       "      <td>57793.00</td>\n",
       "      <td>3</td>\n",
       "      <td>20959.00</td>\n",
       "      <td>15</td>\n",
       "      <td>777.5</td>\n",
       "      <td>2.5</td>\n",
       "      <td>1424.0</td>\n",
       "      <td>1</td>\n",
       "      <td>2</td>\n",
       "    </tr>\n",
       "  </tbody>\n",
       "</table>\n",
       "<p>1092 rows × 10 columns</p>\n",
       "</div>"
      ],
      "text/plain": [
       "       ID#    Balance  cc1_miles  Bonus_miles  Bonus_trans  Flight_miles_12mo  \\\n",
       "4        5   97752.00          4     43300.00           26              777.5   \n",
       "8        9  203218.75          3      1753.00           38              777.5   \n",
       "9       10  104860.00          3     28426.00           28              777.5   \n",
       "11      12   96522.00          5     57626.25           19                0.0   \n",
       "15      16   28495.00          4     49442.00           15                0.0   \n",
       "...    ...        ...        ...          ...          ...                ...   \n",
       "3908  3931   57642.00          4     52176.00           15                0.0   \n",
       "3917  3940  130748.00          4     57626.25           37              777.5   \n",
       "3930  3953   40424.00          4     44110.00           26              343.0   \n",
       "3946  3969  139032.00          3     19565.00           17              777.5   \n",
       "3979  4002   57793.00          3     20959.00           15              777.5   \n",
       "\n",
       "      Flight_trans_12  Days_since_enroll  Award?  k_means_cluster  \n",
       "4                 2.5             6935.0       1                2  \n",
       "8                 2.5             6948.0       1                2  \n",
       "9                 2.5             6931.0       1                2  \n",
       "11                0.0             6924.0       1                2  \n",
       "15                0.0             6912.0       1                2  \n",
       "...               ...                ...     ...              ...  \n",
       "3908              0.0             1564.0       1                2  \n",
       "3917              2.5             1545.0       0                2  \n",
       "3930              2.5             1523.0       1                2  \n",
       "3946              2.5             1481.0       0                2  \n",
       "3979              2.5             1424.0       1                2  \n",
       "\n",
       "[1092 rows x 10 columns]"
      ]
     },
     "execution_count": 923,
     "metadata": {},
     "output_type": "execute_result"
    }
   ],
   "source": [
    "df_K[df_K['k_means_cluster']==2]"
   ]
  },
  {
   "cell_type": "code",
   "execution_count": 925,
   "id": "25e6aa2f-25e1-49cc-b33e-9d0498271eee",
   "metadata": {},
   "outputs": [
    {
     "data": {
      "text/plain": [
       "1092"
      ]
     },
     "execution_count": 925,
     "metadata": {},
     "output_type": "execute_result"
    }
   ],
   "source": [
    "df_K[df_K['k_means_cluster']==2].shape[0]"
   ]
  },
  {
   "cell_type": "markdown",
   "id": "f1641eb8-b000-4787-bb05-2ad50739eb2a",
   "metadata": {},
   "source": [
    "Model Building"
   ]
  },
  {
   "cell_type": "code",
   "execution_count": 934,
   "id": "85f1a9e4-bf68-4b09-b0a2-0da8f6c54b5e",
   "metadata": {},
   "outputs": [],
   "source": [
    "from sklearn.cluster import DBSCAN"
   ]
  },
  {
   "cell_type": "code",
   "execution_count": 952,
   "id": "323eb51b-bbdc-437b-8961-0cfd5d209970",
   "metadata": {},
   "outputs": [
    {
     "data": {
      "text/html": [
       "<div>\n",
       "<style scoped>\n",
       "    .dataframe tbody tr th:only-of-type {\n",
       "        vertical-align: middle;\n",
       "    }\n",
       "\n",
       "    .dataframe tbody tr th {\n",
       "        vertical-align: top;\n",
       "    }\n",
       "\n",
       "    .dataframe thead th {\n",
       "        text-align: right;\n",
       "    }\n",
       "</style>\n",
       "<table border=\"1\" class=\"dataframe\">\n",
       "  <thead>\n",
       "    <tr style=\"text-align: right;\">\n",
       "      <th></th>\n",
       "      <th>ID#</th>\n",
       "      <th>Balance</th>\n",
       "      <th>Qual_miles</th>\n",
       "      <th>cc1_miles</th>\n",
       "      <th>cc2_miles</th>\n",
       "      <th>cc3_miles</th>\n",
       "      <th>Bonus_miles</th>\n",
       "      <th>Bonus_trans</th>\n",
       "      <th>Flight_miles_12mo</th>\n",
       "      <th>Flight_trans_12</th>\n",
       "      <th>Days_since_enroll</th>\n",
       "      <th>Award?</th>\n",
       "    </tr>\n",
       "  </thead>\n",
       "  <tbody>\n",
       "    <tr>\n",
       "      <th>0</th>\n",
       "      <td>1</td>\n",
       "      <td>28143</td>\n",
       "      <td>0</td>\n",
       "      <td>1</td>\n",
       "      <td>1</td>\n",
       "      <td>1</td>\n",
       "      <td>174</td>\n",
       "      <td>1</td>\n",
       "      <td>0</td>\n",
       "      <td>0</td>\n",
       "      <td>7000</td>\n",
       "      <td>0</td>\n",
       "    </tr>\n",
       "    <tr>\n",
       "      <th>1</th>\n",
       "      <td>2</td>\n",
       "      <td>19244</td>\n",
       "      <td>0</td>\n",
       "      <td>1</td>\n",
       "      <td>1</td>\n",
       "      <td>1</td>\n",
       "      <td>215</td>\n",
       "      <td>2</td>\n",
       "      <td>0</td>\n",
       "      <td>0</td>\n",
       "      <td>6968</td>\n",
       "      <td>0</td>\n",
       "    </tr>\n",
       "    <tr>\n",
       "      <th>2</th>\n",
       "      <td>3</td>\n",
       "      <td>41354</td>\n",
       "      <td>0</td>\n",
       "      <td>1</td>\n",
       "      <td>1</td>\n",
       "      <td>1</td>\n",
       "      <td>4123</td>\n",
       "      <td>4</td>\n",
       "      <td>0</td>\n",
       "      <td>0</td>\n",
       "      <td>7034</td>\n",
       "      <td>0</td>\n",
       "    </tr>\n",
       "    <tr>\n",
       "      <th>3</th>\n",
       "      <td>4</td>\n",
       "      <td>14776</td>\n",
       "      <td>0</td>\n",
       "      <td>1</td>\n",
       "      <td>1</td>\n",
       "      <td>1</td>\n",
       "      <td>500</td>\n",
       "      <td>1</td>\n",
       "      <td>0</td>\n",
       "      <td>0</td>\n",
       "      <td>6952</td>\n",
       "      <td>0</td>\n",
       "    </tr>\n",
       "    <tr>\n",
       "      <th>4</th>\n",
       "      <td>5</td>\n",
       "      <td>97752</td>\n",
       "      <td>0</td>\n",
       "      <td>4</td>\n",
       "      <td>1</td>\n",
       "      <td>1</td>\n",
       "      <td>43300</td>\n",
       "      <td>26</td>\n",
       "      <td>2077</td>\n",
       "      <td>4</td>\n",
       "      <td>6935</td>\n",
       "      <td>1</td>\n",
       "    </tr>\n",
       "    <tr>\n",
       "      <th>...</th>\n",
       "      <td>...</td>\n",
       "      <td>...</td>\n",
       "      <td>...</td>\n",
       "      <td>...</td>\n",
       "      <td>...</td>\n",
       "      <td>...</td>\n",
       "      <td>...</td>\n",
       "      <td>...</td>\n",
       "      <td>...</td>\n",
       "      <td>...</td>\n",
       "      <td>...</td>\n",
       "      <td>...</td>\n",
       "    </tr>\n",
       "    <tr>\n",
       "      <th>3994</th>\n",
       "      <td>4017</td>\n",
       "      <td>18476</td>\n",
       "      <td>0</td>\n",
       "      <td>1</td>\n",
       "      <td>1</td>\n",
       "      <td>1</td>\n",
       "      <td>8525</td>\n",
       "      <td>4</td>\n",
       "      <td>200</td>\n",
       "      <td>1</td>\n",
       "      <td>1403</td>\n",
       "      <td>1</td>\n",
       "    </tr>\n",
       "    <tr>\n",
       "      <th>3995</th>\n",
       "      <td>4018</td>\n",
       "      <td>64385</td>\n",
       "      <td>0</td>\n",
       "      <td>1</td>\n",
       "      <td>1</td>\n",
       "      <td>1</td>\n",
       "      <td>981</td>\n",
       "      <td>5</td>\n",
       "      <td>0</td>\n",
       "      <td>0</td>\n",
       "      <td>1395</td>\n",
       "      <td>1</td>\n",
       "    </tr>\n",
       "    <tr>\n",
       "      <th>3996</th>\n",
       "      <td>4019</td>\n",
       "      <td>73597</td>\n",
       "      <td>0</td>\n",
       "      <td>3</td>\n",
       "      <td>1</td>\n",
       "      <td>1</td>\n",
       "      <td>25447</td>\n",
       "      <td>8</td>\n",
       "      <td>0</td>\n",
       "      <td>0</td>\n",
       "      <td>1402</td>\n",
       "      <td>1</td>\n",
       "    </tr>\n",
       "    <tr>\n",
       "      <th>3997</th>\n",
       "      <td>4020</td>\n",
       "      <td>54899</td>\n",
       "      <td>0</td>\n",
       "      <td>1</td>\n",
       "      <td>1</td>\n",
       "      <td>1</td>\n",
       "      <td>500</td>\n",
       "      <td>1</td>\n",
       "      <td>500</td>\n",
       "      <td>1</td>\n",
       "      <td>1401</td>\n",
       "      <td>0</td>\n",
       "    </tr>\n",
       "    <tr>\n",
       "      <th>3998</th>\n",
       "      <td>4021</td>\n",
       "      <td>3016</td>\n",
       "      <td>0</td>\n",
       "      <td>1</td>\n",
       "      <td>1</td>\n",
       "      <td>1</td>\n",
       "      <td>0</td>\n",
       "      <td>0</td>\n",
       "      <td>0</td>\n",
       "      <td>0</td>\n",
       "      <td>1398</td>\n",
       "      <td>0</td>\n",
       "    </tr>\n",
       "  </tbody>\n",
       "</table>\n",
       "<p>3999 rows × 12 columns</p>\n",
       "</div>"
      ],
      "text/plain": [
       "       ID#  Balance  Qual_miles  cc1_miles  cc2_miles  cc3_miles  Bonus_miles  \\\n",
       "0        1    28143           0          1          1          1          174   \n",
       "1        2    19244           0          1          1          1          215   \n",
       "2        3    41354           0          1          1          1         4123   \n",
       "3        4    14776           0          1          1          1          500   \n",
       "4        5    97752           0          4          1          1        43300   \n",
       "...    ...      ...         ...        ...        ...        ...          ...   \n",
       "3994  4017    18476           0          1          1          1         8525   \n",
       "3995  4018    64385           0          1          1          1          981   \n",
       "3996  4019    73597           0          3          1          1        25447   \n",
       "3997  4020    54899           0          1          1          1          500   \n",
       "3998  4021     3016           0          1          1          1            0   \n",
       "\n",
       "      Bonus_trans  Flight_miles_12mo  Flight_trans_12  Days_since_enroll  \\\n",
       "0               1                  0                0               7000   \n",
       "1               2                  0                0               6968   \n",
       "2               4                  0                0               7034   \n",
       "3               1                  0                0               6952   \n",
       "4              26               2077                4               6935   \n",
       "...           ...                ...              ...                ...   \n",
       "3994            4                200                1               1403   \n",
       "3995            5                  0                0               1395   \n",
       "3996            8                  0                0               1402   \n",
       "3997            1                500                1               1401   \n",
       "3998            0                  0                0               1398   \n",
       "\n",
       "      Award?  \n",
       "0          0  \n",
       "1          0  \n",
       "2          0  \n",
       "3          0  \n",
       "4          1  \n",
       "...      ...  \n",
       "3994       1  \n",
       "3995       1  \n",
       "3996       1  \n",
       "3997       0  \n",
       "3998       0  \n",
       "\n",
       "[3999 rows x 12 columns]"
      ]
     },
     "execution_count": 952,
     "metadata": {},
     "output_type": "execute_result"
    }
   ],
   "source": [
    "df_D   # dataframe , without treating outliers  , as DBSCAN is used to detect the outliers "
   ]
  },
  {
   "cell_type": "code",
   "execution_count": 986,
   "id": "f2618d80-b209-4e70-8794-c81b0f705af7",
   "metadata": {},
   "outputs": [
    {
     "data": {
      "text/plain": [
       "array([[-1.73512503e+00, -4.51140783e-01, -1.86298687e-01, ...,\n",
       "        -3.62167870e-01,  1.39545434e+00, -7.66919299e-01],\n",
       "       [-1.73426342e+00, -5.39456874e-01, -1.86298687e-01, ...,\n",
       "        -3.62167870e-01,  1.37995704e+00, -7.66919299e-01],\n",
       "       [-1.73340181e+00, -3.20031232e-01, -1.86298687e-01, ...,\n",
       "        -3.62167870e-01,  1.41192021e+00, -7.66919299e-01],\n",
       "       ...,\n",
       "       [ 1.72682006e+00, -4.29480975e-05, -1.86298687e-01, ...,\n",
       "        -3.62167870e-01, -1.31560393e+00,  1.30391816e+00],\n",
       "       [ 1.72768167e+00, -1.85606976e-01, -1.86298687e-01, ...,\n",
       "        -9.85033311e-02, -1.31608822e+00, -7.66919299e-01],\n",
       "       [ 1.72854328e+00, -7.00507951e-01, -1.86298687e-01, ...,\n",
       "        -3.62167870e-01, -1.31754109e+00, -7.66919299e-01]])"
      ]
     },
     "execution_count": 986,
     "metadata": {},
     "output_type": "execute_result"
    }
   ],
   "source": [
    "x = sc.fit_transform(df_D)\n",
    "x"
   ]
  },
  {
   "cell_type": "code",
   "execution_count": 1031,
   "id": "d1387c8e-73bd-4bda-af94-c91b17b62f3e",
   "metadata": {},
   "outputs": [
    {
     "data": {
      "text/html": [
       "<style>#sk-container-id-6 {\n",
       "  /* Definition of color scheme common for light and dark mode */\n",
       "  --sklearn-color-text: black;\n",
       "  --sklearn-color-line: gray;\n",
       "  /* Definition of color scheme for unfitted estimators */\n",
       "  --sklearn-color-unfitted-level-0: #fff5e6;\n",
       "  --sklearn-color-unfitted-level-1: #f6e4d2;\n",
       "  --sklearn-color-unfitted-level-2: #ffe0b3;\n",
       "  --sklearn-color-unfitted-level-3: chocolate;\n",
       "  /* Definition of color scheme for fitted estimators */\n",
       "  --sklearn-color-fitted-level-0: #f0f8ff;\n",
       "  --sklearn-color-fitted-level-1: #d4ebff;\n",
       "  --sklearn-color-fitted-level-2: #b3dbfd;\n",
       "  --sklearn-color-fitted-level-3: cornflowerblue;\n",
       "\n",
       "  /* Specific color for light theme */\n",
       "  --sklearn-color-text-on-default-background: var(--sg-text-color, var(--theme-code-foreground, var(--jp-content-font-color1, black)));\n",
       "  --sklearn-color-background: var(--sg-background-color, var(--theme-background, var(--jp-layout-color0, white)));\n",
       "  --sklearn-color-border-box: var(--sg-text-color, var(--theme-code-foreground, var(--jp-content-font-color1, black)));\n",
       "  --sklearn-color-icon: #696969;\n",
       "\n",
       "  @media (prefers-color-scheme: dark) {\n",
       "    /* Redefinition of color scheme for dark theme */\n",
       "    --sklearn-color-text-on-default-background: var(--sg-text-color, var(--theme-code-foreground, var(--jp-content-font-color1, white)));\n",
       "    --sklearn-color-background: var(--sg-background-color, var(--theme-background, var(--jp-layout-color0, #111)));\n",
       "    --sklearn-color-border-box: var(--sg-text-color, var(--theme-code-foreground, var(--jp-content-font-color1, white)));\n",
       "    --sklearn-color-icon: #878787;\n",
       "  }\n",
       "}\n",
       "\n",
       "#sk-container-id-6 {\n",
       "  color: var(--sklearn-color-text);\n",
       "}\n",
       "\n",
       "#sk-container-id-6 pre {\n",
       "  padding: 0;\n",
       "}\n",
       "\n",
       "#sk-container-id-6 input.sk-hidden--visually {\n",
       "  border: 0;\n",
       "  clip: rect(1px 1px 1px 1px);\n",
       "  clip: rect(1px, 1px, 1px, 1px);\n",
       "  height: 1px;\n",
       "  margin: -1px;\n",
       "  overflow: hidden;\n",
       "  padding: 0;\n",
       "  position: absolute;\n",
       "  width: 1px;\n",
       "}\n",
       "\n",
       "#sk-container-id-6 div.sk-dashed-wrapped {\n",
       "  border: 1px dashed var(--sklearn-color-line);\n",
       "  margin: 0 0.4em 0.5em 0.4em;\n",
       "  box-sizing: border-box;\n",
       "  padding-bottom: 0.4em;\n",
       "  background-color: var(--sklearn-color-background);\n",
       "}\n",
       "\n",
       "#sk-container-id-6 div.sk-container {\n",
       "  /* jupyter's `normalize.less` sets `[hidden] { display: none; }`\n",
       "     but bootstrap.min.css set `[hidden] { display: none !important; }`\n",
       "     so we also need the `!important` here to be able to override the\n",
       "     default hidden behavior on the sphinx rendered scikit-learn.org.\n",
       "     See: https://github.com/scikit-learn/scikit-learn/issues/21755 */\n",
       "  display: inline-block !important;\n",
       "  position: relative;\n",
       "}\n",
       "\n",
       "#sk-container-id-6 div.sk-text-repr-fallback {\n",
       "  display: none;\n",
       "}\n",
       "\n",
       "div.sk-parallel-item,\n",
       "div.sk-serial,\n",
       "div.sk-item {\n",
       "  /* draw centered vertical line to link estimators */\n",
       "  background-image: linear-gradient(var(--sklearn-color-text-on-default-background), var(--sklearn-color-text-on-default-background));\n",
       "  background-size: 2px 100%;\n",
       "  background-repeat: no-repeat;\n",
       "  background-position: center center;\n",
       "}\n",
       "\n",
       "/* Parallel-specific style estimator block */\n",
       "\n",
       "#sk-container-id-6 div.sk-parallel-item::after {\n",
       "  content: \"\";\n",
       "  width: 100%;\n",
       "  border-bottom: 2px solid var(--sklearn-color-text-on-default-background);\n",
       "  flex-grow: 1;\n",
       "}\n",
       "\n",
       "#sk-container-id-6 div.sk-parallel {\n",
       "  display: flex;\n",
       "  align-items: stretch;\n",
       "  justify-content: center;\n",
       "  background-color: var(--sklearn-color-background);\n",
       "  position: relative;\n",
       "}\n",
       "\n",
       "#sk-container-id-6 div.sk-parallel-item {\n",
       "  display: flex;\n",
       "  flex-direction: column;\n",
       "}\n",
       "\n",
       "#sk-container-id-6 div.sk-parallel-item:first-child::after {\n",
       "  align-self: flex-end;\n",
       "  width: 50%;\n",
       "}\n",
       "\n",
       "#sk-container-id-6 div.sk-parallel-item:last-child::after {\n",
       "  align-self: flex-start;\n",
       "  width: 50%;\n",
       "}\n",
       "\n",
       "#sk-container-id-6 div.sk-parallel-item:only-child::after {\n",
       "  width: 0;\n",
       "}\n",
       "\n",
       "/* Serial-specific style estimator block */\n",
       "\n",
       "#sk-container-id-6 div.sk-serial {\n",
       "  display: flex;\n",
       "  flex-direction: column;\n",
       "  align-items: center;\n",
       "  background-color: var(--sklearn-color-background);\n",
       "  padding-right: 1em;\n",
       "  padding-left: 1em;\n",
       "}\n",
       "\n",
       "\n",
       "/* Toggleable style: style used for estimator/Pipeline/ColumnTransformer box that is\n",
       "clickable and can be expanded/collapsed.\n",
       "- Pipeline and ColumnTransformer use this feature and define the default style\n",
       "- Estimators will overwrite some part of the style using the `sk-estimator` class\n",
       "*/\n",
       "\n",
       "/* Pipeline and ColumnTransformer style (default) */\n",
       "\n",
       "#sk-container-id-6 div.sk-toggleable {\n",
       "  /* Default theme specific background. It is overwritten whether we have a\n",
       "  specific estimator or a Pipeline/ColumnTransformer */\n",
       "  background-color: var(--sklearn-color-background);\n",
       "}\n",
       "\n",
       "/* Toggleable label */\n",
       "#sk-container-id-6 label.sk-toggleable__label {\n",
       "  cursor: pointer;\n",
       "  display: block;\n",
       "  width: 100%;\n",
       "  margin-bottom: 0;\n",
       "  padding: 0.5em;\n",
       "  box-sizing: border-box;\n",
       "  text-align: center;\n",
       "}\n",
       "\n",
       "#sk-container-id-6 label.sk-toggleable__label-arrow:before {\n",
       "  /* Arrow on the left of the label */\n",
       "  content: \"▸\";\n",
       "  float: left;\n",
       "  margin-right: 0.25em;\n",
       "  color: var(--sklearn-color-icon);\n",
       "}\n",
       "\n",
       "#sk-container-id-6 label.sk-toggleable__label-arrow:hover:before {\n",
       "  color: var(--sklearn-color-text);\n",
       "}\n",
       "\n",
       "/* Toggleable content - dropdown */\n",
       "\n",
       "#sk-container-id-6 div.sk-toggleable__content {\n",
       "  max-height: 0;\n",
       "  max-width: 0;\n",
       "  overflow: hidden;\n",
       "  text-align: left;\n",
       "  /* unfitted */\n",
       "  background-color: var(--sklearn-color-unfitted-level-0);\n",
       "}\n",
       "\n",
       "#sk-container-id-6 div.sk-toggleable__content.fitted {\n",
       "  /* fitted */\n",
       "  background-color: var(--sklearn-color-fitted-level-0);\n",
       "}\n",
       "\n",
       "#sk-container-id-6 div.sk-toggleable__content pre {\n",
       "  margin: 0.2em;\n",
       "  border-radius: 0.25em;\n",
       "  color: var(--sklearn-color-text);\n",
       "  /* unfitted */\n",
       "  background-color: var(--sklearn-color-unfitted-level-0);\n",
       "}\n",
       "\n",
       "#sk-container-id-6 div.sk-toggleable__content.fitted pre {\n",
       "  /* unfitted */\n",
       "  background-color: var(--sklearn-color-fitted-level-0);\n",
       "}\n",
       "\n",
       "#sk-container-id-6 input.sk-toggleable__control:checked~div.sk-toggleable__content {\n",
       "  /* Expand drop-down */\n",
       "  max-height: 200px;\n",
       "  max-width: 100%;\n",
       "  overflow: auto;\n",
       "}\n",
       "\n",
       "#sk-container-id-6 input.sk-toggleable__control:checked~label.sk-toggleable__label-arrow:before {\n",
       "  content: \"▾\";\n",
       "}\n",
       "\n",
       "/* Pipeline/ColumnTransformer-specific style */\n",
       "\n",
       "#sk-container-id-6 div.sk-label input.sk-toggleable__control:checked~label.sk-toggleable__label {\n",
       "  color: var(--sklearn-color-text);\n",
       "  background-color: var(--sklearn-color-unfitted-level-2);\n",
       "}\n",
       "\n",
       "#sk-container-id-6 div.sk-label.fitted input.sk-toggleable__control:checked~label.sk-toggleable__label {\n",
       "  background-color: var(--sklearn-color-fitted-level-2);\n",
       "}\n",
       "\n",
       "/* Estimator-specific style */\n",
       "\n",
       "/* Colorize estimator box */\n",
       "#sk-container-id-6 div.sk-estimator input.sk-toggleable__control:checked~label.sk-toggleable__label {\n",
       "  /* unfitted */\n",
       "  background-color: var(--sklearn-color-unfitted-level-2);\n",
       "}\n",
       "\n",
       "#sk-container-id-6 div.sk-estimator.fitted input.sk-toggleable__control:checked~label.sk-toggleable__label {\n",
       "  /* fitted */\n",
       "  background-color: var(--sklearn-color-fitted-level-2);\n",
       "}\n",
       "\n",
       "#sk-container-id-6 div.sk-label label.sk-toggleable__label,\n",
       "#sk-container-id-6 div.sk-label label {\n",
       "  /* The background is the default theme color */\n",
       "  color: var(--sklearn-color-text-on-default-background);\n",
       "}\n",
       "\n",
       "/* On hover, darken the color of the background */\n",
       "#sk-container-id-6 div.sk-label:hover label.sk-toggleable__label {\n",
       "  color: var(--sklearn-color-text);\n",
       "  background-color: var(--sklearn-color-unfitted-level-2);\n",
       "}\n",
       "\n",
       "/* Label box, darken color on hover, fitted */\n",
       "#sk-container-id-6 div.sk-label.fitted:hover label.sk-toggleable__label.fitted {\n",
       "  color: var(--sklearn-color-text);\n",
       "  background-color: var(--sklearn-color-fitted-level-2);\n",
       "}\n",
       "\n",
       "/* Estimator label */\n",
       "\n",
       "#sk-container-id-6 div.sk-label label {\n",
       "  font-family: monospace;\n",
       "  font-weight: bold;\n",
       "  display: inline-block;\n",
       "  line-height: 1.2em;\n",
       "}\n",
       "\n",
       "#sk-container-id-6 div.sk-label-container {\n",
       "  text-align: center;\n",
       "}\n",
       "\n",
       "/* Estimator-specific */\n",
       "#sk-container-id-6 div.sk-estimator {\n",
       "  font-family: monospace;\n",
       "  border: 1px dotted var(--sklearn-color-border-box);\n",
       "  border-radius: 0.25em;\n",
       "  box-sizing: border-box;\n",
       "  margin-bottom: 0.5em;\n",
       "  /* unfitted */\n",
       "  background-color: var(--sklearn-color-unfitted-level-0);\n",
       "}\n",
       "\n",
       "#sk-container-id-6 div.sk-estimator.fitted {\n",
       "  /* fitted */\n",
       "  background-color: var(--sklearn-color-fitted-level-0);\n",
       "}\n",
       "\n",
       "/* on hover */\n",
       "#sk-container-id-6 div.sk-estimator:hover {\n",
       "  /* unfitted */\n",
       "  background-color: var(--sklearn-color-unfitted-level-2);\n",
       "}\n",
       "\n",
       "#sk-container-id-6 div.sk-estimator.fitted:hover {\n",
       "  /* fitted */\n",
       "  background-color: var(--sklearn-color-fitted-level-2);\n",
       "}\n",
       "\n",
       "/* Specification for estimator info (e.g. \"i\" and \"?\") */\n",
       "\n",
       "/* Common style for \"i\" and \"?\" */\n",
       "\n",
       ".sk-estimator-doc-link,\n",
       "a:link.sk-estimator-doc-link,\n",
       "a:visited.sk-estimator-doc-link {\n",
       "  float: right;\n",
       "  font-size: smaller;\n",
       "  line-height: 1em;\n",
       "  font-family: monospace;\n",
       "  background-color: var(--sklearn-color-background);\n",
       "  border-radius: 1em;\n",
       "  height: 1em;\n",
       "  width: 1em;\n",
       "  text-decoration: none !important;\n",
       "  margin-left: 1ex;\n",
       "  /* unfitted */\n",
       "  border: var(--sklearn-color-unfitted-level-1) 1pt solid;\n",
       "  color: var(--sklearn-color-unfitted-level-1);\n",
       "}\n",
       "\n",
       ".sk-estimator-doc-link.fitted,\n",
       "a:link.sk-estimator-doc-link.fitted,\n",
       "a:visited.sk-estimator-doc-link.fitted {\n",
       "  /* fitted */\n",
       "  border: var(--sklearn-color-fitted-level-1) 1pt solid;\n",
       "  color: var(--sklearn-color-fitted-level-1);\n",
       "}\n",
       "\n",
       "/* On hover */\n",
       "div.sk-estimator:hover .sk-estimator-doc-link:hover,\n",
       ".sk-estimator-doc-link:hover,\n",
       "div.sk-label-container:hover .sk-estimator-doc-link:hover,\n",
       ".sk-estimator-doc-link:hover {\n",
       "  /* unfitted */\n",
       "  background-color: var(--sklearn-color-unfitted-level-3);\n",
       "  color: var(--sklearn-color-background);\n",
       "  text-decoration: none;\n",
       "}\n",
       "\n",
       "div.sk-estimator.fitted:hover .sk-estimator-doc-link.fitted:hover,\n",
       ".sk-estimator-doc-link.fitted:hover,\n",
       "div.sk-label-container:hover .sk-estimator-doc-link.fitted:hover,\n",
       ".sk-estimator-doc-link.fitted:hover {\n",
       "  /* fitted */\n",
       "  background-color: var(--sklearn-color-fitted-level-3);\n",
       "  color: var(--sklearn-color-background);\n",
       "  text-decoration: none;\n",
       "}\n",
       "\n",
       "/* Span, style for the box shown on hovering the info icon */\n",
       ".sk-estimator-doc-link span {\n",
       "  display: none;\n",
       "  z-index: 9999;\n",
       "  position: relative;\n",
       "  font-weight: normal;\n",
       "  right: .2ex;\n",
       "  padding: .5ex;\n",
       "  margin: .5ex;\n",
       "  width: min-content;\n",
       "  min-width: 20ex;\n",
       "  max-width: 50ex;\n",
       "  color: var(--sklearn-color-text);\n",
       "  box-shadow: 2pt 2pt 4pt #999;\n",
       "  /* unfitted */\n",
       "  background: var(--sklearn-color-unfitted-level-0);\n",
       "  border: .5pt solid var(--sklearn-color-unfitted-level-3);\n",
       "}\n",
       "\n",
       ".sk-estimator-doc-link.fitted span {\n",
       "  /* fitted */\n",
       "  background: var(--sklearn-color-fitted-level-0);\n",
       "  border: var(--sklearn-color-fitted-level-3);\n",
       "}\n",
       "\n",
       ".sk-estimator-doc-link:hover span {\n",
       "  display: block;\n",
       "}\n",
       "\n",
       "/* \"?\"-specific style due to the `<a>` HTML tag */\n",
       "\n",
       "#sk-container-id-6 a.estimator_doc_link {\n",
       "  float: right;\n",
       "  font-size: 1rem;\n",
       "  line-height: 1em;\n",
       "  font-family: monospace;\n",
       "  background-color: var(--sklearn-color-background);\n",
       "  border-radius: 1rem;\n",
       "  height: 1rem;\n",
       "  width: 1rem;\n",
       "  text-decoration: none;\n",
       "  /* unfitted */\n",
       "  color: var(--sklearn-color-unfitted-level-1);\n",
       "  border: var(--sklearn-color-unfitted-level-1) 1pt solid;\n",
       "}\n",
       "\n",
       "#sk-container-id-6 a.estimator_doc_link.fitted {\n",
       "  /* fitted */\n",
       "  border: var(--sklearn-color-fitted-level-1) 1pt solid;\n",
       "  color: var(--sklearn-color-fitted-level-1);\n",
       "}\n",
       "\n",
       "/* On hover */\n",
       "#sk-container-id-6 a.estimator_doc_link:hover {\n",
       "  /* unfitted */\n",
       "  background-color: var(--sklearn-color-unfitted-level-3);\n",
       "  color: var(--sklearn-color-background);\n",
       "  text-decoration: none;\n",
       "}\n",
       "\n",
       "#sk-container-id-6 a.estimator_doc_link.fitted:hover {\n",
       "  /* fitted */\n",
       "  background-color: var(--sklearn-color-fitted-level-3);\n",
       "}\n",
       "</style><div id=\"sk-container-id-6\" class=\"sk-top-container\"><div class=\"sk-text-repr-fallback\"><pre>DBSCAN(min_samples=3)</pre><b>In a Jupyter environment, please rerun this cell to show the HTML representation or trust the notebook. <br />On GitHub, the HTML representation is unable to render, please try loading this page with nbviewer.org.</b></div><div class=\"sk-container\" hidden><div class=\"sk-item\"><div class=\"sk-estimator fitted sk-toggleable\"><input class=\"sk-toggleable__control sk-hidden--visually\" id=\"sk-estimator-id-6\" type=\"checkbox\" checked><label for=\"sk-estimator-id-6\" class=\"sk-toggleable__label fitted sk-toggleable__label-arrow fitted\">&nbsp;&nbsp;DBSCAN<a class=\"sk-estimator-doc-link fitted\" rel=\"noreferrer\" target=\"_blank\" href=\"https://scikit-learn.org/1.4/modules/generated/sklearn.cluster.DBSCAN.html\">?<span>Documentation for DBSCAN</span></a><span class=\"sk-estimator-doc-link fitted\">i<span>Fitted</span></span></label><div class=\"sk-toggleable__content fitted\"><pre>DBSCAN(min_samples=3)</pre></div> </div></div></div></div>"
      ],
      "text/plain": [
       "DBSCAN(min_samples=3)"
      ]
     },
     "execution_count": 1031,
     "metadata": {},
     "output_type": "execute_result"
    }
   ],
   "source": [
    "db = DBSCAN(eps=0.5, min_samples=3) # default eps=0.5 minpts=3\n",
    "a = db.fit(x)\n",
    "a"
   ]
  },
  {
   "cell_type": "code",
   "execution_count": 1033,
   "id": "788aa6f0-1168-4102-8223-02a02fb00dfc",
   "metadata": {},
   "outputs": [
    {
     "data": {
      "text/plain": [
       "array([ 0,  0,  0, ..., 56,  0,  0], dtype=int64)"
      ]
     },
     "execution_count": 1033,
     "metadata": {},
     "output_type": "execute_result"
    }
   ],
   "source": [
    "a.labels_"
   ]
  },
  {
   "cell_type": "code",
   "execution_count": 1035,
   "id": "b655b6e3-1a79-439c-8059-f2d0956b4acc",
   "metadata": {},
   "outputs": [
    {
     "data": {
      "text/plain": [
       "array([ 0,  0,  0, ..., 56,  0,  0], dtype=int64)"
      ]
     },
     "execution_count": 1035,
     "metadata": {},
     "output_type": "execute_result"
    }
   ],
   "source": [
    "y = db.fit_predict(x)\n",
    "y"
   ]
  },
  {
   "cell_type": "code",
   "execution_count": 1037,
   "id": "5fb5c17d-0365-40dd-936f-032d486eec45",
   "metadata": {},
   "outputs": [
    {
     "data": {
      "text/plain": [
       "11916"
      ]
     },
     "execution_count": 1037,
     "metadata": {},
     "output_type": "execute_result"
    }
   ],
   "source": [
    "y.sum()"
   ]
  },
  {
   "cell_type": "code",
   "execution_count": 992,
   "id": "ddbdbe18-803e-4675-85df-47388a886b51",
   "metadata": {},
   "outputs": [
    {
     "data": {
      "text/html": [
       "<div>\n",
       "<style scoped>\n",
       "    .dataframe tbody tr th:only-of-type {\n",
       "        vertical-align: middle;\n",
       "    }\n",
       "\n",
       "    .dataframe tbody tr th {\n",
       "        vertical-align: top;\n",
       "    }\n",
       "\n",
       "    .dataframe thead th {\n",
       "        text-align: right;\n",
       "    }\n",
       "</style>\n",
       "<table border=\"1\" class=\"dataframe\">\n",
       "  <thead>\n",
       "    <tr style=\"text-align: right;\">\n",
       "      <th></th>\n",
       "      <th>0</th>\n",
       "    </tr>\n",
       "  </thead>\n",
       "  <tbody>\n",
       "    <tr>\n",
       "      <th>0</th>\n",
       "      <td>0</td>\n",
       "    </tr>\n",
       "    <tr>\n",
       "      <th>1</th>\n",
       "      <td>0</td>\n",
       "    </tr>\n",
       "    <tr>\n",
       "      <th>2</th>\n",
       "      <td>0</td>\n",
       "    </tr>\n",
       "    <tr>\n",
       "      <th>3</th>\n",
       "      <td>0</td>\n",
       "    </tr>\n",
       "    <tr>\n",
       "      <th>4</th>\n",
       "      <td>-1</td>\n",
       "    </tr>\n",
       "    <tr>\n",
       "      <th>...</th>\n",
       "      <td>...</td>\n",
       "    </tr>\n",
       "    <tr>\n",
       "      <th>3994</th>\n",
       "      <td>1</td>\n",
       "    </tr>\n",
       "    <tr>\n",
       "      <th>3995</th>\n",
       "      <td>1</td>\n",
       "    </tr>\n",
       "    <tr>\n",
       "      <th>3996</th>\n",
       "      <td>56</td>\n",
       "    </tr>\n",
       "    <tr>\n",
       "      <th>3997</th>\n",
       "      <td>0</td>\n",
       "    </tr>\n",
       "    <tr>\n",
       "      <th>3998</th>\n",
       "      <td>0</td>\n",
       "    </tr>\n",
       "  </tbody>\n",
       "</table>\n",
       "<p>3999 rows × 1 columns</p>\n",
       "</div>"
      ],
      "text/plain": [
       "       0\n",
       "0      0\n",
       "1      0\n",
       "2      0\n",
       "3      0\n",
       "4     -1\n",
       "...   ..\n",
       "3994   1\n",
       "3995   1\n",
       "3996  56\n",
       "3997   0\n",
       "3998   0\n",
       "\n",
       "[3999 rows x 1 columns]"
      ]
     },
     "execution_count": 992,
     "metadata": {},
     "output_type": "execute_result"
    }
   ],
   "source": [
    "y_d = pd.DataFrame(y)\n",
    "y_d"
   ]
  },
  {
   "cell_type": "code",
   "execution_count": 994,
   "id": "ee8bb526-d08b-4d97-9b93-81cbfdfb9126",
   "metadata": {},
   "outputs": [
    {
     "data": {
      "text/plain": [
       "array([ 0, -1,  1,  2,  3,  4,  6,  5,  7, 10,  8,  9, 12, 11, 13, 15, 14,\n",
       "       16, 19, 17, 18, 20, 22, 21, 23, 24, 27, 25, 26, 28, 29, 30, 33, 32,\n",
       "       35, 31, 36, 37, 34, 40, 39, 38, 41, 42, 45, 43, 44, 46, 48, 47, 51,\n",
       "       50, 49, 52, 55, 53, 54, 56, 57, 58], dtype=int64)"
      ]
     },
     "execution_count": 994,
     "metadata": {},
     "output_type": "execute_result"
    }
   ],
   "source": [
    "y_d[0].unique()"
   ]
  },
  {
   "cell_type": "markdown",
   "id": "6c4a9a72-16e3-47bd-b5bf-07672807a129",
   "metadata": {},
   "source": [
    "Visualization:\n",
    "\n",
    "\r\n",
    "Visualize the clustering results using scatter plots or other suitable visualization techniques.\r\n",
    "Plot the clusters with different colours to visualize the separation of data points belonging to different clusters.\r\n"
   ]
  },
  {
   "cell_type": "code",
   "execution_count": 1009,
   "id": "e31b3f1c-4c94-44c9-8b2a-58ed3d80e636",
   "metadata": {},
   "outputs": [
    {
     "data": {
      "text/plain": [
       "<matplotlib.collections.PathCollection at 0x1eaf9d994f0>"
      ]
     },
     "execution_count": 1009,
     "metadata": {},
     "output_type": "execute_result"
    },
    {
     "data": {
      "image/png": "[encoded data removed]",
      "text/plain": [
       "<Figure size 640x480 with 1 Axes>"
      ]
     },
     "metadata": {},
     "output_type": "display_data"
    }
   ],
   "source": [
    "plt.scatter(x[:,0],x[:,10],c=y,cmap='rainbow')   #  map between ID# and Days_since_enroll\n",
    "# c=y i.e. give color coding to each data point depending upon which cluster it belong to\n",
    "# In y we have cluster no for each data point and outlier information if it is -1\n",
    "# plot of any 2 columns from x i.e. index 0 and 4 column\n",
    "# clusters are overlapping, purple data points are far away so they are outliers. So not a goo model\n",
    "# Confirm it with silhouette score"
   ]
  },
  {
   "cell_type": "code",
   "execution_count": 1040,
   "id": "869d109f-d0e7-431e-a014-d6d6c88ecb3b",
   "metadata": {},
   "outputs": [
    {
     "data": {
      "text/plain": [
       "<matplotlib.collections.PathCollection at 0x1eaf8342120>"
      ]
     },
     "execution_count": 1040,
     "metadata": {},
     "output_type": "execute_result"
    },
    {
     "data": {
      "image/png": "[encoded data removed]",
      "text/plain": [
       "<Figure size 640x480 with 1 Axes>"
      ]
     },
     "metadata": {},
     "output_type": "display_data"
    }
   ],
   "source": [
    "plt.scatter(x[:,0],x[:,9],c=y,cmap='viridis')      # ID# and  Flight_trans_12"
   ]
  },
  {
   "cell_type": "code",
   "execution_count": 1029,
   "id": "18953b43-e74a-4de1-9776-b1710671fc43",
   "metadata": {},
   "outputs": [
    {
     "data": {
      "text/plain": [
       "<matplotlib.collections.PathCollection at 0x1eaf9e71c40>"
      ]
     },
     "execution_count": 1029,
     "metadata": {},
     "output_type": "execute_result"
    },
    {
     "data": {
      "image/png": "[encoded data removed]",
      "text/plain": [
       "<Figure size 640x480 with 1 Axes>"
      ]
     },
     "metadata": {},
     "output_type": "display_data"
    }
   ],
   "source": [
    "plt.scatter(x[:,0],x[:,2],c=y,cmap='rainbow')     # ID# and Qual_miles"
   ]
  },
  {
   "cell_type": "markdown",
   "id": "b0b93153-eaa4-4a06-af28-0302b9297b1d",
   "metadata": {},
   "source": [
    "Evaluation and Performance Metrics:\n",
    "\r\n",
    "Evaluate the quality of clustering using internal evaluation metrics such as silhouette score for K-Means and DBSCAN.\r\n"
   ]
  },
  {
   "cell_type": "code",
   "execution_count": 1045,
   "id": "001774bd-c736-433e-93d8-5a8b2a2cd5a6",
   "metadata": {},
   "outputs": [],
   "source": [
    "from sklearn.metrics import silhouette_score   # it is used to calculate accuracy"
   ]
  },
  {
   "cell_type": "code",
   "execution_count": 1049,
   "id": "d2c8e1e2-735b-485e-be82-3676f0ba8a62",
   "metadata": {},
   "outputs": [
    {
     "data": {
      "text/plain": [
       "-0.3478675429153123"
      ]
     },
     "execution_count": 1049,
     "metadata": {},
     "output_type": "execute_result"
    }
   ],
   "source": [
    "silhouette_score(x,y) # parameters: x:standardized version of data, y:cluster lables\n",
    "# score is near to zero i.e. clusters are overlapping"
   ]
  },
  {
   "cell_type": "code",
   "execution_count": 1051,
   "id": "8d8c4598-489a-4442-a851-439f7560da9e",
   "metadata": {},
   "outputs": [],
   "source": [
    "# Hyperparameter Tuning"
   ]
  },
  {
   "cell_type": "code",
   "execution_count": 1057,
   "id": "e72779b5-8763-4f95-b02b-96f6e1669458",
   "metadata": {},
   "outputs": [],
   "source": [
    "# Selecting Min_samples or MinPts:\n",
    "\n",
    "#Number of columns + 1: 12+1=13\n",
    "#Number of columns * 2: 12*2=24\n",
    "#Always keep min_samples at least 3"
   ]
  },
  {
   "cell_type": "code",
   "execution_count": 1059,
   "id": "cc0f4352-b0fd-4c7f-9344-df9b47dff51a",
   "metadata": {},
   "outputs": [],
   "source": [
    "#Find best eps value (K-dist Plot)"
   ]
  },
  {
   "cell_type": "code",
   "execution_count": 1063,
   "id": "843777ae-6926-4b11-a506-89ed81136002",
   "metadata": {},
   "outputs": [],
   "source": [
    "from sklearn.neighbors import NearestNeighbors\n",
    "# NearestNeighbors will calculate avg distance by considering nearest data point"
   ]
  },
  {
   "cell_type": "code",
   "execution_count": 1065,
   "id": "c3b2403c-ca8f-4844-9f23-452d30cdb8e1",
   "metadata": {},
   "outputs": [],
   "source": [
    "neighbor = NearestNeighbors(n_neighbors=3).fit(x) # fit will calculate distance using euclidean distance method\n",
    "# n_neighbors:min sample. Calculate nearest 3 data points of each data point\n",
    "# eps values will be selected randomly by algorithm"
   ]
  },
  {
   "cell_type": "code",
   "execution_count": 1067,
   "id": "5890e6c3-d2e6-47f8-a77c-b80369e87059",
   "metadata": {},
   "outputs": [],
   "source": [
    "# distances (calculated with eps value) are stored in neighbor\n",
    "d,index = neighbor.kneighbors(x)\n",
    "# kneighbors() will show distances.\n",
    "# It returns 2 values, d:euclidean distances: 3 distances are there in every list as we have selected min sample as 3\n",
    "# row index: which data point is close to which other data point"
   ]
  },
  {
   "cell_type": "code",
   "execution_count": 1069,
   "id": "53144707-8250-4231-9a6f-753417d18a7e",
   "metadata": {},
   "outputs": [
    {
     "data": {
      "text/plain": [
       "(array([[0.        , 0.13537867, 0.13743479],\n",
       "        [0.        , 0.11407578, 0.13743479],\n",
       "        [0.        , 0.21956162, 0.27251935],\n",
       "        ...,\n",
       "        [0.        , 0.19523778, 0.32719285],\n",
       "        [0.        , 0.28917928, 0.33007337],\n",
       "        [0.        , 0.02752204, 0.06504268]]),\n",
       " array([[   0,    3,    1],\n",
       "        [   1,    3,    0],\n",
       "        [   2,   13,   98],\n",
       "        ...,\n",
       "        [3996, 3877, 3800],\n",
       "        [3997, 3882, 3968],\n",
       "        [3998, 3981, 3975]], dtype=int64))"
      ]
     },
     "execution_count": 1069,
     "metadata": {},
     "output_type": "execute_result"
    }
   ],
   "source": [
    "neighbor.kneighbors(x)"
   ]
  },
  {
   "cell_type": "code",
   "execution_count": 1071,
   "id": "2de4f530-f7d3-41f7-8e51-c110cc841f31",
   "metadata": {},
   "outputs": [
    {
     "data": {
      "text/plain": [
       "array([[0.        , 0.13537867, 0.13743479],\n",
       "       [0.        , 0.11407578, 0.13743479],\n",
       "       [0.        , 0.21956162, 0.27251935],\n",
       "       ...,\n",
       "       [0.        , 0.19523778, 0.32719285],\n",
       "       [0.        , 0.28917928, 0.33007337],\n",
       "       [0.        , 0.02752204, 0.06504268]])"
      ]
     },
     "execution_count": 1071,
     "metadata": {},
     "output_type": "execute_result"
    }
   ],
   "source": [
    "d"
   ]
  },
  {
   "cell_type": "code",
   "execution_count": 1073,
   "id": "71341155-2349-443c-bd6d-843463c9f211",
   "metadata": {},
   "outputs": [
    {
     "data": {
      "text/plain": [
       "array([[   0,    3,    1],\n",
       "       [   1,    3,    0],\n",
       "       [   2,   13,   98],\n",
       "       ...,\n",
       "       [3996, 3877, 3800],\n",
       "       [3997, 3882, 3968],\n",
       "       [3998, 3981, 3975]], dtype=int64)"
      ]
     },
     "execution_count": 1073,
     "metadata": {},
     "output_type": "execute_result"
    }
   ],
   "source": [
    "index"
   ]
  },
  {
   "cell_type": "code",
   "execution_count": 1075,
   "id": "a8874815-ac48-43d4-8af7-1d52c58d4d3d",
   "metadata": {},
   "outputs": [
    {
     "data": {
      "text/plain": [
       "array([0.13537867, 0.11407578, 0.21956162, ..., 0.19523778, 0.28917928,\n",
       "       0.02752204])"
      ]
     },
     "execution_count": 1075,
     "metadata": {},
     "output_type": "execute_result"
    }
   ],
   "source": [
    "d[:,1]"
   ]
  },
  {
   "cell_type": "code",
   "execution_count": 1082,
   "id": "ba6f4978-7262-428c-a364-cb9bca931929",
   "metadata": {},
   "outputs": [],
   "source": [
    "distance = np.sort(d[:,1]) # consider all rows and 1st nearest neighbor values i.e.2nd column"
   ]
  },
  {
   "cell_type": "code",
   "execution_count": 1084,
   "id": "6e8c54e3-311e-4411-9fde-8d9ab7f48501",
   "metadata": {},
   "outputs": [
    {
     "data": {
      "text/plain": [
       "array([2.42270462e-03, 2.42270462e-03, 4.69027727e-03, ...,\n",
       "       6.66765339e+00, 6.68121018e+00, 7.58357087e+00])"
      ]
     },
     "execution_count": 1084,
     "metadata": {},
     "output_type": "execute_result"
    }
   ],
   "source": [
    "distance"
   ]
  },
  {
   "cell_type": "code",
   "execution_count": 1086,
   "id": "e33f8596-b674-4a41-892b-c94dea7348f2",
   "metadata": {},
   "outputs": [
    {
     "data": {
      "text/plain": [
       "Text(0.5, 1.0, 'K-Distance Graph')"
      ]
     },
     "execution_count": 1086,
     "metadata": {},
     "output_type": "execute_result"
    },
    {
     "data": {
      "image/png": "[encoded data removed]",
      "text/plain": [
       "<Figure size 640x480 with 1 Axes>"
      ]
     },
     "metadata": {},
     "output_type": "display_data"
    }
   ],
   "source": [
    "plt.plot(distance)\n",
    "plt.axhline(y=2, linestyle = '--', color='red') # y=2 means draw horizontal lint at eps=2\n",
    "plt.xlabel('Index')\n",
    "plt.ylabel('EPS')\n",
    "plt.title('K-Distance Graph')"
   ]
  },
  {
   "cell_type": "code",
   "execution_count": 1088,
   "id": "667149fb-77a2-44d6-a9ba-61e7eb82ebfc",
   "metadata": {},
   "outputs": [],
   "source": [
    " #Model Evaluation"
   ]
  },
  {
   "cell_type": "code",
   "execution_count": 1090,
   "id": "2a88eba7-2ad4-44c3-87c5-fc85b09228c0",
   "metadata": {},
   "outputs": [
    {
     "data": {
      "text/plain": [
       "array([0, 0, 0, ..., 1, 0, 0], dtype=int64)"
      ]
     },
     "execution_count": 1090,
     "metadata": {},
     "output_type": "execute_result"
    }
   ],
   "source": [
    "db = DBSCAN(eps=2,min_samples=3) # consider eps=2, try min_samples as 7 or 13 by rule 2 and 3 and check silhouette score\n",
    "yp = db.fit_predict(x)\n",
    "yp\n",
    "# outliers are reduced, Max clusters:1 i.e. only one cluster: cluster 0"
   ]
  },
  {
   "cell_type": "code",
   "execution_count": 1096,
   "id": "6e965b91-bf94-4b7d-8585-dce169d59bfd",
   "metadata": {},
   "outputs": [
    {
     "data": {
      "text/plain": [
       "<matplotlib.collections.PathCollection at 0x1eaf99b7e60>"
      ]
     },
     "execution_count": 1096,
     "metadata": {},
     "output_type": "execute_result"
    },
    {
     "data": {
      "image/png": "[encoded data removed]",
      "text/plain": [
       "<Figure size 640x480 with 1 Axes>"
      ]
     },
     "metadata": {},
     "output_type": "display_data"
    }
   ],
   "source": [
    "plt.scatter(x[:,1],x[:,2],c=yp,cmap='rainbow') \n"
   ]
  },
  {
   "cell_type": "code",
   "execution_count": 1098,
   "id": "1cd18211-886b-44b7-a2b4-c5aa1f8edb23",
   "metadata": {},
   "outputs": [
    {
     "data": {
      "text/plain": [
       "0.20982236466880683"
      ]
     },
     "execution_count": 1098,
     "metadata": {},
     "output_type": "execute_result"
    }
   ],
   "source": [
    "silhouette_score(x,yp) # good score"
   ]
  },
  {
   "cell_type": "code",
   "execution_count": 1100,
   "id": "3c733710-6979-4955-bc5e-1bf33d28001a",
   "metadata": {},
   "outputs": [
    {
     "data": {
      "text/html": [
       "<div>\n",
       "<style scoped>\n",
       "    .dataframe tbody tr th:only-of-type {\n",
       "        vertical-align: middle;\n",
       "    }\n",
       "\n",
       "    .dataframe tbody tr th {\n",
       "        vertical-align: top;\n",
       "    }\n",
       "\n",
       "    .dataframe thead th {\n",
       "        text-align: right;\n",
       "    }\n",
       "</style>\n",
       "<table border=\"1\" class=\"dataframe\">\n",
       "  <thead>\n",
       "    <tr style=\"text-align: right;\">\n",
       "      <th></th>\n",
       "      <th>ID#</th>\n",
       "      <th>Balance</th>\n",
       "      <th>Qual_miles</th>\n",
       "      <th>cc1_miles</th>\n",
       "      <th>cc2_miles</th>\n",
       "      <th>cc3_miles</th>\n",
       "      <th>Bonus_miles</th>\n",
       "      <th>Bonus_trans</th>\n",
       "      <th>Flight_miles_12mo</th>\n",
       "      <th>Flight_trans_12</th>\n",
       "      <th>Days_since_enroll</th>\n",
       "      <th>Award?</th>\n",
       "      <th>Cluster</th>\n",
       "    </tr>\n",
       "  </thead>\n",
       "  <tbody>\n",
       "    <tr>\n",
       "      <th>0</th>\n",
       "      <td>1</td>\n",
       "      <td>28143</td>\n",
       "      <td>0</td>\n",
       "      <td>1</td>\n",
       "      <td>1</td>\n",
       "      <td>1</td>\n",
       "      <td>174</td>\n",
       "      <td>1</td>\n",
       "      <td>0</td>\n",
       "      <td>0</td>\n",
       "      <td>7000</td>\n",
       "      <td>0</td>\n",
       "      <td>0</td>\n",
       "    </tr>\n",
       "    <tr>\n",
       "      <th>1</th>\n",
       "      <td>2</td>\n",
       "      <td>19244</td>\n",
       "      <td>0</td>\n",
       "      <td>1</td>\n",
       "      <td>1</td>\n",
       "      <td>1</td>\n",
       "      <td>215</td>\n",
       "      <td>2</td>\n",
       "      <td>0</td>\n",
       "      <td>0</td>\n",
       "      <td>6968</td>\n",
       "      <td>0</td>\n",
       "      <td>0</td>\n",
       "    </tr>\n",
       "    <tr>\n",
       "      <th>2</th>\n",
       "      <td>3</td>\n",
       "      <td>41354</td>\n",
       "      <td>0</td>\n",
       "      <td>1</td>\n",
       "      <td>1</td>\n",
       "      <td>1</td>\n",
       "      <td>4123</td>\n",
       "      <td>4</td>\n",
       "      <td>0</td>\n",
       "      <td>0</td>\n",
       "      <td>7034</td>\n",
       "      <td>0</td>\n",
       "      <td>0</td>\n",
       "    </tr>\n",
       "    <tr>\n",
       "      <th>3</th>\n",
       "      <td>4</td>\n",
       "      <td>14776</td>\n",
       "      <td>0</td>\n",
       "      <td>1</td>\n",
       "      <td>1</td>\n",
       "      <td>1</td>\n",
       "      <td>500</td>\n",
       "      <td>1</td>\n",
       "      <td>0</td>\n",
       "      <td>0</td>\n",
       "      <td>6952</td>\n",
       "      <td>0</td>\n",
       "      <td>0</td>\n",
       "    </tr>\n",
       "    <tr>\n",
       "      <th>4</th>\n",
       "      <td>5</td>\n",
       "      <td>97752</td>\n",
       "      <td>0</td>\n",
       "      <td>4</td>\n",
       "      <td>1</td>\n",
       "      <td>1</td>\n",
       "      <td>43300</td>\n",
       "      <td>26</td>\n",
       "      <td>2077</td>\n",
       "      <td>4</td>\n",
       "      <td>6935</td>\n",
       "      <td>1</td>\n",
       "      <td>1</td>\n",
       "    </tr>\n",
       "    <tr>\n",
       "      <th>...</th>\n",
       "      <td>...</td>\n",
       "      <td>...</td>\n",
       "      <td>...</td>\n",
       "      <td>...</td>\n",
       "      <td>...</td>\n",
       "      <td>...</td>\n",
       "      <td>...</td>\n",
       "      <td>...</td>\n",
       "      <td>...</td>\n",
       "      <td>...</td>\n",
       "      <td>...</td>\n",
       "      <td>...</td>\n",
       "      <td>...</td>\n",
       "    </tr>\n",
       "    <tr>\n",
       "      <th>3994</th>\n",
       "      <td>4017</td>\n",
       "      <td>18476</td>\n",
       "      <td>0</td>\n",
       "      <td>1</td>\n",
       "      <td>1</td>\n",
       "      <td>1</td>\n",
       "      <td>8525</td>\n",
       "      <td>4</td>\n",
       "      <td>200</td>\n",
       "      <td>1</td>\n",
       "      <td>1403</td>\n",
       "      <td>1</td>\n",
       "      <td>1</td>\n",
       "    </tr>\n",
       "    <tr>\n",
       "      <th>3995</th>\n",
       "      <td>4018</td>\n",
       "      <td>64385</td>\n",
       "      <td>0</td>\n",
       "      <td>1</td>\n",
       "      <td>1</td>\n",
       "      <td>1</td>\n",
       "      <td>981</td>\n",
       "      <td>5</td>\n",
       "      <td>0</td>\n",
       "      <td>0</td>\n",
       "      <td>1395</td>\n",
       "      <td>1</td>\n",
       "      <td>1</td>\n",
       "    </tr>\n",
       "    <tr>\n",
       "      <th>3996</th>\n",
       "      <td>4019</td>\n",
       "      <td>73597</td>\n",
       "      <td>0</td>\n",
       "      <td>3</td>\n",
       "      <td>1</td>\n",
       "      <td>1</td>\n",
       "      <td>25447</td>\n",
       "      <td>8</td>\n",
       "      <td>0</td>\n",
       "      <td>0</td>\n",
       "      <td>1402</td>\n",
       "      <td>1</td>\n",
       "      <td>1</td>\n",
       "    </tr>\n",
       "    <tr>\n",
       "      <th>3997</th>\n",
       "      <td>4020</td>\n",
       "      <td>54899</td>\n",
       "      <td>0</td>\n",
       "      <td>1</td>\n",
       "      <td>1</td>\n",
       "      <td>1</td>\n",
       "      <td>500</td>\n",
       "      <td>1</td>\n",
       "      <td>500</td>\n",
       "      <td>1</td>\n",
       "      <td>1401</td>\n",
       "      <td>0</td>\n",
       "      <td>0</td>\n",
       "    </tr>\n",
       "    <tr>\n",
       "      <th>3998</th>\n",
       "      <td>4021</td>\n",
       "      <td>3016</td>\n",
       "      <td>0</td>\n",
       "      <td>1</td>\n",
       "      <td>1</td>\n",
       "      <td>1</td>\n",
       "      <td>0</td>\n",
       "      <td>0</td>\n",
       "      <td>0</td>\n",
       "      <td>0</td>\n",
       "      <td>1398</td>\n",
       "      <td>0</td>\n",
       "      <td>0</td>\n",
       "    </tr>\n",
       "  </tbody>\n",
       "</table>\n",
       "<p>3999 rows × 13 columns</p>\n",
       "</div>"
      ],
      "text/plain": [
       "       ID#  Balance  Qual_miles  cc1_miles  cc2_miles  cc3_miles  Bonus_miles  \\\n",
       "0        1    28143           0          1          1          1          174   \n",
       "1        2    19244           0          1          1          1          215   \n",
       "2        3    41354           0          1          1          1         4123   \n",
       "3        4    14776           0          1          1          1          500   \n",
       "4        5    97752           0          4          1          1        43300   \n",
       "...    ...      ...         ...        ...        ...        ...          ...   \n",
       "3994  4017    18476           0          1          1          1         8525   \n",
       "3995  4018    64385           0          1          1          1          981   \n",
       "3996  4019    73597           0          3          1          1        25447   \n",
       "3997  4020    54899           0          1          1          1          500   \n",
       "3998  4021     3016           0          1          1          1            0   \n",
       "\n",
       "      Bonus_trans  Flight_miles_12mo  Flight_trans_12  Days_since_enroll  \\\n",
       "0               1                  0                0               7000   \n",
       "1               2                  0                0               6968   \n",
       "2               4                  0                0               7034   \n",
       "3               1                  0                0               6952   \n",
       "4              26               2077                4               6935   \n",
       "...           ...                ...              ...                ...   \n",
       "3994            4                200                1               1403   \n",
       "3995            5                  0                0               1395   \n",
       "3996            8                  0                0               1402   \n",
       "3997            1                500                1               1401   \n",
       "3998            0                  0                0               1398   \n",
       "\n",
       "      Award?  Cluster  \n",
       "0          0        0  \n",
       "1          0        0  \n",
       "2          0        0  \n",
       "3          0        0  \n",
       "4          1        1  \n",
       "...      ...      ...  \n",
       "3994       1        1  \n",
       "3995       1        1  \n",
       "3996       1        1  \n",
       "3997       0        0  \n",
       "3998       0        0  \n",
       "\n",
       "[3999 rows x 13 columns]"
      ]
     },
     "execution_count": 1100,
     "metadata": {},
     "output_type": "execute_result"
    }
   ],
   "source": [
    "# Analyze the clusters\n",
    "df['Cluster'] = yp\n",
    "df"
   ]
  },
  {
   "cell_type": "code",
   "execution_count": 1102,
   "id": "f7f71177-734c-4f6b-9b8a-aebd7255834f",
   "metadata": {},
   "outputs": [
    {
     "data": {
      "text/html": [
       "<div>\n",
       "<style scoped>\n",
       "    .dataframe tbody tr th:only-of-type {\n",
       "        vertical-align: middle;\n",
       "    }\n",
       "\n",
       "    .dataframe tbody tr th {\n",
       "        vertical-align: top;\n",
       "    }\n",
       "\n",
       "    .dataframe thead th {\n",
       "        text-align: right;\n",
       "    }\n",
       "</style>\n",
       "<table border=\"1\" class=\"dataframe\">\n",
       "  <thead>\n",
       "    <tr style=\"text-align: right;\">\n",
       "      <th></th>\n",
       "      <th>ID#</th>\n",
       "      <th>Balance</th>\n",
       "      <th>Qual_miles</th>\n",
       "      <th>cc1_miles</th>\n",
       "      <th>cc2_miles</th>\n",
       "      <th>cc3_miles</th>\n",
       "      <th>Bonus_miles</th>\n",
       "      <th>Bonus_trans</th>\n",
       "      <th>Flight_miles_12mo</th>\n",
       "      <th>Flight_trans_12</th>\n",
       "      <th>Days_since_enroll</th>\n",
       "      <th>Award?</th>\n",
       "      <th>Cluster</th>\n",
       "    </tr>\n",
       "  </thead>\n",
       "  <tbody>\n",
       "    <tr>\n",
       "      <th>8</th>\n",
       "      <td>9</td>\n",
       "      <td>443003</td>\n",
       "      <td>0</td>\n",
       "      <td>3</td>\n",
       "      <td>2</td>\n",
       "      <td>1</td>\n",
       "      <td>1753</td>\n",
       "      <td>43</td>\n",
       "      <td>3850</td>\n",
       "      <td>12</td>\n",
       "      <td>6948</td>\n",
       "      <td>1</td>\n",
       "      <td>-1</td>\n",
       "    </tr>\n",
       "    <tr>\n",
       "      <th>50</th>\n",
       "      <td>51</td>\n",
       "      <td>108137</td>\n",
       "      <td>0</td>\n",
       "      <td>1</td>\n",
       "      <td>1</td>\n",
       "      <td>1</td>\n",
       "      <td>6368</td>\n",
       "      <td>5</td>\n",
       "      <td>6368</td>\n",
       "      <td>5</td>\n",
       "      <td>6844</td>\n",
       "      <td>0</td>\n",
       "      <td>-1</td>\n",
       "    </tr>\n",
       "    <tr>\n",
       "      <th>65</th>\n",
       "      <td>66</td>\n",
       "      <td>53914</td>\n",
       "      <td>0</td>\n",
       "      <td>3</td>\n",
       "      <td>1</td>\n",
       "      <td>1</td>\n",
       "      <td>33767</td>\n",
       "      <td>45</td>\n",
       "      <td>5550</td>\n",
       "      <td>29</td>\n",
       "      <td>6826</td>\n",
       "      <td>1</td>\n",
       "      <td>-1</td>\n",
       "    </tr>\n",
       "    <tr>\n",
       "      <th>70</th>\n",
       "      <td>72</td>\n",
       "      <td>84409</td>\n",
       "      <td>5031</td>\n",
       "      <td>2</td>\n",
       "      <td>1</td>\n",
       "      <td>1</td>\n",
       "      <td>15436</td>\n",
       "      <td>16</td>\n",
       "      <td>1150</td>\n",
       "      <td>4</td>\n",
       "      <td>7766</td>\n",
       "      <td>0</td>\n",
       "      <td>-1</td>\n",
       "    </tr>\n",
       "    <tr>\n",
       "      <th>87</th>\n",
       "      <td>90</td>\n",
       "      <td>609477</td>\n",
       "      <td>0</td>\n",
       "      <td>3</td>\n",
       "      <td>1</td>\n",
       "      <td>1</td>\n",
       "      <td>21422</td>\n",
       "      <td>22</td>\n",
       "      <td>1200</td>\n",
       "      <td>8</td>\n",
       "      <td>6820</td>\n",
       "      <td>0</td>\n",
       "      <td>-1</td>\n",
       "    </tr>\n",
       "    <tr>\n",
       "      <th>...</th>\n",
       "      <td>...</td>\n",
       "      <td>...</td>\n",
       "      <td>...</td>\n",
       "      <td>...</td>\n",
       "      <td>...</td>\n",
       "      <td>...</td>\n",
       "      <td>...</td>\n",
       "      <td>...</td>\n",
       "      <td>...</td>\n",
       "      <td>...</td>\n",
       "      <td>...</td>\n",
       "      <td>...</td>\n",
       "      <td>...</td>\n",
       "    </tr>\n",
       "    <tr>\n",
       "      <th>3897</th>\n",
       "      <td>3920</td>\n",
       "      <td>179832</td>\n",
       "      <td>2954</td>\n",
       "      <td>3</td>\n",
       "      <td>1</td>\n",
       "      <td>1</td>\n",
       "      <td>18218</td>\n",
       "      <td>20</td>\n",
       "      <td>2500</td>\n",
       "      <td>5</td>\n",
       "      <td>1569</td>\n",
       "      <td>1</td>\n",
       "      <td>-1</td>\n",
       "    </tr>\n",
       "    <tr>\n",
       "      <th>3902</th>\n",
       "      <td>3925</td>\n",
       "      <td>13004</td>\n",
       "      <td>1000</td>\n",
       "      <td>1</td>\n",
       "      <td>1</td>\n",
       "      <td>1</td>\n",
       "      <td>13890</td>\n",
       "      <td>39</td>\n",
       "      <td>0</td>\n",
       "      <td>0</td>\n",
       "      <td>1572</td>\n",
       "      <td>1</td>\n",
       "      <td>-1</td>\n",
       "    </tr>\n",
       "    <tr>\n",
       "      <th>3911</th>\n",
       "      <td>3934</td>\n",
       "      <td>55922</td>\n",
       "      <td>2273</td>\n",
       "      <td>1</td>\n",
       "      <td>1</td>\n",
       "      <td>1</td>\n",
       "      <td>8104</td>\n",
       "      <td>19</td>\n",
       "      <td>4104</td>\n",
       "      <td>16</td>\n",
       "      <td>1552</td>\n",
       "      <td>0</td>\n",
       "      <td>-1</td>\n",
       "    </tr>\n",
       "    <tr>\n",
       "      <th>3917</th>\n",
       "      <td>3940</td>\n",
       "      <td>130748</td>\n",
       "      <td>0</td>\n",
       "      <td>4</td>\n",
       "      <td>1</td>\n",
       "      <td>1</td>\n",
       "      <td>65510</td>\n",
       "      <td>37</td>\n",
       "      <td>6349</td>\n",
       "      <td>7</td>\n",
       "      <td>1545</td>\n",
       "      <td>0</td>\n",
       "      <td>-1</td>\n",
       "    </tr>\n",
       "    <tr>\n",
       "      <th>3934</th>\n",
       "      <td>3957</td>\n",
       "      <td>76595</td>\n",
       "      <td>0</td>\n",
       "      <td>1</td>\n",
       "      <td>1</td>\n",
       "      <td>1</td>\n",
       "      <td>10577</td>\n",
       "      <td>2</td>\n",
       "      <td>9577</td>\n",
       "      <td>1</td>\n",
       "      <td>1515</td>\n",
       "      <td>0</td>\n",
       "      <td>-1</td>\n",
       "    </tr>\n",
       "  </tbody>\n",
       "</table>\n",
       "<p>171 rows × 13 columns</p>\n",
       "</div>"
      ],
      "text/plain": [
       "       ID#  Balance  Qual_miles  cc1_miles  cc2_miles  cc3_miles  Bonus_miles  \\\n",
       "8        9   443003           0          3          2          1         1753   \n",
       "50      51   108137           0          1          1          1         6368   \n",
       "65      66    53914           0          3          1          1        33767   \n",
       "70      72    84409        5031          2          1          1        15436   \n",
       "87      90   609477           0          3          1          1        21422   \n",
       "...    ...      ...         ...        ...        ...        ...          ...   \n",
       "3897  3920   179832        2954          3          1          1        18218   \n",
       "3902  3925    13004        1000          1          1          1        13890   \n",
       "3911  3934    55922        2273          1          1          1         8104   \n",
       "3917  3940   130748           0          4          1          1        65510   \n",
       "3934  3957    76595           0          1          1          1        10577   \n",
       "\n",
       "      Bonus_trans  Flight_miles_12mo  Flight_trans_12  Days_since_enroll  \\\n",
       "8              43               3850               12               6948   \n",
       "50              5               6368                5               6844   \n",
       "65             45               5550               29               6826   \n",
       "70             16               1150                4               7766   \n",
       "87             22               1200                8               6820   \n",
       "...           ...                ...              ...                ...   \n",
       "3897           20               2500                5               1569   \n",
       "3902           39                  0                0               1572   \n",
       "3911           19               4104               16               1552   \n",
       "3917           37               6349                7               1545   \n",
       "3934            2               9577                1               1515   \n",
       "\n",
       "      Award?  Cluster  \n",
       "8          1       -1  \n",
       "50         0       -1  \n",
       "65         1       -1  \n",
       "70         0       -1  \n",
       "87         0       -1  \n",
       "...      ...      ...  \n",
       "3897       1       -1  \n",
       "3902       1       -1  \n",
       "3911       0       -1  \n",
       "3917       0       -1  \n",
       "3934       0       -1  \n",
       "\n",
       "[171 rows x 13 columns]"
      ]
     },
     "execution_count": 1102,
     "metadata": {},
     "output_type": "execute_result"
    }
   ],
   "source": [
    "df[df['Cluster'] == -1]"
   ]
  },
  {
   "cell_type": "code",
   "execution_count": 1104,
   "id": "7f42ce73-44c1-454e-b9c1-a88ca722812f",
   "metadata": {},
   "outputs": [
    {
     "data": {
      "text/plain": [
       "171"
      ]
     },
     "execution_count": 1104,
     "metadata": {},
     "output_type": "execute_result"
    }
   ],
   "source": [
    "df[df['Cluster'] == -1].shape[0]"
   ]
  },
  {
   "cell_type": "code",
   "execution_count": 1106,
   "id": "1640f650-d914-42be-9625-85e514c42786",
   "metadata": {},
   "outputs": [
    {
     "data": {
      "text/plain": [
       "Cluster\n",
       " 0    2451\n",
       " 1    1331\n",
       "-1     171\n",
       " 3      16\n",
       " 7       9\n",
       " 2       7\n",
       " 5       4\n",
       " 8       4\n",
       " 6       3\n",
       " 4       3\n",
       "Name: count, dtype: int64"
      ]
     },
     "execution_count": 1106,
     "metadata": {},
     "output_type": "execute_result"
    }
   ],
   "source": [
    "df['Cluster'].value_counts()"
   ]
  },
  {
   "cell_type": "code",
   "execution_count": 1108,
   "id": "0db7f48a-e6dc-4584-a0db-dfb9eabdcf3d",
   "metadata": {},
   "outputs": [
    {
     "data": {
      "text/html": [
       "<div>\n",
       "<style scoped>\n",
       "    .dataframe tbody tr th:only-of-type {\n",
       "        vertical-align: middle;\n",
       "    }\n",
       "\n",
       "    .dataframe tbody tr th {\n",
       "        vertical-align: top;\n",
       "    }\n",
       "\n",
       "    .dataframe thead th {\n",
       "        text-align: right;\n",
       "    }\n",
       "</style>\n",
       "<table border=\"1\" class=\"dataframe\">\n",
       "  <thead>\n",
       "    <tr style=\"text-align: right;\">\n",
       "      <th></th>\n",
       "      <th>ID#</th>\n",
       "      <th>Balance</th>\n",
       "      <th>Qual_miles</th>\n",
       "      <th>cc1_miles</th>\n",
       "      <th>cc2_miles</th>\n",
       "      <th>cc3_miles</th>\n",
       "      <th>Bonus_miles</th>\n",
       "      <th>Bonus_trans</th>\n",
       "      <th>Flight_miles_12mo</th>\n",
       "      <th>Flight_trans_12</th>\n",
       "      <th>Days_since_enroll</th>\n",
       "      <th>Award?</th>\n",
       "      <th>Cluster</th>\n",
       "    </tr>\n",
       "  </thead>\n",
       "  <tbody>\n",
       "    <tr>\n",
       "      <th>0</th>\n",
       "      <td>1</td>\n",
       "      <td>28143</td>\n",
       "      <td>0</td>\n",
       "      <td>1</td>\n",
       "      <td>1</td>\n",
       "      <td>1</td>\n",
       "      <td>174</td>\n",
       "      <td>1</td>\n",
       "      <td>0</td>\n",
       "      <td>0</td>\n",
       "      <td>7000</td>\n",
       "      <td>0</td>\n",
       "      <td>0</td>\n",
       "    </tr>\n",
       "    <tr>\n",
       "      <th>1</th>\n",
       "      <td>2</td>\n",
       "      <td>19244</td>\n",
       "      <td>0</td>\n",
       "      <td>1</td>\n",
       "      <td>1</td>\n",
       "      <td>1</td>\n",
       "      <td>215</td>\n",
       "      <td>2</td>\n",
       "      <td>0</td>\n",
       "      <td>0</td>\n",
       "      <td>6968</td>\n",
       "      <td>0</td>\n",
       "      <td>0</td>\n",
       "    </tr>\n",
       "    <tr>\n",
       "      <th>2</th>\n",
       "      <td>3</td>\n",
       "      <td>41354</td>\n",
       "      <td>0</td>\n",
       "      <td>1</td>\n",
       "      <td>1</td>\n",
       "      <td>1</td>\n",
       "      <td>4123</td>\n",
       "      <td>4</td>\n",
       "      <td>0</td>\n",
       "      <td>0</td>\n",
       "      <td>7034</td>\n",
       "      <td>0</td>\n",
       "      <td>0</td>\n",
       "    </tr>\n",
       "    <tr>\n",
       "      <th>3</th>\n",
       "      <td>4</td>\n",
       "      <td>14776</td>\n",
       "      <td>0</td>\n",
       "      <td>1</td>\n",
       "      <td>1</td>\n",
       "      <td>1</td>\n",
       "      <td>500</td>\n",
       "      <td>1</td>\n",
       "      <td>0</td>\n",
       "      <td>0</td>\n",
       "      <td>6952</td>\n",
       "      <td>0</td>\n",
       "      <td>0</td>\n",
       "    </tr>\n",
       "    <tr>\n",
       "      <th>5</th>\n",
       "      <td>6</td>\n",
       "      <td>16420</td>\n",
       "      <td>0</td>\n",
       "      <td>1</td>\n",
       "      <td>1</td>\n",
       "      <td>1</td>\n",
       "      <td>0</td>\n",
       "      <td>0</td>\n",
       "      <td>0</td>\n",
       "      <td>0</td>\n",
       "      <td>6942</td>\n",
       "      <td>0</td>\n",
       "      <td>0</td>\n",
       "    </tr>\n",
       "    <tr>\n",
       "      <th>...</th>\n",
       "      <td>...</td>\n",
       "      <td>...</td>\n",
       "      <td>...</td>\n",
       "      <td>...</td>\n",
       "      <td>...</td>\n",
       "      <td>...</td>\n",
       "      <td>...</td>\n",
       "      <td>...</td>\n",
       "      <td>...</td>\n",
       "      <td>...</td>\n",
       "      <td>...</td>\n",
       "      <td>...</td>\n",
       "      <td>...</td>\n",
       "    </tr>\n",
       "    <tr>\n",
       "      <th>3991</th>\n",
       "      <td>4014</td>\n",
       "      <td>39142</td>\n",
       "      <td>0</td>\n",
       "      <td>3</td>\n",
       "      <td>1</td>\n",
       "      <td>1</td>\n",
       "      <td>14981</td>\n",
       "      <td>28</td>\n",
       "      <td>0</td>\n",
       "      <td>0</td>\n",
       "      <td>1408</td>\n",
       "      <td>0</td>\n",
       "      <td>0</td>\n",
       "    </tr>\n",
       "    <tr>\n",
       "      <th>3992</th>\n",
       "      <td>4015</td>\n",
       "      <td>11181</td>\n",
       "      <td>0</td>\n",
       "      <td>1</td>\n",
       "      <td>1</td>\n",
       "      <td>1</td>\n",
       "      <td>929</td>\n",
       "      <td>12</td>\n",
       "      <td>0</td>\n",
       "      <td>0</td>\n",
       "      <td>1407</td>\n",
       "      <td>0</td>\n",
       "      <td>0</td>\n",
       "    </tr>\n",
       "    <tr>\n",
       "      <th>3993</th>\n",
       "      <td>4016</td>\n",
       "      <td>3974</td>\n",
       "      <td>0</td>\n",
       "      <td>1</td>\n",
       "      <td>1</td>\n",
       "      <td>1</td>\n",
       "      <td>365</td>\n",
       "      <td>3</td>\n",
       "      <td>0</td>\n",
       "      <td>0</td>\n",
       "      <td>1397</td>\n",
       "      <td>0</td>\n",
       "      <td>0</td>\n",
       "    </tr>\n",
       "    <tr>\n",
       "      <th>3997</th>\n",
       "      <td>4020</td>\n",
       "      <td>54899</td>\n",
       "      <td>0</td>\n",
       "      <td>1</td>\n",
       "      <td>1</td>\n",
       "      <td>1</td>\n",
       "      <td>500</td>\n",
       "      <td>1</td>\n",
       "      <td>500</td>\n",
       "      <td>1</td>\n",
       "      <td>1401</td>\n",
       "      <td>0</td>\n",
       "      <td>0</td>\n",
       "    </tr>\n",
       "    <tr>\n",
       "      <th>3998</th>\n",
       "      <td>4021</td>\n",
       "      <td>3016</td>\n",
       "      <td>0</td>\n",
       "      <td>1</td>\n",
       "      <td>1</td>\n",
       "      <td>1</td>\n",
       "      <td>0</td>\n",
       "      <td>0</td>\n",
       "      <td>0</td>\n",
       "      <td>0</td>\n",
       "      <td>1398</td>\n",
       "      <td>0</td>\n",
       "      <td>0</td>\n",
       "    </tr>\n",
       "  </tbody>\n",
       "</table>\n",
       "<p>2451 rows × 13 columns</p>\n",
       "</div>"
      ],
      "text/plain": [
       "       ID#  Balance  Qual_miles  cc1_miles  cc2_miles  cc3_miles  Bonus_miles  \\\n",
       "0        1    28143           0          1          1          1          174   \n",
       "1        2    19244           0          1          1          1          215   \n",
       "2        3    41354           0          1          1          1         4123   \n",
       "3        4    14776           0          1          1          1          500   \n",
       "5        6    16420           0          1          1          1            0   \n",
       "...    ...      ...         ...        ...        ...        ...          ...   \n",
       "3991  4014    39142           0          3          1          1        14981   \n",
       "3992  4015    11181           0          1          1          1          929   \n",
       "3993  4016     3974           0          1          1          1          365   \n",
       "3997  4020    54899           0          1          1          1          500   \n",
       "3998  4021     3016           0          1          1          1            0   \n",
       "\n",
       "      Bonus_trans  Flight_miles_12mo  Flight_trans_12  Days_since_enroll  \\\n",
       "0               1                  0                0               7000   \n",
       "1               2                  0                0               6968   \n",
       "2               4                  0                0               7034   \n",
       "3               1                  0                0               6952   \n",
       "5               0                  0                0               6942   \n",
       "...           ...                ...              ...                ...   \n",
       "3991           28                  0                0               1408   \n",
       "3992           12                  0                0               1407   \n",
       "3993            3                  0                0               1397   \n",
       "3997            1                500                1               1401   \n",
       "3998            0                  0                0               1398   \n",
       "\n",
       "      Award?  Cluster  \n",
       "0          0        0  \n",
       "1          0        0  \n",
       "2          0        0  \n",
       "3          0        0  \n",
       "5          0        0  \n",
       "...      ...      ...  \n",
       "3991       0        0  \n",
       "3992       0        0  \n",
       "3993       0        0  \n",
       "3997       0        0  \n",
       "3998       0        0  \n",
       "\n",
       "[2451 rows x 13 columns]"
      ]
     },
     "execution_count": 1108,
     "metadata": {},
     "output_type": "execute_result"
    }
   ],
   "source": [
    "# extract only normal data points\n",
    "data = df[df['Cluster']==0]\n",
    "data"
   ]
  },
  {
   "cell_type": "code",
   "execution_count": null,
   "id": "3dbbd2f8-826f-4486-b001-b764d5536750",
   "metadata": {},
   "outputs": [],
   "source": []
  }
 ],
 "metadata": {
  "kernelspec": {
   "display_name": "Python 3 (ipykernel)",
   "language": "python",
   "name": "python3"
  },
  "language_info": {
   "codemirror_mode": {
    "name": "ipython",
    "version": 3
   },
   "file_extension": ".py",
   "mimetype": "text/x-python",
   "name": "python",
   "nbconvert_exporter": "python",
   "pygments_lexer": "ipython3",
   "version": "3.12.4"
  }
 },
 "nbformat": 4,
 "nbformat_minor": 5
}
